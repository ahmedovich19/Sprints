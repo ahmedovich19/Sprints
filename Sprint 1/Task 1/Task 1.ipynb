{
  "cells": [
    {
      "cell_type": "markdown",
      "metadata": {
        "id": "tJIgQbyn5O87"
      },
      "source": [
        "# Task 1 ( Basics )"
      ]
    },
    {
      "cell_type": "markdown",
      "metadata": {
        "id": "gZUR_pVW5O9J"
      },
      "source": [
        "# Question 1 :\n",
        "Define a function which can compute the sum of two numbers.\n",
        "\n",
        "Hints:\n",
        "Define a function with two numbers as arguments. You can compute the sum in the function and return the value."
      ]
    },
    {
      "cell_type": "code",
      "execution_count": null,
      "metadata": {
        "colab": {
          "base_uri": "https://localhost:8080/"
        },
        "id": "29-vOZri5O9L",
        "outputId": "550ed752-a521-4cfa-92d9-d3ea292b937c"
      },
      "outputs": [
        {
          "output_type": "stream",
          "name": "stdout",
          "text": [
            "7.0\n"
          ]
        }
      ],
      "source": [
        "def sumFunc(num1,num2):\n",
        "  num1 = float(num1)\n",
        "  num2= float(num2)\n",
        "  print(num1+num2)\n",
        "num1= 4\n",
        "num2= 3\n",
        "sumFunc(num1,num2)"
      ]
    },
    {
      "cell_type": "markdown",
      "metadata": {
        "id": "6sTaLa_i5O9O"
      },
      "source": [
        "# Question 2:\n",
        "\n",
        "    Write a method which can calculate square value of number\n",
        "\n",
        "Hints:\n",
        "    Using the ** operator\n"
      ]
    },
    {
      "cell_type": "code",
      "execution_count": null,
      "metadata": {
        "colab": {
          "base_uri": "https://localhost:8080/"
        },
        "id": "_ir3JOQH5O9P",
        "outputId": "74eb3c18-c2c0-4b89-8eed-52554ffb2770"
      },
      "outputs": [
        {
          "output_type": "stream",
          "name": "stdout",
          "text": [
            "25\n"
          ]
        }
      ],
      "source": [
        "def squFunc(num):\n",
        "  num = num**2\n",
        "  print(num)\n",
        "num  =5\n",
        "squFunc(num)"
      ]
    },
    {
      "cell_type": "markdown",
      "metadata": {
        "id": "9VlmZ8Wj5O9R"
      },
      "source": [
        "# Question 3\n",
        "Define a function that can convert a integer into a string and print it in console.\n",
        "\n",
        "Hints:\n",
        "\n",
        "Use str() to convert a number to string."
      ]
    },
    {
      "cell_type": "code",
      "execution_count": null,
      "metadata": {
        "colab": {
          "base_uri": "https://localhost:8080/"
        },
        "id": "jQOOKUy05O9T",
        "outputId": "18d1ce58-e805-4b9a-8bea-d2ebad5ea46c"
      },
      "outputs": [
        {
          "output_type": "stream",
          "name": "stdout",
          "text": [
            "5\n"
          ]
        }
      ],
      "source": [
        "def strNum(num):\n",
        "  print(str(num))\n",
        "num=5\n",
        "strNum(num)"
      ]
    },
    {
      "cell_type": "markdown",
      "metadata": {
        "id": "fx1Pwq8F5O9V"
      },
      "source": [
        "# Question 4 :\n",
        "Define a function that can receive two integral numbers in string form and compute their sum and then print it in console.\n",
        "\n",
        "Hints:\n",
        "\n",
        "Use int() to convert a string to integer."
      ]
    },
    {
      "cell_type": "code",
      "execution_count": null,
      "metadata": {
        "colab": {
          "base_uri": "https://localhost:8080/"
        },
        "id": "SeAxVJ2L5O9X",
        "outputId": "419b96cf-bbf9-4ff6-ab37-164c491eabac"
      },
      "outputs": [
        {
          "output_type": "stream",
          "name": "stdout",
          "text": [
            "9\n"
          ]
        }
      ],
      "source": [
        "def sumStrNum(num1,num2):\n",
        "  num1 = int(num1)\n",
        "  num2 = int(num2)\n",
        "  print(num1+num2)\n",
        "num1 = \"3\"\n",
        "num2=\"6\"\n",
        "sumStrNum(num1,num2)"
      ]
    },
    {
      "cell_type": "markdown",
      "metadata": {
        "id": "d7b4Guob5O9Y"
      },
      "source": [
        "# Question 5 :\n",
        "Define a function that can accept two strings as input and concatenate them and then print it in console.\n",
        "\n",
        "Hints:\n",
        "\n",
        "Use + to concatenate the strings\n"
      ]
    },
    {
      "cell_type": "code",
      "execution_count": null,
      "metadata": {
        "colab": {
          "base_uri": "https://localhost:8080/"
        },
        "id": "rioR8fm55O9b",
        "outputId": "cf0e4641-1469-4524-fcf4-88033522117a"
      },
      "outputs": [
        {
          "output_type": "stream",
          "name": "stdout",
          "text": [
            "ahmed 122\n"
          ]
        }
      ],
      "source": [
        "def twoStr(str1,str2):\n",
        "  str1= str(str1)\n",
        "  str2 = str(str2)\n",
        "  print(str1 + \" \" + str2)\n",
        "str1=\"ahmed\"\n",
        "str2=\"122\"\n",
        "twoStr(str1,str2)"
      ]
    },
    {
      "cell_type": "markdown",
      "metadata": {
        "id": "C-1k5B_W5O9c"
      },
      "source": [
        "# Question 6 :\n",
        "Define a function that can accept two strings as input and print the string with maximum length in console. If two strings have the same length, then the function should print al l strings line by line.\n",
        "\n",
        "Hints:\n",
        "\n",
        "Use len() function to get the length of a string"
      ]
    },
    {
      "cell_type": "code",
      "execution_count": null,
      "metadata": {
        "colab": {
          "base_uri": "https://localhost:8080/"
        },
        "id": "_h1aJilR5O9e",
        "outputId": "7a1b7818-322d-4241-da72-245661d08f80"
      },
      "outputs": [
        {
          "output_type": "stream",
          "name": "stdout",
          "text": [
            "hello \n",
            " world\n"
          ]
        }
      ],
      "source": [
        "def maxStr(str1,str2):\n",
        "  strLen1=len(str1)\n",
        "  strLen2=len(str2)\n",
        "  if strLen1 > strLen2:\n",
        "    print(str1)\n",
        "  elif strLen2 > strLen1:\n",
        "    print(str2)\n",
        "  else:\n",
        "    print(str1,\"\\n\",str2)\n",
        "str1=\"hello\"\n",
        "str2=\"world\"\n",
        "maxStr(str1,str2)"
      ]
    },
    {
      "cell_type": "markdown",
      "metadata": {
        "id": "aI_WD8D85O9f"
      },
      "source": [
        "# Question 7 :\n",
        "Define a function that can accept an integer number as input and print the \"It is an even number\" if the number is even, otherwise print \"It is an odd number\".\n",
        "\n",
        "Hints:\n",
        "\n",
        "Use % operator to check if a number is even or odd."
      ]
    },
    {
      "cell_type": "code",
      "execution_count": 45,
      "metadata": {
        "id": "gXhxAAi65O9h",
        "colab": {
          "base_uri": "https://localhost:8080/"
        },
        "outputId": "e2eead57-0604-4141-c40d-1d2cb45c06f3"
      },
      "outputs": [
        {
          "output_type": "stream",
          "name": "stdout",
          "text": [
            "it is even number\n"
          ]
        }
      ],
      "source": [
        "def evenOrOdd(num):\n",
        "  if num % 2 ==0:\n",
        "    print(\"it is even number\")\n",
        "  else:\n",
        "    print(\"it is odd number\")\n",
        "\n",
        "num =26\n",
        "evenOrOdd(num)"
      ]
    },
    {
      "cell_type": "markdown",
      "metadata": {
        "id": "qSMCwnxT5O9i"
      },
      "source": [
        "# Question 8 :\n",
        "Write a program which accepts a string as input to print \"Yes\" if the string is \"yes\" or \"YES\" or \"Yes\", otherwise print \"No\". \n",
        "\n",
        "Hints:\n",
        "\n",
        "Use if statement to judge condition."
      ]
    },
    {
      "cell_type": "code",
      "execution_count": null,
      "metadata": {
        "id": "cuSPsEPX5O9j",
        "colab": {
          "base_uri": "https://localhost:8080/"
        },
        "outputId": "d456cae1-0891-4bb5-8800-bb58fedc4f8e"
      },
      "outputs": [
        {
          "output_type": "stream",
          "name": "stdout",
          "text": [
            "Yes\n"
          ]
        }
      ],
      "source": [
        "def yesFunc(str):\n",
        "  if str == \"yes\" or \"YES\" or \"Yes\":\n",
        "    print(\"Yes\")\n",
        "  else:\n",
        "    print(\"No\")\n",
        "yesFunc(str)"
      ]
    },
    {
      "cell_type": "markdown",
      "metadata": {
        "id": "pr8Nk68h5O9l"
      },
      "source": [
        "# Question 9 :\n",
        "Write a program which will find all such numbers which are divisible by 7 but are not a multiple of 5,\n",
        "between 2000 and 3200 (both included).\n",
        "The numbers obtained should be printed in a comma-separated sequence on a single line.\n",
        "\n",
        "Hints: \n",
        "Consider use range(#begin, #end) method"
      ]
    },
    {
      "cell_type": "code",
      "execution_count": 57,
      "metadata": {
        "id": "RfKVaNj_5O9m",
        "colab": {
          "base_uri": "https://localhost:8080/"
        },
        "outputId": "d038dcd4-9a89-4a8a-f26b-1b4ea16a5980"
      },
      "outputs": [
        {
          "output_type": "stream",
          "name": "stdout",
          "text": [
            "2016,2051,2086,2121,2156,2191,2226,2261,2296,2331,2366,2401,2436,2471,2506,2541,2576,2611,2646,2681,2716,2751,2786,2821,2856,2891,2926,2961,2996,3031,3066,3101,3136,3171\n"
          ]
        }
      ],
      "source": [
        "wantedNumbers=[]\n",
        "for x in range(2000, 3201):\n",
        "    if (x%7==0) and (x%5==1):\n",
        "        wantedNumbers.append(str(x))\n",
        "print (','.join(wantedNumbers))"
      ]
    },
    {
      "cell_type": "markdown",
      "metadata": {
        "id": "5j1iJkBa5O9p"
      },
      "source": [
        "# Question 10 :\n",
        "Write a program which can compute the factorial of a given numbers.\n",
        "The results should be printed in a comma-separated sequence on a single line.\n",
        "Suppose the following input is supplied to the program:\n",
        "8\n",
        "Then, the output should be:\n",
        "40320\n",
        "\n",
        "Hints:\n",
        "In case of input data being supplied to the question, it should be assumed to be a console input."
      ]
    },
    {
      "cell_type": "code",
      "execution_count": null,
      "metadata": {
        "id": "Wim2AqHf5O9q"
      },
      "outputs": [],
      "source": [
        "#Search about it please"
      ]
    },
    {
      "cell_type": "code",
      "execution_count": 82,
      "metadata": {
        "id": "cxWp9FN95O9s",
        "colab": {
          "base_uri": "https://localhost:8080/"
        },
        "outputId": "d5899136-02cb-4e50-96f5-ae658115e293"
      },
      "outputs": [
        {
          "output_type": "stream",
          "name": "stdout",
          "text": [
            "4\n",
            "4,24\n"
          ]
        }
      ],
      "source": [
        "def fact(x):\n",
        "    if x == 0:\n",
        "        return 1\n",
        "    \n",
        "    return x * fact(x - 1)\n",
        "    \n",
        "x=int(input())\n",
        "print(x,fact(x),sep=\",\")"
      ]
    },
    {
      "cell_type": "code",
      "execution_count": null,
      "metadata": {
        "id": "DnBoOGDG5O9t"
      },
      "outputs": [],
      "source": [
        ""
      ]
    },
    {
      "cell_type": "code",
      "execution_count": null,
      "metadata": {
        "id": "nTShcip15O9t"
      },
      "outputs": [],
      "source": [
        ""
      ]
    },
    {
      "cell_type": "markdown",
      "metadata": {
        "id": "0gUkrhhK5O9u"
      },
      "source": [
        "# Question 11 :\n",
        "Write a program that computes the value of a+aa+aaa+aaaa with a given digit as the value of a.\n",
        "Suppose the following input is supplied to the program:\n",
        "9\n",
        "Then, the output should be:\n",
        "11106\n",
        "\n",
        "Hints:\n",
        "In case of input data being supplied to the question, it should be assumed to be a console input.\n"
      ]
    },
    {
      "cell_type": "code",
      "execution_count": null,
      "metadata": {
        "id": "SAY_bDw95O9v"
      },
      "outputs": [],
      "source": [
        ""
      ]
    },
    {
      "cell_type": "code",
      "execution_count": null,
      "metadata": {
        "id": "etyNHag25O9y"
      },
      "outputs": [],
      "source": [
        ""
      ]
    }
  ],
  "metadata": {
    "kernelspec": {
      "display_name": "Python 3",
      "language": "python",
      "name": "python3"
    },
    "language_info": {
      "codemirror_mode": {
        "name": "ipython",
        "version": 3
      },
      "file_extension": ".py",
      "mimetype": "text/x-python",
      "name": "python",
      "nbconvert_exporter": "python",
      "pygments_lexer": "ipython3",
      "version": "3.6.7"
    },
    "colab": {
      "name": "Task 1.ipynb",
      "provenance": [],
      "collapsed_sections": []
    }
  },
  "nbformat": 4,
  "nbformat_minor": 0
}