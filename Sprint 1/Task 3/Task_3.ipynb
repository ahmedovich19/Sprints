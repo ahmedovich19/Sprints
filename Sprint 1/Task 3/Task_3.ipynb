{
  "cells": [
    {
      "cell_type": "markdown",
      "metadata": {
        "id": "DeTs6hRO4bff"
      },
      "source": [
        "# Question 1\n",
        "Write a Python program to count the number of characters (character frequency) in a string.\n",
        "\n",
        "Examble: ('google.com') =>  {'g': 2, 'o': 3, 'l': 1, 'e': 1, '.': 1, 'c': 1, 'm': 1}\n"
      ]
    },
    {
      "cell_type": "code",
      "execution_count": null,
      "metadata": {
        "id": "0HFtDYu04b1q",
        "colab": {
          "base_uri": "https://localhost:8080/"
        },
        "outputId": "31ed89bc-4c1e-45f3-f238-6f82ed368a57"
      },
      "outputs": [
        {
          "output_type": "stream",
          "name": "stdout",
          "text": [
            "{'g': 2, 'o': 3, 'l': 1, 'e': 1, '.': 1, 'c': 1, 'm': 1}\n"
          ]
        }
      ],
      "source": [
        "string='google.com'\n",
        "  \n",
        "all_freq = {}\n",
        "for i in string:\n",
        "    if i in all_freq:\n",
        "      all_freq[i] += 1\n",
        "    else:\n",
        "      all_freq[i] = 1\n",
        "print(all_freq)\n"
      ]
    },
    {
      "cell_type": "code",
      "source": [
        "from collections import Counter\n",
        "x = Counter(string)\n",
        "print(str(x))"
      ],
      "metadata": {
        "colab": {
          "base_uri": "https://localhost:8080/"
        },
        "id": "ZvVOR7u48MkO",
        "outputId": "96b13b7d-049d-40de-9577-fae6e393631c"
      },
      "execution_count": null,
      "outputs": [
        {
          "output_type": "stream",
          "name": "stdout",
          "text": [
            "Counter({'o': 3, 'g': 2, 'l': 1, 'e': 1, '.': 1, 'c': 1, 'm': 1})\n"
          ]
        }
      ]
    },
    {
      "cell_type": "markdown",
      "metadata": {
        "id": "6-tGh4G44b3P"
      },
      "source": [
        "# Question  2"
      ]
    },
    {
      "cell_type": "raw",
      "metadata": {
        "id": "tACfNoBR4b3R"
      },
      "source": [
        "\n",
        "Write a Python program to get a string from a given string where all occurrences of its first char have been changed to '$', except the first char itself.\n",
        "\n",
        "Examble => 'restart' => 'resta$t'\n",
        "           'google'  => 'goo$le'"
      ]
    },
    {
      "cell_type": "code",
      "execution_count": null,
      "metadata": {
        "id": "CnrCorTH4b3U",
        "colab": {
          "base_uri": "https://localhost:8080/"
        },
        "outputId": "d97ba0c6-add3-4636-cacb-877de943d582"
      },
      "outputs": [
        {
          "output_type": "stream",
          "name": "stdout",
          "text": [
            "resta$t\n"
          ]
        }
      ],
      "source": [
        "def change_char(str1):\n",
        "  char = str1[0]\n",
        "  str1 = str1.replace(char, '$')\n",
        "  str1 = char + str1[1:]\n",
        "\n",
        "  return str1\n",
        "\n",
        "print(change_char('restart'))"
      ]
    },
    {
      "cell_type": "markdown",
      "metadata": {
        "id": "u4eu3A3j4b3V"
      },
      "source": [
        "# Question 3"
      ]
    },
    {
      "cell_type": "raw",
      "metadata": {
        "id": "b3nnKRTy4b3X"
      },
      "source": [
        "Write a Python program to get a single string from two given strings, separated by a space and swap the first two characters of each string.\n",
        "Examble : 'abc', 'xyz' => xyc abz"
      ]
    },
    {
      "cell_type": "code",
      "execution_count": null,
      "metadata": {
        "id": "-6xdqG_94b3b",
        "colab": {
          "base_uri": "https://localhost:8080/"
        },
        "outputId": "e54aeb35-b3fb-4a2b-dbd4-e69cc77cabfe"
      },
      "outputs": [
        {
          "output_type": "stream",
          "name": "stdout",
          "text": [
            "xyc abz\n"
          ]
        }
      ],
      "source": [
        "def swap_func(str1,str2):\n",
        "  new_str1 = str2[:2] + str1[2:]\n",
        "  new_str2 = str1[:2] + str2[2:]\n",
        "  return(new_str1 + \" \" +new_str2)\n",
        "print(swap_func('abc', 'xyz'))\n"
      ]
    },
    {
      "cell_type": "markdown",
      "metadata": {
        "id": "vhTzw0vU4b3e"
      },
      "source": [
        "# Question 4"
      ]
    },
    {
      "cell_type": "raw",
      "metadata": {
        "id": "fYceh7NT4b3g"
      },
      "source": [
        "Write a Python program to add 'ing' at the end of a given string (length should be at least 3). If the given string already ends with 'ing' then add 'ly' instead. If the string length of the given string is less than 3, leave it unchanged.\n",
        "Examble => ab => ab\n",
        "        => abc => abcing \n",
        "        => string => stringly"
      ]
    },
    {
      "cell_type": "code",
      "execution_count": null,
      "metadata": {
        "id": "f_Y14r_W4b3i",
        "colab": {
          "base_uri": "https://localhost:8080/"
        },
        "outputId": "61d42f4d-aaff-4952-839a-d23939846a58"
      },
      "outputs": [
        {
          "output_type": "stream",
          "name": "stdout",
          "text": [
            "playing\n"
          ]
        }
      ],
      "source": [
        "def ing_func(str):\n",
        "  if len(str) < 3: \n",
        "    return(str)\n",
        "  else:\n",
        "    if \"ing\" in str[-3:]:\n",
        "      str = str + \"ly\"\n",
        "      return(str)\n",
        "    else:\n",
        "      str+=\"ing\"\n",
        "      return(str)\n",
        "print(ing_func(\"play\"))"
      ]
    },
    {
      "cell_type": "markdown",
      "metadata": {
        "id": "7BC50hNj4b3j"
      },
      "source": [
        "# Question 5"
      ]
    },
    {
      "cell_type": "markdown",
      "metadata": {
        "id": "LuXcmWnX4b3l"
      },
      "source": [
        "Write a Python script to display the various Date Time formats.\n",
        "\n",
        "a) Current date and time\n",
        "b) Current year\n",
        "c) Month of year\n",
        "d) Week number of the year\n",
        "e) Weekday of the week\n",
        "f) Day of year\n",
        "g) Day of the month\n",
        "h) Day of week\n",
        "Solution=>\n",
        "import time\n",
        "import datetime"
      ]
    },
    {
      "cell_type": "code",
      "execution_count": null,
      "metadata": {
        "id": "d2LHBfTZ4b3w",
        "colab": {
          "base_uri": "https://localhost:8080/"
        },
        "outputId": "5e057ddf-6467-4c4c-b40d-4426770ce121"
      },
      "outputs": [
        {
          "output_type": "stream",
          "name": "stdout",
          "text": [
            "Current date and time:  2022-03-31 13:00:58.641586\n",
            "Current year:  2022\n",
            "Month of year:  March\n",
            "Week number of the year:  13\n",
            "Weekday of the week:  4\n",
            "Day of year:  090\n",
            "Day of the month :  31\n",
            "Day of week:  Thursday\n"
          ]
        }
      ],
      "source": [
        "import time\n",
        "import datetime\n",
        "print(\"Current date and time: \" , datetime.datetime.now())\n",
        "print(\"Current year: \", datetime.date.today().strftime(\"%Y\"))\n",
        "print(\"Month of year: \", datetime.date.today().strftime(\"%B\"))\n",
        "print(\"Week number of the year: \", datetime.date.today().strftime(\"%W\"))\n",
        "print(\"Weekday of the week: \", datetime.date.today().strftime(\"%w\"))\n",
        "print(\"Day of year: \", datetime.date.today().strftime(\"%j\"))\n",
        "print(\"Day of the month : \", datetime.date.today().strftime(\"%d\"))\n",
        "print(\"Day of week: \", datetime.date.today().strftime(\"%A\"))"
      ]
    },
    {
      "cell_type": "markdown",
      "metadata": {
        "id": "vaDLv9da4b3y"
      },
      "source": [
        "# Question 6"
      ]
    },
    {
      "cell_type": "markdown",
      "metadata": {
        "id": "QNQMC7Hk4b3y"
      },
      "source": [
        "Write a Python program to print yesterday, today, tomorrow.\n",
        "\n",
        "Yesterday :  2020-01-17\n",
        "Today :  2020-01-18\n",
        "Tomorrow :  2020-01-19\n",
        "Solution=>\n",
        "import datetime"
      ]
    },
    {
      "cell_type": "code",
      "execution_count": null,
      "metadata": {
        "id": "bVSJ34Gs4b30",
        "colab": {
          "base_uri": "https://localhost:8080/"
        },
        "outputId": "db893a61-729f-4f21-a2b0-e523c8738ecd"
      },
      "outputs": [
        {
          "output_type": "stream",
          "name": "stdout",
          "text": [
            "Yesterday :  2022-03-30\n",
            "Today :  2022-03-31\n",
            "Tomorrow :  2022-04-01\n"
          ]
        }
      ],
      "source": [
        "import datetime \n",
        "today = datetime.date.today()\n",
        "yesterday = today - datetime.timedelta(days = 1)\n",
        "tomorrow = today + datetime.timedelta(days = 1)\n",
        "\n",
        "print('Yesterday : ',yesterday)\n",
        "print('Today : ',today)\n",
        "print('Tomorrow : ',tomorrow)"
      ]
    },
    {
      "cell_type": "markdown",
      "metadata": {
        "id": "oO6VoMUU4b31"
      },
      "source": [
        "# Question 7"
      ]
    },
    {
      "cell_type": "markdown",
      "metadata": {
        "id": "2RnX70X84b32"
      },
      "source": [
        "\n",
        "Write a Python program to add 5 seconds with the current time.\n",
        "\n",
        "\n",
        "Current time=> 13:09:38.491219\n",
        "After 5 seconds => 13:09:43.491219"
      ]
    },
    {
      "cell_type": "code",
      "execution_count": 45,
      "metadata": {
        "id": "u9677lnz4b33",
        "colab": {
          "base_uri": "https://localhost:8080/"
        },
        "outputId": "b25cb8f5-a463-466f-df25-3c15aa33fa00"
      },
      "outputs": [
        {
          "output_type": "stream",
          "name": "stdout",
          "text": [
            "Current time:  14:39:13.325318\n",
            "After 5 seconds:  14:39:18.325318\n"
          ]
        }
      ],
      "source": [
        "import datetime \n",
        "\n",
        "x= datetime.datetime.now()\n",
        "y = x + datetime.timedelta(0,5)\n",
        "print(\"Current time: \",x.time())\n",
        "print(\"After 5 seconds: \",y.time())"
      ]
    },
    {
      "cell_type": "markdown",
      "metadata": {
        "id": "g2gOUIDM4b34"
      },
      "source": [
        "# Question 8"
      ]
    },
    {
      "cell_type": "code",
      "execution_count": null,
      "metadata": {
        "id": "l-Mb5FbL4b38"
      },
      "outputs": [],
      "source": [
        "Write a Python program to convert Year/Month/Day to Day of Year."
      ]
    },
    {
      "cell_type": "code",
      "execution_count": 53,
      "metadata": {
        "id": "MVTNDi5i4b4B",
        "colab": {
          "base_uri": "https://localhost:8080/"
        },
        "outputId": "6965bc38-063a-4d88-cf12-badd898b5288"
      },
      "outputs": [
        {
          "output_type": "stream",
          "name": "stdout",
          "text": [
            "90\n"
          ]
        }
      ],
      "source": [
        "import datetime\n",
        "today = datetime.datetime.now()\n",
        "day_of_year = (today - datetime.datetime(today.year, 1, 1)).days + 1\n",
        "print(day_of_year)"
      ]
    },
    {
      "cell_type": "markdown",
      "metadata": {
        "id": "uStaYxoo4b4C"
      },
      "source": [
        "# Question 9"
      ]
    },
    {
      "cell_type": "raw",
      "metadata": {
        "id": "9SuQ6-7h4b4D"
      },
      "source": [
        "Write a Python program to get current time in milliseconds."
      ]
    },
    {
      "cell_type": "code",
      "execution_count": 69,
      "metadata": {
        "id": "U7Fm2pup4b4D",
        "colab": {
          "base_uri": "https://localhost:8080/"
        },
        "outputId": "6020c66c-572d-4131-b5cb-c2768b15effa"
      },
      "outputs": [
        {
          "output_type": "stream",
          "name": "stdout",
          "text": [
            "63442\n"
          ]
        }
      ],
      "source": [
        "import datetime\n",
        "time_in_microseconds = datetime.datetime.now().microsecond\n",
        "print(time_in_microseconds)\n"
      ]
    },
    {
      "cell_type": "markdown",
      "metadata": {
        "id": "xG-OYZnX4b4E"
      },
      "source": [
        "# Question 10"
      ]
    },
    {
      "cell_type": "raw",
      "metadata": {
        "id": "UfaPh0ma4b4G"
      },
      "source": [
        "Write a Python program to get week number."
      ]
    },
    {
      "cell_type": "code",
      "execution_count": 81,
      "metadata": {
        "id": "ssEsPrm14b4H",
        "colab": {
          "base_uri": "https://localhost:8080/"
        },
        "outputId": "33fcc4b7-9871-4a45-bc9a-418cc9aef56d"
      },
      "outputs": [
        {
          "output_type": "stream",
          "name": "stdout",
          "text": [
            "13\n",
            "13\n"
          ]
        }
      ],
      "source": [
        "import datetime\n",
        "print(datetime.datetime.now().strftime('%W'))\n",
        "print(datetime.datetime.now().isocalendar()[1])"
      ]
    },
    {
      "cell_type": "markdown",
      "metadata": {
        "id": "kDZbh0wI4b4I"
      },
      "source": [
        "# Question 11"
      ]
    },
    {
      "cell_type": "raw",
      "metadata": {
        "id": "mbPmEvW34b4I"
      },
      "source": [
        "Write a Python program that matches a string that has an 'a' followed by anything, ending in 'b'."
      ]
    },
    {
      "cell_type": "code",
      "source": [
        "import re\n",
        "def text_match(text):\n",
        "  patterns = '^a.*?b$'\n",
        "  if re.search(patterns,  text):\n",
        "    return 'Found a match!'\n",
        "  else:\n",
        "    return('Not matched!')\n",
        "\n",
        "print(text_match(\"aabbbbd\"))\n",
        "print(text_match(\"aabAbbbc\"))\n",
        "print(text_match(\"accddbbjjjb\"))"
      ],
      "metadata": {
        "colab": {
          "base_uri": "https://localhost:8080/"
        },
        "id": "aR69d0zAgueA",
        "outputId": "630ebc22-5306-4331-f39f-1e15090b7158"
      },
      "execution_count": 86,
      "outputs": [
        {
          "output_type": "stream",
          "name": "stdout",
          "text": [
            "Not matched!\n",
            "Not matched!\n",
            "Found a match!\n"
          ]
        }
      ]
    },
    {
      "cell_type": "markdown",
      "metadata": {
        "id": "zdCExT2x4b4M"
      },
      "source": [
        "# Question 12"
      ]
    },
    {
      "cell_type": "raw",
      "metadata": {
        "id": "DV0YaLdp4b5U"
      },
      "source": [
        "Write a Python program to calculate the area of a trapezoid."
      ]
    },
    {
      "cell_type": "code",
      "execution_count": 87,
      "metadata": {
        "id": "PAN-MbpF4b4N",
        "colab": {
          "base_uri": "https://localhost:8080/"
        },
        "outputId": "c46b2e3e-cc24-4875-d543-93f2d269cb47"
      },
      "outputs": [
        {
          "output_type": "stream",
          "name": "stdout",
          "text": [
            "Height of trapezoid: 6\n",
            "Base one value: 3\n",
            "Base two value: 5\n",
            "Area is: 24.0\n"
          ]
        }
      ],
      "source": [
        "height = float(input(\"Height of trapezoid: \"))\n",
        "base_1 = float(input('Base one value: '))\n",
        "base_2 = float(input('Base two value: '))\n",
        "area = ((base_1 + base_2) / 2) * height\n",
        "print(\"Area is:\", area)"
      ]
    }
  ],
  "metadata": {
    "kernelspec": {
      "display_name": "Python 3",
      "language": "python",
      "name": "python3"
    },
    "language_info": {
      "codemirror_mode": {
        "name": "ipython",
        "version": 3
      },
      "file_extension": ".py",
      "mimetype": "text/x-python",
      "name": "python",
      "nbconvert_exporter": "python",
      "pygments_lexer": "ipython3",
      "version": "3.6.7"
    },
    "colab": {
      "name": "Task 3.ipynb",
      "provenance": [],
      "collapsed_sections": []
    }
  },
  "nbformat": 4,
  "nbformat_minor": 0
}