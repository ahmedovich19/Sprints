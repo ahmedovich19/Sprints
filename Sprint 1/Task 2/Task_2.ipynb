{
  "cells": [
    {
      "cell_type": "markdown",
      "metadata": {
        "id": "RNkryC6eagBS"
      },
      "source": [
        "# Question 1:\n",
        "Define a function which can print a dictionary where the keys are numbers between 1 and 3 (both included) and the values are square of keys.\n",
        "\n",
        "Hints:\n",
        "\n",
        "Use dict[key]=value pattern to put entry into a dictionary.\n",
        "Use ** operator to get power of a number."
      ]
    },
    {
      "cell_type": "code",
      "execution_count": null,
      "metadata": {
        "colab": {
          "base_uri": "https://localhost:8080/"
        },
        "id": "wcdDPvARagBt",
        "outputId": "be67ecde-30e2-4d5f-d82f-196409ddad5b"
      },
      "outputs": [
        {
          "output_type": "stream",
          "name": "stdout",
          "text": [
            "{1: 1, 2: 4, 3: 9}\n"
          ]
        }
      ],
      "source": [
        "def squFunc():\n",
        "  dict={}\n",
        "  for i in range(1,4):\n",
        "    dict[i]=i**2\n",
        "  print(dict)\n",
        "squFunc()"
      ]
    },
    {
      "cell_type": "markdown",
      "metadata": {
        "id": "h1WPRUw5agBw"
      },
      "source": [
        "# Question 2:\n",
        "Define a function which can generate a dictionary where the keys are numbers between 1 and 20 (both included) and the values are square of keys. The function should just print the values only.\n",
        "\n",
        "Hints:\n",
        "\n",
        "Use dict[key]=value pattern to put entry into a dictionary.\n",
        "Use ** operator to get power of a number.\n",
        "Use range() for loops.\n",
        "Use keys() to iterate keys in the dictionary. Also we can use item() to get key/value pairs.\n"
      ]
    },
    {
      "cell_type": "code",
      "execution_count": null,
      "metadata": {
        "id": "qZC-hGLtagB0",
        "colab": {
          "base_uri": "https://localhost:8080/"
        },
        "outputId": "939ce004-983a-4fe4-9d5e-6c564d20d255"
      },
      "outputs": [
        {
          "output_type": "stream",
          "name": "stdout",
          "text": [
            "1\n",
            "4\n",
            "9\n",
            "16\n",
            "25\n",
            "36\n",
            "49\n",
            "64\n",
            "81\n",
            "100\n",
            "121\n",
            "144\n",
            "169\n",
            "196\n",
            "225\n",
            "256\n",
            "289\n",
            "324\n",
            "361\n",
            "400\n"
          ]
        }
      ],
      "source": [
        "def squValues():\n",
        "  dict={}\n",
        "  for i in range(1,21):\n",
        "    dict[i]=i**2\n",
        "  for x,y in dict.items():\n",
        "      print(y)\n",
        "squValues()"
      ]
    },
    {
      "cell_type": "markdown",
      "metadata": {
        "id": "mO6UjubBagB4"
      },
      "source": [
        "# Question 3:\n",
        "Define a function which can generate a dictionary where the keys are numbers between 1 and 20 (both included) and the values are square of keys. The function should just print the keys only.\n",
        "\n",
        "Hints:\n",
        "\n",
        "Use dict[key]=value pattern to put entry into a dictionary.\n",
        "Use ** operator to get power of a number.\n",
        "Use range() for loops.\n",
        "Use keys() to iterate keys in the dictionary. Also we can use item() to get key/value pairs.\n"
      ]
    },
    {
      "cell_type": "code",
      "execution_count": null,
      "metadata": {
        "id": "jU1eBVcEagB5",
        "colab": {
          "base_uri": "https://localhost:8080/"
        },
        "outputId": "327f4f10-5b48-4a91-caa2-f0011857dfca"
      },
      "outputs": [
        {
          "output_type": "stream",
          "name": "stdout",
          "text": [
            "1\n",
            "2\n",
            "3\n",
            "4\n",
            "5\n",
            "6\n",
            "7\n",
            "8\n",
            "9\n",
            "10\n",
            "11\n",
            "12\n",
            "13\n",
            "14\n",
            "15\n",
            "16\n",
            "17\n",
            "18\n",
            "19\n",
            "20\n"
          ]
        }
      ],
      "source": [
        "def squValues():\n",
        "  dict={}\n",
        "  for i in range(1,21):\n",
        "    dict[i]=i**2\n",
        "  for x,y in dict.items():\n",
        "      print(x)\n",
        "squValues()"
      ]
    },
    {
      "cell_type": "markdown",
      "metadata": {
        "id": "Wq-aZD8QagB7"
      },
      "source": [
        "# Question 4 \n",
        "Write a Python program to check a dictionary is empty or not"
      ]
    },
    {
      "cell_type": "code",
      "execution_count": null,
      "metadata": {
        "id": "wn1l5gL4agB9",
        "colab": {
          "base_uri": "https://localhost:8080/"
        },
        "outputId": "cd0fd1b8-485b-442e-d634-6f3e83c9bad9"
      },
      "outputs": [
        {
          "output_type": "stream",
          "name": "stdout",
          "text": [
            "the dictionary is not empty\n"
          ]
        }
      ],
      "source": [
        "dicto = {1:2}\n",
        "if bool(dicto) is False:\n",
        "  print('the dictionary is empty')\n",
        "else:\n",
        "  print(\"the dictionary is not empty\")"
      ]
    },
    {
      "cell_type": "markdown",
      "metadata": {
        "id": "WBEhW40KagB_"
      },
      "source": [
        "# Question 5\n",
        "\n",
        "Write a Python program to test whether every element in s is in t and every element in t is in s.\n",
        "\n"
      ]
    },
    {
      "cell_type": "code",
      "execution_count": null,
      "metadata": {
        "id": "KljSVzigagCA",
        "colab": {
          "base_uri": "https://localhost:8080/"
        },
        "outputId": "4f4c27f3-038d-411c-d3a3-5f5a15f1e34b"
      },
      "outputs": [
        {
          "output_type": "stream",
          "name": "stdout",
          "text": [
            "the elements in list \"s\" and \"t\" are the same\n"
          ]
        }
      ],
      "source": [
        "s = [0, 1, 2]\n",
        "t = [1, 0, 2]\n",
        "if set(s) == set(t):\n",
        "  print('the elements in list \\\"s\\\" and \\\"t\\\" are the same')\n",
        "else:\n",
        "  print('the elements in list \\\"s\\\" and \\\"t\\\" are not the same')"
      ]
    },
    {
      "cell_type": "markdown",
      "metadata": {
        "id": "VQjG8LfsagCB"
      },
      "source": [
        "# Question 6\n",
        "Create set 1 and set 2 then \n",
        "Write a Python program to 1- create an intersection of sets.\n",
        "2-  a union of sets.\n",
        "3- create set difference.\n",
        "4- a symmetric difference."
      ]
    },
    {
      "cell_type": "code",
      "execution_count": null,
      "metadata": {
        "id": "9EuxTDrYagCD",
        "colab": {
          "base_uri": "https://localhost:8080/"
        },
        "outputId": "c1fbeff8-26c9-4a78-e856-778c0e67ae3f"
      },
      "outputs": [
        {
          "output_type": "stream",
          "name": "stdout",
          "text": [
            "{0, 1, 2}\n",
            "{0, 1, 2, 3, 4, 5, 7, 8, 9}\n",
            "{8, 9, 7}\n",
            "{3, 4, 5, 7, 8, 9}\n"
          ]
        }
      ],
      "source": [
        "set1={0,1,2,7,8,9}\n",
        "set2={0,1,2,3,4,5}\n",
        "print(set1.intersection(set2))\n",
        "print(set1.union(set2))\n",
        "print(set1.difference(set2))\n",
        "print(set1.symmetric_difference(set2))"
      ]
    },
    {
      "cell_type": "markdown",
      "metadata": {
        "id": "FWiRA9szagCE"
      },
      "source": [
        "# Question  7\n",
        "Write a Python program to use of frozensets."
      ]
    },
    {
      "cell_type": "code",
      "execution_count": null,
      "metadata": {
        "id": "CsgOnmzgagCF",
        "colab": {
          "base_uri": "https://localhost:8080/"
        },
        "outputId": "d792f294-79a6-4096-f903-963e8796534f"
      },
      "outputs": [
        {
          "output_type": "stream",
          "name": "stdout",
          "text": [
            "frozenset({1, 2, 3})\n"
          ]
        }
      ],
      "source": [
        "x = frozenset([1,2,3])\n",
        "print(x)"
      ]
    },
    {
      "cell_type": "markdown",
      "metadata": {
        "id": "4O3n9Z9DagCF"
      },
      "source": [
        "# Question 8\n",
        "Write a Python program to find maximum and the minimum value in a set."
      ]
    },
    {
      "cell_type": "code",
      "execution_count": null,
      "metadata": {
        "id": "sGV0MWaiagCG",
        "colab": {
          "base_uri": "https://localhost:8080/"
        },
        "outputId": "a75d7482-95bd-4902-ca31-fd4ce133a642"
      },
      "outputs": [
        {
          "output_type": "stream",
          "name": "stdout",
          "text": [
            "9\n",
            "2\n"
          ]
        }
      ],
      "source": [
        "set=([3,6,2,8,9,4,5])\n",
        "maxi=max(set)\n",
        "mino = min(set)\n",
        "print(maxi)\n",
        "print(mino)"
      ]
    },
    {
      "cell_type": "markdown",
      "metadata": {
        "id": "pJSbftyLagCH"
      },
      "source": [
        "# Question9 :\n",
        "With a given tuple (1,2,3,4,5,6,7,8,9,10), write a program to print the first half values in one line and the last half values in one line. \n",
        "\n",
        "Hints:\n",
        "\n",
        "Use [n1:n2] notation to get a slice from a tuple."
      ]
    },
    {
      "cell_type": "code",
      "execution_count": null,
      "metadata": {
        "id": "kvR_rwpoagCI",
        "colab": {
          "base_uri": "https://localhost:8080/"
        },
        "outputId": "81295667-2d65-4c4b-b6aa-1d3d9d80ef5e"
      },
      "outputs": [
        {
          "output_type": "stream",
          "name": "stdout",
          "text": [
            "(1, 2, 3, 4, 5)\n",
            "(6, 7, 8, 9, 10)\n"
          ]
        }
      ],
      "source": [
        "x = (1,2,3,4,5,6,7,8,9,10)\n",
        "full_x_len = int(len(tuple))\n",
        "half_x_len = int(len(tuple)/2)\n",
        "print(x[0:half_x_len])\n",
        "print(x[half_x_len:])\n"
      ]
    },
    {
      "cell_type": "markdown",
      "metadata": {
        "id": "DI91ifWmagCJ"
      },
      "source": [
        "# Question 10 :\n",
        "You are required to write a program to sort the (name, age, height) tuples by ascending order where name is string, age and height are numbers. The tuples are input by console. The sort criteria is:\n",
        "1: Sort based on name;\n",
        "2: Then sort based on age;\n",
        "3: Then sort by score.\n",
        "The priority is that name > age > score.\n",
        "If the following tuples are given as input to the program:\n",
        "Tom,19,80\n",
        "John,20,90\n",
        "Jony,17,91\n",
        "Jony,17,93\n",
        "Json,21,85\n",
        "Then, the output of the program should be:\n",
        "[('John', '20', '90'), ('Jony', '17', '91'), ('Jony', '17', '93'), ('Json', '21', '85'), ('Tom', '19', '80')]\n",
        "\n",
        "Hints:\n",
        "In case of input data being supplied to the question, it should be assumed to be a console input.\n",
        "We use itemgetter to enable multiple sort keys.\n",
        "\n",
        "Solutions:\n",
        "from operator import itemgetter, attrgetter\n"
      ]
    },
    {
      "cell_type": "code",
      "execution_count": null,
      "metadata": {
        "id": "5Rk6GWlTagCN",
        "colab": {
          "base_uri": "https://localhost:8080/"
        },
        "outputId": "99bcf5c3-a79b-486c-c28c-67ed08b22527"
      },
      "outputs": [
        {
          "output_type": "stream",
          "name": "stdout",
          "text": [
            "Tom,19,80 John,20,90 Jony,17,91 Jony,17,93 Json,21,85\n",
            "Sort based on name:  [('John', '20', '90'), ('Jony', '17', '91'), ('Jony', '17', '93'), ('Json', '21', '85'), ('Tom', '19', '80')]\n",
            "Sort based on age:  [('Jony', '17', '91'), ('Jony', '17', '93'), ('Tom', '19', '80'), ('John', '20', '90'), ('Json', '21', '85')]\n",
            "Sort based on height:  [('Tom', '19', '80'), ('Json', '21', '85'), ('John', '20', '90'), ('Jony', '17', '91'), ('Jony', '17', '93')]\n"
          ]
        }
      ],
      "source": [
        "from operator import itemgetter\n",
        "info = input()\n",
        "info_list = [tuple(case.split(',')) for case in info.split(' ')] \n",
        "print('Sort based on name: ',sorted(info_list, key=itemgetter(0)))\n",
        "print('Sort based on age: ',sorted(info_list, key=itemgetter(1)))\n",
        "print('Sort based on height: ',sorted(info_list, key=itemgetter(2)))"
      ]
    },
    {
      "cell_type": "markdown",
      "metadata": {
        "id": "hR0t8IKVagCP"
      },
      "source": [
        "# Question 11:\n",
        "\n",
        "Please write a program to generate a list with 5 random numbers between 100 and 200 inclusive.\n",
        "\n",
        "\n",
        "\n",
        "Hints:\n",
        "Use random.sample() to generate a list of random values."
      ]
    },
    {
      "cell_type": "code",
      "execution_count": null,
      "metadata": {
        "id": "0Bcns8EKagCQ",
        "colab": {
          "base_uri": "https://localhost:8080/"
        },
        "outputId": "4e8ac10e-c101-4038-f440-129c4ed0af29"
      },
      "outputs": [
        {
          "output_type": "stream",
          "name": "stdout",
          "text": [
            "[162, 117, 153, 102, 185]\n"
          ]
        }
      ],
      "source": [
        "import random\n",
        "print(random.sample([i for i in range(100,200)],5))"
      ]
    },
    {
      "cell_type": "markdown",
      "metadata": {
        "id": "m3Mb4r2vagCQ"
      },
      "source": [
        "# Question 12\n",
        "Please write a program to randomly generate a list with 5 even numbers between 100 and 200 inclusive.\n",
        "\n",
        "Hints:\n",
        "Use random.sample() to generate a list of random values."
      ]
    },
    {
      "cell_type": "code",
      "execution_count": null,
      "metadata": {
        "id": "8YORrC7EagCR",
        "colab": {
          "base_uri": "https://localhost:8080/"
        },
        "outputId": "60ded2a1-2e4e-4ff8-ee40-8e915a1afc0e"
      },
      "outputs": [
        {
          "output_type": "stream",
          "name": "stdout",
          "text": [
            "[156, 192, 126, 106, 104]\n"
          ]
        }
      ],
      "source": [
        "import random\n",
        "print(random.sample([i for i in range(100,200) if i%2==0], 5))"
      ]
    },
    {
      "cell_type": "markdown",
      "metadata": {
        "id": "WFJzE5hZagCR"
      },
      "source": [
        "# Question 13\n",
        "Please write a program to randomly print a integer number between 7 and 15 inclusive.\n",
        "\n",
        "Hints: Use random.randrange() to a random integer in a given range.\n",
        "\n"
      ]
    },
    {
      "cell_type": "code",
      "execution_count": null,
      "metadata": {
        "id": "eJMDMH_2agCS",
        "colab": {
          "base_uri": "https://localhost:8080/"
        },
        "outputId": "ca609f1b-9f31-4042-a9a7-e7f751703d43"
      },
      "outputs": [
        {
          "output_type": "stream",
          "name": "stdout",
          "text": [
            "14\n",
            "9\n"
          ]
        }
      ],
      "source": [
        "import random\n",
        "print(random.randint(7,15))\n",
        "print(random.randrange(7,15))"
      ]
    },
    {
      "cell_type": "markdown",
      "metadata": {
        "id": "2XpL_1HwagCS"
      },
      "source": [
        "# Question 14\n",
        "\n",
        "Please write a program to print the running time of execution of \"1+1\" for 100 times.\n",
        "Hints:\n",
        "Use timeit() function to measure the running time.\n"
      ]
    },
    {
      "cell_type": "code",
      "execution_count": null,
      "metadata": {
        "id": "yAvtkNQOagCT",
        "colab": {
          "base_uri": "https://localhost:8080/"
        },
        "outputId": "3c6a7f0a-31ff-4d26-f3c1-ab7a55b5fe8c"
      },
      "outputs": [
        {
          "output_type": "stream",
          "name": "stdout",
          "text": [
            "1.7303455080000276\n"
          ]
        }
      ],
      "source": [
        "from timeit import Timer\n",
        "t = Timer(\"for i in range(100):1+1\")\n",
        "print(t.timeit())"
      ]
    },
    {
      "cell_type": "markdown",
      "metadata": {
        "id": "NismNCfDagCT"
      },
      "source": [
        "# Question 15 :\n",
        "\n",
        "Please write a program to shuffle and print the list [3,6,7,8].\n",
        "\n",
        "Hints:\n",
        "Use shuffle() function to shuffle a list.\n"
      ]
    },
    {
      "cell_type": "code",
      "execution_count": 42,
      "metadata": {
        "id": "DpbwEnKSagCU",
        "colab": {
          "base_uri": "https://localhost:8080/"
        },
        "outputId": "37fcd306-2b6a-4bce-bdb0-b5058a73327d"
      },
      "outputs": [
        {
          "output_type": "stream",
          "name": "stdout",
          "text": [
            "[8, 3, 7, 6]\n"
          ]
        }
      ],
      "source": [
        "from random import shuffle\n",
        "x = [3,6,7,8]\n",
        "shuffle(x)\n",
        "print(x)"
      ]
    },
    {
      "cell_type": "code",
      "execution_count": null,
      "metadata": {
        "id": "r0_53n5xagCV"
      },
      "outputs": [],
      "source": [
        ""
      ]
    }
  ],
  "metadata": {
    "kernelspec": {
      "display_name": "Python 3",
      "language": "python",
      "name": "python3"
    },
    "language_info": {
      "codemirror_mode": {
        "name": "ipython",
        "version": 3
      },
      "file_extension": ".py",
      "mimetype": "text/x-python",
      "name": "python",
      "nbconvert_exporter": "python",
      "pygments_lexer": "ipython3",
      "version": "3.6.7"
    },
    "colab": {
      "name": "Task 2.ipynb",
      "provenance": [],
      "collapsed_sections": []
    }
  },
  "nbformat": 4,
  "nbformat_minor": 0
}