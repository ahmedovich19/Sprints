{
  "cells": [
    {
      "cell_type": "markdown",
      "metadata": {
        "id": "NpxFwHFQlYUJ"
      },
      "source": [
        "# 1- Question \n",
        "1-read you csv file (https://raw.githubusercontent.com/mwaskom/seaborn-data/master/diamonds.csv )\n",
        "\n",
        "2-print the first 5 rows \n",
        "\n",
        "3-print the shape of the data\n",
        "\n",
        "4- print and data type of each column"
      ]
    },
    {
      "cell_type": "code",
      "execution_count": 3,
      "metadata": {
        "colab": {
          "base_uri": "https://localhost:8080/"
        },
        "id": "zjzmblKwlYUb",
        "outputId": "b67dbcb5-82e7-4d63-ca2d-c2f203b6b9f0"
      },
      "outputs": [
        {
          "output_type": "stream",
          "name": "stdout",
          "text": [
            "(53940, 10)\n",
            "carat      float64\n",
            "cut         object\n",
            "color       object\n",
            "clarity     object\n",
            "depth      float64\n",
            "table      float64\n",
            "price        int64\n",
            "x          float64\n",
            "y          float64\n",
            "z          float64\n",
            "dtype: object\n",
            "   carat      cut color clarity  depth  table  price     x     y     z\n",
            "0   0.23    Ideal     E     SI2   61.5   55.0    326  3.95  3.98  2.43\n",
            "1   0.21  Premium     E     SI1   59.8   61.0    326  3.89  3.84  2.31\n",
            "2   0.23     Good     E     VS1   56.9   65.0    327  4.05  4.07  2.31\n",
            "3   0.29  Premium     I     VS2   62.4   58.0    334  4.20  4.23  2.63\n",
            "4   0.31     Good     J     SI2   63.3   58.0    335  4.34  4.35  2.75\n"
          ]
        }
      ],
      "source": [
        "import pandas as pd\n",
        "dataframe = pd.read_csv('https://raw.githubusercontent.com/mwaskom/seaborn-data/master/diamonds.csv')\n",
        "print(dataframe.shape)\n",
        "print(dataframe.dtypes)\n",
        "print(dataframe.head())"
      ]
    },
    {
      "cell_type": "markdown",
      "metadata": {
        "id": "fNrrrkTolYUd"
      },
      "source": [
        "# 2-Question\n",
        "1- print carat column\n",
        "\n",
        "2- Write a Pandas program to create a new 'Quality -color' Column (cut,color)\n",
        "\n",
        "examble => ( Ideal, E)"
      ]
    },
    {
      "cell_type": "code",
      "execution_count": 8,
      "metadata": {
        "colab": {
          "base_uri": "https://localhost:8080/"
        },
        "id": "hYiRMRCIlYUe",
        "outputId": "128c7c4e-9b71-4974-fc53-17f5039112b9"
      },
      "outputs": [
        {
          "output_type": "stream",
          "name": "stdout",
          "text": [
            "0        0.23\n",
            "1        0.21\n",
            "2        0.23\n",
            "3        0.29\n",
            "4        0.31\n",
            "         ... \n",
            "53935    0.72\n",
            "53936    0.72\n",
            "53937    0.70\n",
            "53938    0.86\n",
            "53939    0.75\n",
            "Name: carat, Length: 53940, dtype: float64\n",
            "0            Ideal, E\n",
            "1          Premium, E\n",
            "2             Good, E\n",
            "3          Premium, I\n",
            "4             Good, J\n",
            "             ...     \n",
            "53935        Ideal, D\n",
            "53936         Good, D\n",
            "53937    Very Good, D\n",
            "53938      Premium, H\n",
            "53939        Ideal, D\n",
            "Name: Quality-color, Length: 53940, dtype: object\n"
          ]
        }
      ],
      "source": [
        "print(dataframe[\"carat\"])\n",
        "dataframe[\"Quality-color\"] = dataframe[\"cut\"] + ', ' + dataframe[\"color\"]\n",
        "print(dataframe[\"Quality-color\"])"
      ]
    },
    {
      "cell_type": "markdown",
      "metadata": {
        "id": "o78sOcdYlYUf"
      },
      "source": [
        "# 3-Question\n",
        "1-Write a Pandas program to summarize the data.\n",
        "\n",
        "2- only one column => 'table'\n",
        "\n",
        "3- only 'float64' columns of the diamonds Dataframe. => include=['...']"
      ]
    },
    {
      "cell_type": "code",
      "execution_count": 14,
      "metadata": {
        "colab": {
          "base_uri": "https://localhost:8080/"
        },
        "id": "b0hbk01VlYUg",
        "outputId": "5b3b53c2-9df0-4b43-e952-8270d6d7e44a"
      },
      "outputs": [
        {
          "output_type": "stream",
          "name": "stdout",
          "text": [
            "              carat         depth         table         price             x  \\\n",
            "count  53940.000000  53940.000000  53940.000000  53940.000000  53940.000000   \n",
            "mean       0.797940     61.749405     57.457184   3932.799722      5.731157   \n",
            "std        0.474011      1.432621      2.234491   3989.439738      1.121761   \n",
            "min        0.200000     43.000000     43.000000    326.000000      0.000000   \n",
            "25%        0.400000     61.000000     56.000000    950.000000      4.710000   \n",
            "50%        0.700000     61.800000     57.000000   2401.000000      5.700000   \n",
            "75%        1.040000     62.500000     59.000000   5324.250000      6.540000   \n",
            "max        5.010000     79.000000     95.000000  18823.000000     10.740000   \n",
            "\n",
            "                  y             z  \n",
            "count  53940.000000  53940.000000  \n",
            "mean       5.734526      3.538734  \n",
            "std        1.142135      0.705699  \n",
            "min        0.000000      0.000000  \n",
            "25%        4.720000      2.910000  \n",
            "50%        5.710000      3.530000  \n",
            "75%        6.540000      4.040000  \n",
            "max       58.900000     31.800000  \n",
            "only one column:  count    53940.000000\n",
            "mean        57.457184\n",
            "std          2.234491\n",
            "min         43.000000\n",
            "25%         56.000000\n",
            "50%         57.000000\n",
            "75%         59.000000\n",
            "max         95.000000\n",
            "Name: table, dtype: float64\n",
            "              carat         depth         table             x             y  \\\n",
            "count  53940.000000  53940.000000  53940.000000  53940.000000  53940.000000   \n",
            "mean       0.797940     61.749405     57.457184      5.731157      5.734526   \n",
            "std        0.474011      1.432621      2.234491      1.121761      1.142135   \n",
            "min        0.200000     43.000000     43.000000      0.000000      0.000000   \n",
            "25%        0.400000     61.000000     56.000000      4.710000      4.720000   \n",
            "50%        0.700000     61.800000     57.000000      5.700000      5.710000   \n",
            "75%        1.040000     62.500000     59.000000      6.540000      6.540000   \n",
            "max        5.010000     79.000000     95.000000     10.740000     58.900000   \n",
            "\n",
            "                  z  \n",
            "count  53940.000000  \n",
            "mean       3.538734  \n",
            "std        0.705699  \n",
            "min        0.000000  \n",
            "25%        2.910000  \n",
            "50%        3.530000  \n",
            "75%        4.040000  \n",
            "max       31.800000  \n"
          ]
        }
      ],
      "source": [
        "print(dataframe.describe())\n",
        "print('only one column: ',dataframe['table'].describe())\n",
        "print('only columns of the diamonds Dataframe: ',dataframe.describe(include=\"float64\"))"
      ]
    },
    {
      "cell_type": "markdown",
      "metadata": {
        "id": "wdNGqhWvlYUh"
      },
      "source": [
        "# 4-Question\n",
        "Write a Pandas program to find the details of the diamonds where length>5, width>5 and depth>5. (x,y,z)"
      ]
    },
    {
      "cell_type": "code",
      "execution_count": 15,
      "metadata": {
        "colab": {
          "base_uri": "https://localhost:8080/"
        },
        "id": "gFdSzvDUlYUk",
        "outputId": "9bfb892c-3348-4e27-879c-102b027ed774"
      },
      "outputs": [
        {
          "output_type": "stream",
          "name": "stdout",
          "text": [
            "Diamonds where length>5, width>5 and depth>5:\n",
            "       carat   cut color clarity  depth  table  price     x     y     z  \\\n",
            "11778   1.83  Fair     J      I1   70.0   58.0   5083  7.34  7.28  5.12   \n",
            "13002   2.14  Fair     J      I1   69.4   57.0   5405  7.74  7.70  5.36   \n",
            "13118   2.15  Fair     J      I1   65.5   57.0   5430  8.01  7.95  5.23   \n",
            "13562   1.96  Fair     F      I1   66.6   60.0   5554  7.59  7.56  5.04   \n",
            "13757   2.22  Fair     J      I1   66.7   56.0   5607  8.04  8.02  5.36   \n",
            "\n",
            "      Quality-color  \n",
            "11778       Fair, J  \n",
            "13002       Fair, J  \n",
            "13118       Fair, J  \n",
            "13562       Fair, F  \n",
            "13757       Fair, J  \n"
          ]
        }
      ],
      "source": [
        "print(\"Diamonds where length>5, width>5 and depth>5:\")\n",
        "result = dataframe[(dataframe[\"x\"]>5) & (dataframe[\"y\"]>5) & (dataframe[\"z\"]>5)]\n",
        "print(result.head())"
      ]
    },
    {
      "cell_type": "markdown",
      "metadata": {
        "id": "xOPZ7u8dlYUt"
      },
      "source": [
        "# 5-Question\n",
        "1- rename one col\n",
        "\n",
        "2- rename two col togeather\n",
        "\n",
        "3- rename all col togeather"
      ]
    },
    {
      "cell_type": "code",
      "execution_count": 18,
      "metadata": {
        "colab": {
          "base_uri": "https://localhost:8080/"
        },
        "id": "ftep21f9lYUz",
        "outputId": "d023de9e-723c-45ba-a2cc-a30ee5b1c9e5"
      },
      "outputs": [
        {
          "output_type": "stream",
          "name": "stdout",
          "text": [
            "rename one col :     dataframe_carat      cut dataframe_color clarity  depth  table  \\\n",
            "0             0.23    Ideal               E     SI2   61.5   55.0   \n",
            "1             0.21  Premium               E     SI1   59.8   61.0   \n",
            "2             0.23     Good               E     VS1   56.9   65.0   \n",
            "3             0.29  Premium               I     VS2   62.4   58.0   \n",
            "4             0.31     Good               J     SI2   63.3   58.0   \n",
            "\n",
            "   dataframe_price     x     y     z Quality-color  \n",
            "0              326  3.95  3.98  2.43      Ideal, E  \n",
            "1              326  3.89  3.84  2.31    Premium, E  \n",
            "2              327  4.05  4.07  2.31       Good, E  \n",
            "3              334  4.20  4.23  2.63    Premium, I  \n",
            "4              335  4.34  4.35  2.75       Good, J  \n",
            "rename two col togeather:     dataframe_carat      cut dataframe_color clarity  depth  table  \\\n",
            "0             0.23    Ideal               E     SI2   61.5   55.0   \n",
            "1             0.21  Premium               E     SI1   59.8   61.0   \n",
            "2             0.23     Good               E     VS1   56.9   65.0   \n",
            "3             0.29  Premium               I     VS2   62.4   58.0   \n",
            "4             0.31     Good               J     SI2   63.3   58.0   \n",
            "\n",
            "   dataframe_price     x     y     z Quality-color  \n",
            "0              326  3.95  3.98  2.43      Ideal, E  \n",
            "1              326  3.89  3.84  2.31    Premium, E  \n",
            "2              327  4.05  4.07  2.31       Good, E  \n",
            "3              334  4.20  4.23  2.63    Premium, I  \n",
            "4              335  4.34  4.35  2.75       Good, J  \n",
            "\n",
            " renaming all the columns of thedataframe:         new_carat    new_cut new_color new_clarity  new_depth  new_table  \\\n",
            "0           0.23      Ideal         E         SI2       61.5       55.0   \n",
            "1           0.21    Premium         E         SI1       59.8       61.0   \n",
            "2           0.23       Good         E         VS1       56.9       65.0   \n",
            "3           0.29    Premium         I         VS2       62.4       58.0   \n",
            "4           0.31       Good         J         SI2       63.3       58.0   \n",
            "...          ...        ...       ...         ...        ...        ...   \n",
            "53935       0.72      Ideal         D         SI1       60.8       57.0   \n",
            "53936       0.72       Good         D         SI1       63.1       55.0   \n",
            "53937       0.70  Very Good         D         SI1       62.8       60.0   \n",
            "53938       0.86    Premium         H         SI2       61.0       58.0   \n",
            "53939       0.75      Ideal         D         SI2       62.2       55.0   \n",
            "\n",
            "       new_price  new_x  new_y  new_z new-Quality-color  \n",
            "0            326   3.95   3.98   2.43          Ideal, E  \n",
            "1            326   3.89   3.84   2.31        Premium, E  \n",
            "2            327   4.05   4.07   2.31           Good, E  \n",
            "3            334   4.20   4.23   2.63        Premium, I  \n",
            "4            335   4.34   4.35   2.75           Good, J  \n",
            "...          ...    ...    ...    ...               ...  \n",
            "53935       2757   5.75   5.76   3.50          Ideal, D  \n",
            "53936       2757   5.69   5.75   3.61           Good, D  \n",
            "53937       2757   5.66   5.68   3.56      Very Good, D  \n",
            "53938       2757   6.15   6.12   3.74        Premium, H  \n",
            "53939       2757   5.83   5.87   3.64          Ideal, D  \n",
            "\n",
            "[53940 rows x 11 columns]\n"
          ]
        }
      ],
      "source": [
        "dataframe.rename(columns={'price':'dataframe_price'}, inplace=True)\n",
        "print(\"rename one col : \",dataframe.head())\n",
        "dataframe.rename(columns={'color':'dataframe_color', 'carat':'dataframe_carat'}, inplace=True)\n",
        "print(\"rename two col togeather: \",dataframe.head())\n",
        "dataframe_cols = ['new_carat', 'new_cut', 'new_color', 'new_clarity', 'new_depth', 'new_table', 'new_price', 'new_x', 'new_y', 'new_z',\"new-Quality-color\"]\n",
        "dataframe.columns = dataframe_cols\n",
        "print(\"\\n renaming all the columns of thedataframe: \",dataframe)\n"
      ]
    },
    {
      "cell_type": "markdown",
      "metadata": {
        "id": "mlRAzRXLlYU0"
      },
      "source": [
        "# 6-Question\n",
        "Write a Pandas program to find the diamonds that are either Good or Very Good."
      ]
    },
    {
      "cell_type": "code",
      "execution_count": 35,
      "metadata": {
        "colab": {
          "base_uri": "https://localhost:8080/"
        },
        "id": "ksMR5IimlYU1",
        "outputId": "5a546499-a46e-4b86-dc01-4e9050b2a8cf"
      },
      "outputs": [
        {
          "output_type": "stream",
          "name": "stdout",
          "text": [
            "       new_carat    new_cut new_color new_clarity  new_depth  new_table  \\\n",
            "2           0.23       Good         E         VS1       56.9       65.0   \n",
            "4           0.31       Good         J         SI2       63.3       58.0   \n",
            "5           0.24  Very Good         J        VVS2       62.8       57.0   \n",
            "6           0.24  Very Good         I        VVS1       62.3       57.0   \n",
            "7           0.26  Very Good         H         SI1       61.9       55.0   \n",
            "...          ...        ...       ...         ...        ...        ...   \n",
            "53927       0.79       Good         F         SI1       58.1       59.0   \n",
            "53932       0.70  Very Good         E         VS2       60.5       59.0   \n",
            "53933       0.70  Very Good         E         VS2       61.2       59.0   \n",
            "53936       0.72       Good         D         SI1       63.1       55.0   \n",
            "53937       0.70  Very Good         D         SI1       62.8       60.0   \n",
            "\n",
            "       new_price  new_x  new_y  new_z new-Quality-color  \n",
            "2            327   4.05   4.07   2.31           Good, E  \n",
            "4            335   4.34   4.35   2.75           Good, J  \n",
            "5            336   3.94   3.96   2.48      Very Good, J  \n",
            "6            336   3.95   3.98   2.47      Very Good, I  \n",
            "7            337   4.07   4.11   2.53      Very Good, H  \n",
            "...          ...    ...    ...    ...               ...  \n",
            "53927       2756   6.06   6.13   3.54           Good, F  \n",
            "53932       2757   5.71   5.76   3.47      Very Good, E  \n",
            "53933       2757   5.69   5.72   3.49      Very Good, E  \n",
            "53936       2757   5.69   5.75   3.61           Good, D  \n",
            "53937       2757   5.66   5.68   3.56      Very Good, D  \n",
            "\n",
            "[16988 rows x 11 columns]\n"
          ]
        }
      ],
      "source": [
        "result = dataframe[dataframe['new_cut'].isin(['Good', 'Very Good'])]\n",
        "print(result)"
      ]
    },
    {
      "cell_type": "markdown",
      "metadata": {
        "id": "-n1E_h3ZlYU2"
      },
      "source": [
        "# 7-Question\n",
        "1-print the name of all the columns\n",
        "\n",
        "2- Mean of each column\n",
        "\n",
        "3-Mean of each row of diamonds DataFrame:"
      ]
    },
    {
      "cell_type": "code",
      "execution_count": 41,
      "metadata": {
        "colab": {
          "base_uri": "https://localhost:8080/"
        },
        "id": "wVaaZD7blYU4",
        "outputId": "6e388d14-ac70-4d20-86af-a2b7b728ae6a"
      },
      "outputs": [
        {
          "output_type": "stream",
          "name": "stdout",
          "text": [
            "Index(['new_carat', 'new_cut', 'new_color', 'new_clarity', 'new_depth',\n",
            "       'new_table', 'new_price', 'new_x', 'new_y', 'new_z',\n",
            "       'new-Quality-color'],\n",
            "      dtype='object')\n",
            "Mean of each column :  new_carat       0.797940\n",
            "new_depth      61.749405\n",
            "new_table      57.457184\n",
            "new_price    3932.799722\n",
            "new_x           5.731157\n",
            "new_y           5.734526\n",
            "new_z           3.538734\n",
            "dtype: float64\n",
            "Mean of each row of diamonds DataFrame :  0         64.727143\n",
            "1         65.292857\n",
            "2         65.651429\n",
            "3         66.535714\n",
            "4         66.864286\n",
            "            ...    \n",
            "53935    412.932857\n",
            "53936    412.981429\n",
            "53937    413.628571\n",
            "53938    413.267143\n",
            "53939    412.898571\n",
            "Length: 53940, dtype: float64\n"
          ]
        },
        {
          "output_type": "stream",
          "name": "stderr",
          "text": [
            "/usr/local/lib/python3.7/dist-packages/ipykernel_launcher.py:2: FutureWarning: Dropping of nuisance columns in DataFrame reductions (with 'numeric_only=None') is deprecated; in a future version this will raise TypeError.  Select only valid columns before calling the reduction.\n",
            "  \n",
            "/usr/local/lib/python3.7/dist-packages/ipykernel_launcher.py:3: FutureWarning: Dropping of nuisance columns in DataFrame reductions (with 'numeric_only=None') is deprecated; in a future version this will raise TypeError.  Select only valid columns before calling the reduction.\n",
            "  This is separate from the ipykernel package so we can avoid doing imports until\n"
          ]
        }
      ],
      "source": [
        "print(dataframe.columns)\n",
        "print('Mean of each column : ',dataframe.mean())\n",
        "print('Mean of each row of diamonds DataFrame : ',dataframe.mean(axis=1))"
      ]
    },
    {
      "cell_type": "markdown",
      "metadata": {
        "id": "nTVAFTillYU4"
      },
      "source": [
        "# 8-Question\n",
        "1- mean of 'price' column only\n",
        "\n",
        "2- Write a Pandas program to calculate the mean of price for each cut of diamonds DataFrame.\n",
        "\n",
        "3-Write a Pandas program to calculate count, minimum, maximum price for each cut of diamonds DataFrame.\n",
        "\n",
        "4- count how many times each value in cut series of diamonds DataFrame occurs. value_counts()"
      ]
    },
    {
      "cell_type": "code",
      "execution_count": 44,
      "metadata": {
        "colab": {
          "base_uri": "https://localhost:8080/"
        },
        "id": "-U74mbQmlYU5",
        "outputId": "8948a49a-ce8d-4111-fc6d-96dff6869890"
      },
      "outputs": [
        {
          "output_type": "stream",
          "name": "stdout",
          "text": [
            "Mean of price column :  3932.799721913237\n",
            "Mean of price column :  new_cut\n",
            "Fair         4358.757764\n",
            "Good         3928.864452\n",
            "Ideal        3457.541970\n",
            "Premium      4584.257704\n",
            "Very Good    3981.759891\n",
            "Name: new_price, dtype: float64\n",
            "many times each value in cut series of diamonds DataFrame occurs Ideal        21551\n",
            "Premium      13791\n",
            "Very Good    12082\n",
            "Good          4906\n",
            "Fair          1610\n",
            "Name: new_cut, dtype: int64\n"
          ]
        }
      ],
      "source": [
        "print('Mean of price column : ',dataframe['new_price'].mean())\n",
        "print('Mean of price column : ',dataframe.groupby('new_cut')['new_price'].mean())\n",
        "print(\"many times each value in cut series of diamonds DataFrame occurs\",dataframe['new_cut'].value_counts())"
      ]
    },
    {
      "cell_type": "markdown",
      "metadata": {
        "id": "TkyUsRwClYU6"
      },
      "source": [
        "# 9-Question\n",
        "Write a Pandas program to count the number of missing values in each Series of diamonds DataFrame."
      ]
    },
    {
      "cell_type": "code",
      "execution_count": 45,
      "metadata": {
        "colab": {
          "base_uri": "https://localhost:8080/"
        },
        "id": "F15T3VpKlYU7",
        "outputId": "bbe59c6c-dc9a-46ba-826a-a4cfc32785b9"
      },
      "outputs": [
        {
          "output_type": "stream",
          "name": "stdout",
          "text": [
            "the number of missing values  new_carat            0\n",
            "new_cut              0\n",
            "new_color            0\n",
            "new_clarity          0\n",
            "new_depth            0\n",
            "new_table            0\n",
            "new_price            0\n",
            "new_x                0\n",
            "new_y                0\n",
            "new_z                0\n",
            "new-Quality-color    0\n",
            "dtype: int64\n"
          ]
        }
      ],
      "source": [
        "print(\"the number of missing values \",dataframe.isnull().sum())"
      ]
    },
    {
      "cell_type": "code",
      "execution_count": null,
      "metadata": {
        "id": "-DFmBVvAlYU7"
      },
      "outputs": [],
      "source": [
        ""
      ]
    }
  ],
  "metadata": {
    "kernelspec": {
      "display_name": "Python 3",
      "language": "python",
      "name": "python3"
    },
    "language_info": {
      "codemirror_mode": {
        "name": "ipython",
        "version": 3
      },
      "file_extension": ".py",
      "mimetype": "text/x-python",
      "name": "python",
      "nbconvert_exporter": "python",
      "pygments_lexer": "ipython3",
      "version": "3.7.4"
    },
    "colab": {
      "name": "Task 4.ipynb",
      "provenance": [],
      "collapsed_sections": []
    }
  },
  "nbformat": 4,
  "nbformat_minor": 0
}