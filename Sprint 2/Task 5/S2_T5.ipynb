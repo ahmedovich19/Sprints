{
  "cells": [
    {
      "cell_type": "markdown",
      "source": [
        "Polar Coordinates"
      ],
      "metadata": {
        "id": "-vbl6Jj1q8Wj"
      }
    },
    {
      "cell_type": "code",
      "source": [
        "from cmath import phase\n",
        "complex_n = complex(input())\n",
        "modu = abs(complex_n)    \n",
        "pha_ang = phase(complex_n) \n",
        "print(modu)\n",
        "print(pha_ang)"
      ],
      "metadata": {
        "id": "q2O8rS5iq8sU",
        "colab": {
          "base_uri": "https://localhost:8080/"
        },
        "outputId": "bb24f77e-f0be-47c2-8771-5e2801d842bc"
      },
      "execution_count": null,
      "outputs": [
        {
          "output_type": "stream",
          "name": "stdout",
          "text": [
            "1+2j\n",
            "2.23606797749979\n",
            "1.1071487177940904\n"
          ]
        }
      ]
    },
    {
      "cell_type": "markdown",
      "source": [
        "Find Angle MBC"
      ],
      "metadata": {
        "id": "xwo0qx-Nq9DR"
      }
    },
    {
      "cell_type": "code",
      "source": [
        "import math\n",
        "ab = int(input())\n",
        "bc = int(input())\n",
        "angle = math.degrees(math.atan(ab/bc))\n",
        "angle = str(round(angle))\n",
        "print(angle + chr(176))"
      ],
      "metadata": {
        "id": "eF7JVfomq9lD",
        "colab": {
          "base_uri": "https://localhost:8080/"
        },
        "outputId": "2649783c-e382-4c74-ab46-0213c52713f7"
      },
      "execution_count": null,
      "outputs": [
        {
          "output_type": "stream",
          "name": "stdout",
          "text": [
            "10\n",
            "10\n",
            "45°\n"
          ]
        }
      ]
    },
    {
      "cell_type": "markdown",
      "source": [
        "Mod Divmod"
      ],
      "metadata": {
        "id": "X2OSuSiTq96Q"
      }
    },
    {
      "cell_type": "code",
      "source": [
        "# Enter your code here. Read input from STDIN. Print output to STDOUT\n",
        "a = int(input())\n",
        "b = int(input())\n",
        "print(a//b)\n",
        "print(a%b)\n",
        "print(divmod(a,b))"
      ],
      "metadata": {
        "id": "lErxZZhhq-Xm",
        "colab": {
          "base_uri": "https://localhost:8080/"
        },
        "outputId": "ca8b6001-1ab7-4f31-dc99-379d55c2c910"
      },
      "execution_count": null,
      "outputs": [
        {
          "output_type": "stream",
          "name": "stdout",
          "text": [
            "177\n",
            "10\n",
            "17\n",
            "7\n",
            "(17, 7)\n"
          ]
        }
      ]
    },
    {
      "cell_type": "markdown",
      "source": [
        "Power - Mod Power"
      ],
      "metadata": {
        "id": "OMjWDnDmq-z9"
      }
    },
    {
      "cell_type": "code",
      "source": [
        "# Enter your code here. Read input from STDIN. Print output to STDOUT\n",
        "a =int(input())\n",
        "b =int(input())\n",
        "c =int(input())\n",
        "print(pow(a,b))\n",
        "print(pow(a,b,c))"
      ],
      "metadata": {
        "id": "10M8Ji4-q_OA",
        "colab": {
          "base_uri": "https://localhost:8080/"
        },
        "outputId": "9d416e99-95ea-4306-c1e1-7cc7d5b66594"
      },
      "execution_count": null,
      "outputs": [
        {
          "output_type": "stream",
          "name": "stdout",
          "text": [
            "3\n",
            "4\n",
            "5\n",
            "81\n",
            "1\n"
          ]
        }
      ]
    },
    {
      "cell_type": "markdown",
      "source": [
        "Integers Come In All Sizes"
      ],
      "metadata": {
        "id": "kUGa6Js0rAXp"
      }
    },
    {
      "cell_type": "code",
      "source": [
        "# Enter your code here. Read input from STDIN. Print output to STDOUT\n",
        "a = int(input())\n",
        "b = int(input())\n",
        "c = int(input())\n",
        "d = int(input())\n",
        "print((a**b)+c**d)\n"
      ],
      "metadata": {
        "id": "c3EG72HCrAxQ",
        "colab": {
          "base_uri": "https://localhost:8080/"
        },
        "outputId": "6448513f-4198-4cb6-b7a3-92cc04d05dc3"
      },
      "execution_count": null,
      "outputs": [
        {
          "output_type": "stream",
          "name": "stdout",
          "text": [
            "9\n",
            "29\n",
            "7\n",
            "27\n",
            "4710194409608608369201743232\n"
          ]
        }
      ]
    },
    {
      "cell_type": "markdown",
      "source": [
        "Triangle Quest"
      ],
      "metadata": {
        "id": "w5N0MYjZrBnb"
      }
    },
    {
      "cell_type": "code",
      "source": [
        "for i in range(1,int(input())): #More than 2 lines will result in 0 score. Do not leave a blank line also\n",
        "    print(int((i*10**i)/9))"
      ],
      "metadata": {
        "id": "Nhu2yZlirB_m",
        "outputId": "57e88b57-1c04-4740-901c-72e1dbaee62e",
        "colab": {
          "base_uri": "https://localhost:8080/"
        }
      },
      "execution_count": null,
      "outputs": [
        {
          "output_type": "stream",
          "name": "stdout",
          "text": [
            "6\n",
            "1\n",
            "22\n",
            "333\n",
            "4444\n",
            "55555\n"
          ]
        }
      ]
    },
    {
      "cell_type": "markdown",
      "source": [
        "triangle-quest-2"
      ],
      "metadata": {
        "id": "71pvYKJ2VR19"
      }
    },
    {
      "cell_type": "code",
      "source": [
        "for i in range(1,int(input())+1): #More than 2 lines will result in 0 score. Do not leave a blank line also\n",
        "    print(((10**i - 1)//9)**2)"
      ],
      "metadata": {
        "id": "uC2f5Ef_VSfF",
        "colab": {
          "base_uri": "https://localhost:8080/"
        },
        "outputId": "a03e55c7-8024-4798-aebe-58b4beb10d31"
      },
      "execution_count": 2,
      "outputs": [
        {
          "output_type": "stream",
          "name": "stdout",
          "text": [
            "5\n",
            "1\n",
            "121\n",
            "12321\n",
            "1234321\n",
            "123454321\n"
          ]
        }
      ]
    }
  ],
  "metadata": {
    "colab": {
      "collapsed_sections": [],
      "name": "S2-T5.ipynb",
      "provenance": []
    },
    "kernelspec": {
      "display_name": "Python 3",
      "language": "python",
      "name": "python3"
    },
    "language_info": {
      "codemirror_mode": {
        "name": "ipython",
        "version": 3
      },
      "file_extension": ".py",
      "mimetype": "text/x-python",
      "name": "python",
      "nbconvert_exporter": "python",
      "pygments_lexer": "ipython3",
      "version": "3.6.7"
    }
  },
  "nbformat": 4,
  "nbformat_minor": 0
}