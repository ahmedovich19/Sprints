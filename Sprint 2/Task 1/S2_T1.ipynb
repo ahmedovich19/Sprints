{
  "nbformat": 4,
  "nbformat_minor": 0,
  "metadata": {
    "colab": {
      "name": "S2-T1.ipynb",
      "provenance": [],
      "collapsed_sections": []
    },
    "kernelspec": {
      "name": "python3",
      "display_name": "Python 3"
    },
    "language_info": {
      "name": "python"
    }
  },
  "cells": [
    {
      "cell_type": "markdown",
      "source": [
        "Say \"Hello, World!\" With Python"
      ],
      "metadata": {
        "id": "iDH4qVbts0HM"
      }
    },
    {
      "cell_type": "code",
      "execution_count": 3,
      "metadata": {
        "colab": {
          "base_uri": "https://localhost:8080/"
        },
        "id": "V5wi15bsely0",
        "outputId": "9e07c5a2-d92c-4b46-b2ce-4dc2a1e6e685"
      },
      "outputs": [
        {
          "output_type": "stream",
          "name": "stdout",
          "text": [
            "Hello, World\n"
          ]
        }
      ],
      "source": [
        "if __name__ == \"__main__\":\n",
        "  print('Hello, World')"
      ]
    },
    {
      "cell_type": "markdown",
      "source": [
        "Python If-Else"
      ],
      "metadata": {
        "id": "YpDpaQGjs6Dn"
      }
    },
    {
      "cell_type": "code",
      "source": [
        "#!/bin/python3\n",
        "\n",
        "import math\n",
        "import os\n",
        "import random\n",
        "import re\n",
        "import sys\n",
        "\n",
        "\n",
        "\n",
        "if __name__ == '__main__':\n",
        "    n = int(input().strip())\n",
        "    if n % 2 == 1:\n",
        "        print('Weird')\n",
        "    elif (n % 2 == 0) & (n in range(2,6)):\n",
        "        print('Not Weird')\n",
        "    elif (n % 2 == 0) & (n in range(6,21)):\n",
        "        print('Weird')\n",
        "    elif (n % 2 == 0) & (n > 20):\n",
        "        print('Not Weird')"
      ],
      "metadata": {
        "colab": {
          "base_uri": "https://localhost:8080/"
        },
        "id": "MKaeDwptj8CO",
        "outputId": "86710d8f-abfd-4a87-dbe2-ab801b646cc7"
      },
      "execution_count": 6,
      "outputs": [
        {
          "output_type": "stream",
          "name": "stdout",
          "text": [
            "22\n",
            "Not Weird\n"
          ]
        }
      ]
    },
    {
      "cell_type": "markdown",
      "source": [
        "Arithmetic Operators"
      ],
      "metadata": {
        "id": "lZMTUCphtBJJ"
      }
    },
    {
      "cell_type": "code",
      "source": [
        "if __name__ == '__main__':\n",
        "    a = int(input())\n",
        "    b = int(input())\n",
        "    \n",
        "    def sumFunc(a,b):\n",
        "        print(a+b)\n",
        "    def subFunc(a,b):\n",
        "        print(a-b)\n",
        "    def prodFunc(a,b):\n",
        "        print(a*b)\n",
        "    sumFunc(a,b)\n",
        "    subFunc(a,b)\n",
        "    prodFunc(a,b)\n"
      ],
      "metadata": {
        "colab": {
          "base_uri": "https://localhost:8080/"
        },
        "id": "TDAg1WbckzFc",
        "outputId": "0697eb03-6dae-4e43-f818-8b68ab591e35"
      },
      "execution_count": 7,
      "outputs": [
        {
          "output_type": "stream",
          "name": "stdout",
          "text": [
            "3\n",
            "4\n",
            "7\n",
            "-1\n",
            "12\n"
          ]
        }
      ]
    },
    {
      "cell_type": "markdown",
      "source": [
        "Python: Division"
      ],
      "metadata": {
        "id": "VPmMEVGZtDAH"
      }
    },
    {
      "cell_type": "code",
      "source": [
        "if __name__ == '__main__':\n",
        "    a = int(input())\n",
        "    b = int(input())\n",
        "    \n",
        "    def divFunc(a,b):\n",
        "      print(a//b)\n",
        "      print(float(a/b))\n",
        "    divFunc(a,b)"
      ],
      "metadata": {
        "colab": {
          "base_uri": "https://localhost:8080/"
        },
        "id": "yb_AvXHaouos",
        "outputId": "371085f7-5e55-4da0-e46a-a0cf9becabc2"
      },
      "execution_count": 8,
      "outputs": [
        {
          "output_type": "stream",
          "name": "stdout",
          "text": [
            "3\n",
            "5\n",
            "0\n",
            "0.6\n"
          ]
        }
      ]
    },
    {
      "cell_type": "markdown",
      "source": [
        "Loops"
      ],
      "metadata": {
        "id": "xMUpuhLztFgb"
      }
    },
    {
      "cell_type": "code",
      "source": [
        "if __name__ == '__main__':\n",
        "    n = int(input())\n",
        "    for i in range(0,n):\n",
        "        print(i**2)"
      ],
      "metadata": {
        "colab": {
          "base_uri": "https://localhost:8080/"
        },
        "id": "toDK366Houue",
        "outputId": "cd1a0e28-5909-4c82-95d9-89dce9239266"
      },
      "execution_count": 9,
      "outputs": [
        {
          "output_type": "stream",
          "name": "stdout",
          "text": [
            "5\n",
            "0\n",
            "1\n",
            "4\n",
            "9\n",
            "16\n"
          ]
        }
      ]
    },
    {
      "cell_type": "markdown",
      "source": [
        "Write a function"
      ],
      "metadata": {
        "id": "R8ia37As04Or"
      }
    },
    {
      "cell_type": "code",
      "source": [
        "def is_leap(year):\n",
        "    leap = False\n",
        "    if 1900 < year <10**5:\n",
        "        if year % 4 == 0:\n",
        "            leap = True\n",
        "            if year % 100 == 0:\n",
        "                leap = False\n",
        "                if year % 400 ==0:\n",
        "                    leap = True\n",
        "\n",
        "    \n",
        "    return leap\n",
        "\n",
        "\n",
        "year = int(input())\n",
        "print(is_leap(year))"
      ],
      "metadata": {
        "colab": {
          "base_uri": "https://localhost:8080/"
        },
        "id": "5d477IXNouz2",
        "outputId": "37eec95c-d4e9-4c07-980c-16c7f6e03e63"
      },
      "execution_count": 18,
      "outputs": [
        {
          "output_type": "stream",
          "name": "stdout",
          "text": [
            "1992\n",
            "True\n"
          ]
        }
      ]
    },
    {
      "cell_type": "markdown",
      "source": [
        "Print Function"
      ],
      "metadata": {
        "id": "Yf4OlkM33vR0"
      }
    },
    {
      "cell_type": "code",
      "source": [
        "if __name__ == '__main__':\n",
        "    n = int(input())\n",
        "    if n in range(1,151):\n",
        "        int_list=[]\n",
        "        for i in range(1,n+1):\n",
        "            print(str(i),end=\"\")"
      ],
      "metadata": {
        "colab": {
          "base_uri": "https://localhost:8080/"
        },
        "id": "GTT5rfmMyD_W",
        "outputId": "58e457be-941c-4ad2-89af-f4b9c5ea85b9"
      },
      "execution_count": 19,
      "outputs": [
        {
          "output_type": "stream",
          "name": "stdout",
          "text": [
            "4\n",
            "1234"
          ]
        }
      ]
    }
  ]
}