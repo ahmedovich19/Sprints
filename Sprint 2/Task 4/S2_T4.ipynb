{
  "cells": [
    {
      "cell_type": "markdown",
      "source": [
        "Introduction to Sets"
      ],
      "metadata": {
        "id": "ouwfokox8sat"
      }
    },
    {
      "cell_type": "code",
      "source": [
        "def average(array):\n",
        "    # Introduction to Sets in Python - Hacker Rank Solution START\n",
        "    sum_array = sum(set(array))\n",
        "    len_array = len(set(array))\n",
        "    output = sum_array/len_array\n",
        "    return output;\n",
        "\n",
        "if __name__ == '__main__':\n",
        "    n = int(input())\n",
        "    arr = list(map(int, input().split()))\n",
        "    result = average(arr)\n",
        "    print(result)"
      ],
      "metadata": {
        "colab": {
          "base_uri": "https://localhost:8080/"
        },
        "id": "QG_mdpSz8sro",
        "outputId": "95ad4334-6d51-4fa5-bad0-9c85df4b241c"
      },
      "execution_count": null,
      "outputs": [
        {
          "output_type": "stream",
          "name": "stdout",
          "text": [
            "10\n",
            "161 182 161 154 176 170 167 171 170 174\n",
            "169.375\n"
          ]
        }
      ]
    },
    {
      "cell_type": "markdown",
      "source": [
        "No Idea!"
      ],
      "metadata": {
        "id": "XzC8X_-gIuEf"
      }
    },
    {
      "cell_type": "code",
      "source": [
        "io = input().split()\n",
        "m = int(io[0])\n",
        "n = int(io[1])\n",
        "\n",
        "\n",
        "count = 0\n",
        "\n",
        "storage = list(map(int, input().strip().split()))\n",
        "\n",
        "A = set(map(int, input().strip().split()))\n",
        "B = set(map(int, input().strip().split()))\n",
        "\n",
        "for i in storage:\n",
        "    if i in A:\n",
        "        count = count+1\n",
        "    if i in B:\n",
        "        count = count-1\n",
        "\n",
        "print(count)"
      ],
      "metadata": {
        "id": "Lhvy2yC89kkJ"
      },
      "execution_count": null,
      "outputs": []
    },
    {
      "cell_type": "markdown",
      "source": [
        "Set .add()"
      ],
      "metadata": {
        "id": "oH0wGXVngUv-"
      }
    },
    {
      "cell_type": "code",
      "source": [
        "# Enter your code here. Read input from STDIN. Print output to STDOUT\n",
        "n = int(input())\n",
        "l_set = set()\n",
        "for i in range(n):\n",
        "    s = str(input())\n",
        "    l_set.add(s)\n",
        "total_distinct_countries = (len(l_set))\n",
        "print(total_distinct_countries)\n",
        "    "
      ],
      "metadata": {
        "colab": {
          "base_uri": "https://localhost:8080/"
        },
        "id": "JAlXvtzagVP6",
        "outputId": "58c008a0-7f3c-4ff8-a646-ddb9c256f3bc"
      },
      "execution_count": null,
      "outputs": [
        {
          "output_type": "stream",
          "name": "stdout",
          "text": [
            "7\n",
            "UK\n",
            "China\n",
            "USA\n",
            "France\n",
            "New Zealand\n",
            "UK\n",
            "France\n",
            "5\n"
          ]
        }
      ]
    },
    {
      "cell_type": "markdown",
      "source": [
        "Set .discard(), .remove() & .pop()\n"
      ],
      "metadata": {
        "id": "M4x4ZQwegVub"
      }
    },
    {
      "cell_type": "code",
      "source": [
        "n = int(input())\n",
        "s = set(map(int, input().split()))\n",
        "n_commands = int(input())\n",
        "l_commands = list()\n",
        "for i in range(n_commands):\n",
        "    c = list(input().split())\n",
        "    l_commands.append(c)\n",
        "\n",
        "for i in range(n_commands):\n",
        "    if l_commands[i][0] == \"pop\":\n",
        "        s.pop()\n",
        "    elif l_commands[i][0] == \"remove\":\n",
        "        if int(l_commands[i][1]) in s:\n",
        "            s.remove(int(l_commands[i][1]))\n",
        "    elif l_commands[i][0] == \"discard\":\n",
        "        s.discard(int(l_commands[i][1]))\n",
        "            \n",
        "print(sum(s))"
      ],
      "metadata": {
        "colab": {
          "base_uri": "https://localhost:8080/"
        },
        "id": "ksFsMuf5gWQ5",
        "outputId": "71d8ec13-a6d8-42e2-bda9-448281a482dc"
      },
      "execution_count": null,
      "outputs": [
        {
          "output_type": "stream",
          "name": "stdout",
          "text": [
            "9\n",
            "1 2 3 4 5 6 7 8 9\n",
            "10\n",
            "pop\n",
            "remove 9\n",
            "discard 9\n",
            "discard 8\n",
            "remove 7\n",
            "pop\n",
            "discard 6\n",
            "remove 5\n",
            "pop\n",
            "discard 5\n",
            "4\n"
          ]
        }
      ]
    },
    {
      "cell_type": "markdown",
      "source": [
        "Set .union() Operation"
      ],
      "metadata": {
        "id": "bc_zaUPsgWnu"
      }
    },
    {
      "cell_type": "code",
      "source": [
        "# Enter your code here. Read input from STDIN. Print output to STDOUT\n",
        "e = int(input())\n",
        "e_n = set(map(int,input().split()))\n",
        "f= int(input())\n",
        "f_n = set(map(int,input().split()))\n",
        "total_students = e_n.union(f_n)\n",
        "total_students_numbers =len(total_students)\n",
        "print(total_students_numbers)\n"
      ],
      "metadata": {
        "colab": {
          "base_uri": "https://localhost:8080/"
        },
        "id": "D41PKVBGgXDU",
        "outputId": "1c5ce8e3-ec7a-4448-d96e-4a4583ef3c75"
      },
      "execution_count": null,
      "outputs": [
        {
          "output_type": "stream",
          "name": "stdout",
          "text": [
            "9\n",
            "1 2 3 4 5 6 7 8 9\n",
            "9\n",
            "10 1 2 3 11 21 55 6 8\n",
            "13\n"
          ]
        }
      ]
    },
    {
      "cell_type": "markdown",
      "source": [
        "Set .intersection() Operation"
      ],
      "metadata": {
        "id": "wd6FnNF-gXv4"
      }
    },
    {
      "cell_type": "code",
      "source": [
        "e = int(input())\n",
        "e_n = set(map(int,input().split()))\n",
        "f= int(input())\n",
        "f_n = set(map(int,input().split()))\n",
        "total_students = e_n.intersection(f_n)\n",
        "total_students_numbers =len(total_students)\n",
        "print(total_students_numbers)"
      ],
      "metadata": {
        "colab": {
          "base_uri": "https://localhost:8080/"
        },
        "id": "neud5nmIgYMF",
        "outputId": "77d3109a-441e-46c3-9163-a0201f692d34"
      },
      "execution_count": null,
      "outputs": [
        {
          "output_type": "stream",
          "name": "stdout",
          "text": [
            "9\n",
            "1 2 3 4 5 6 7 8 9\n",
            "9\n",
            "10 1 2 3 11 21 55 6 8\n",
            "5\n"
          ]
        }
      ]
    },
    {
      "cell_type": "markdown",
      "source": [
        "Set .difference() Operation"
      ],
      "metadata": {
        "id": "LUEOXIrtgceg"
      }
    },
    {
      "cell_type": "code",
      "source": [
        "# Enter your code here. Read input from STDIN. Print output to STDOUT\n",
        "e = int(input())\n",
        "e_n = set(map(int,input().split()))\n",
        "f= int(input())\n",
        "f_n = set(map(int,input().split()))\n",
        "total_students = e_n.difference(f_n)\n",
        "total_students_numbers =len(total_students)\n",
        "print(total_students_numbers)"
      ],
      "metadata": {
        "colab": {
          "base_uri": "https://localhost:8080/"
        },
        "id": "JWO_LxJYgY4d",
        "outputId": "9d2ee3d7-1ec1-4d51-8ab6-2b6fec693830"
      },
      "execution_count": null,
      "outputs": [
        {
          "output_type": "stream",
          "name": "stdout",
          "text": [
            "9\n",
            "9 1 2 3 4 5 6 7 8 9\n",
            "9\n",
            "10 1 2 3 11 21 55 6 8\n",
            "4\n"
          ]
        }
      ]
    },
    {
      "cell_type": "markdown",
      "source": [
        "Set .symmetric_difference() Operation"
      ],
      "metadata": {
        "id": "wU7P96qPgZpd"
      }
    },
    {
      "cell_type": "code",
      "source": [
        "# Enter your code here. Read input from STDIN. Print output to STDOUT\n",
        "e = int(input())\n",
        "e_n = set(map(int,input().split()))\n",
        "f= int(input())\n",
        "f_n = set(map(int,input().split()))\n",
        "total_students = e_n.symmetric_difference(f_n)\n",
        "total_students_numbers =len(total_students)\n",
        "print(total_students_numbers)"
      ],
      "metadata": {
        "colab": {
          "base_uri": "https://localhost:8080/"
        },
        "id": "T2F1GGAhgamy",
        "outputId": "0c48600e-0f8a-444d-fec5-3df5f8c5530a"
      },
      "execution_count": null,
      "outputs": [
        {
          "output_type": "stream",
          "name": "stdout",
          "text": [
            "9\n",
            "1 2 3 4 5 6 7 8 9\n",
            "9\n",
            "10 1 2 3 11 21 55 6 8\n",
            "8\n"
          ]
        }
      ]
    },
    {
      "cell_type": "markdown",
      "source": [
        ""
      ],
      "metadata": {
        "id": "HkyBQ0SqgbbA"
      }
    },
    {
      "cell_type": "code",
      "source": [
        ""
      ],
      "metadata": {
        "id": "QC0afKSRgb9r"
      },
      "execution_count": null,
      "outputs": []
    },
    {
      "cell_type": "markdown",
      "source": [
        "Set Mutations"
      ],
      "metadata": {
        "id": "sOIuOeBGGlz4"
      }
    },
    {
      "cell_type": "code",
      "source": [
        "# Enter your code here. Read input from STDIN. Print output to STDOUT\n",
        "a_numbers = int(input())\n",
        "set_a = set(map(int,input().split()))\n",
        "n = int(input())\n",
        "for i in range(n):\n",
        "    c = input().split()\n",
        "    oper_name = c[0]\n",
        "    len_oth_set = int(c[1])\n",
        "    oth_set = set(map(int,input().split()))\n",
        "    if oper_name == 'intersection_update':\n",
        "        set_a.intersection_update(oth_set)\n",
        "    elif oper_name == 'update':\n",
        "        set_a.update(oth_set)\n",
        "    elif oper_name == 'symmetric_difference_update':\n",
        "        set_a.symmetric_difference_update(oth_set)\n",
        "    elif oper_name == 'difference_update':\n",
        "        set_a.difference_update(oth_set)\n",
        "print(sum(set_a))"
      ],
      "metadata": {
        "colab": {
          "base_uri": "https://localhost:8080/"
        },
        "id": "zODkAK6DGmSV",
        "outputId": "722a4633-e1ac-4761-8966-396bd18728e7"
      },
      "execution_count": null,
      "outputs": [
        {
          "name": "stdout",
          "output_type": "stream",
          "text": [
            "16\n",
            "1 2 3 4 5 6 7 8 9 10 11 12 13 14 24 52\n",
            "4\n",
            "intersection_update 10\n",
            "2 3 5 6 8 9 1 4 7 11\n",
            "update 2\n",
            "55 66\n",
            "symmetric_difference_update 5\n",
            "22 7 35 62 58\n",
            "difference_update 7\n"
          ]
        }
      ]
    },
    {
      "cell_type": "markdown",
      "source": [
        "Symmetric Difference"
      ],
      "metadata": {
        "id": "NKeY_7CSGmvj"
      }
    },
    {
      "cell_type": "code",
      "source": [
        "# Enter your code here. Read input from STDIN. Print output to STDOUT\n",
        "m = int(input())\n",
        "m_integers = set(map(int, input().split()))\n",
        "n = int(input())\n",
        "n_integers = set(map(int, input().split()))\n",
        "list_sym = sorted(m_integers.symmetric_difference(n_integers))\n",
        "print(*list_sym,sep='\\n')"
      ],
      "metadata": {
        "id": "PtZ-9JwpGnL0",
        "colab": {
          "base_uri": "https://localhost:8080/"
        },
        "outputId": "28a3aa79-45a4-46b0-f9a7-ca4214516a1f"
      },
      "execution_count": 1,
      "outputs": [
        {
          "output_type": "stream",
          "name": "stdout",
          "text": [
            "4\n",
            "2 4 5 9\n",
            "4\n",
            "2 4 11 12\n",
            "5\n",
            "9\n",
            "11\n",
            "12\n"
          ]
        }
      ]
    },
    {
      "cell_type": "markdown",
      "source": [
        "The Captain's Room"
      ],
      "metadata": {
        "id": "_CtQxJfKGn6L"
      }
    },
    {
      "cell_type": "code",
      "source": [
        "# Enter your code here. Read input from STDIN. Print output to STDOUT\n",
        "from collections import Counter\n",
        "from operator import itemgetter\n",
        "k = int(input())\n",
        "room_numbers = list(map(int,input().split()))\n",
        "x = Counter(room_numbers)\n",
        "min_key, min_count = min(x.items(), key=itemgetter(1))\n",
        "\n",
        "print(min_key)\n",
        "\n",
        "\n",
        "\n"
      ],
      "metadata": {
        "id": "eAkHSViaGoUh",
        "colab": {
          "base_uri": "https://localhost:8080/"
        },
        "outputId": "f3cc8bba-ebf7-4ccc-f957-a8746b832ee8"
      },
      "execution_count": 2,
      "outputs": [
        {
          "output_type": "stream",
          "name": "stdout",
          "text": [
            "5\n",
            "1 2 3 6 5 4 4 2 5 3 6 1 6 5 3 2 4 1 2 5 1 4 3 6 8 4 3 1 5 6 2\n",
            "8\n"
          ]
        }
      ]
    },
    {
      "cell_type": "markdown",
      "source": [
        "Check Subset"
      ],
      "metadata": {
        "id": "kpeqMPL6GouD"
      }
    },
    {
      "cell_type": "code",
      "source": [
        "# Enter your code here. Read input from STDIN. Print output to STDOUT\n",
        "number_t = int(input())\n",
        "\n",
        "for i in range(number_t):\n",
        "    n_a = int(input())\n",
        "    a = set(map(int,input().split()))\n",
        "    n_b = int(input())\n",
        "    b = set(map(int,input().split()))\n",
        "    if a.issubset(b) == True:\n",
        "        print(\"True\")\n",
        "    else:\n",
        "        print(\"False\")\n",
        "        "
      ],
      "metadata": {
        "id": "G8bfUagcGpIU",
        "colab": {
          "base_uri": "https://localhost:8080/"
        },
        "outputId": "78feb89d-6ee5-464b-bae0-f8be0de13ab5"
      },
      "execution_count": 3,
      "outputs": [
        {
          "output_type": "stream",
          "name": "stdout",
          "text": [
            "3\n",
            "5\n",
            "1 2 3 5 6\n",
            "9\n",
            "9 8 5 6 3 2 1 4 7\n",
            "True\n",
            "1\n",
            "2\n",
            "5\n",
            "3 6 5 4 1\n",
            "False\n",
            "7\n",
            "1 2 3 5 6 8 9\n",
            "3\n",
            "9 8 2\n",
            "False\n"
          ]
        }
      ]
    },
    {
      "cell_type": "markdown",
      "source": [
        "Check Strict Superset"
      ],
      "metadata": {
        "id": "qCiWIh3WGpgo"
      }
    },
    {
      "cell_type": "code",
      "source": [
        "# Enter your code here. Read input from STDIN. Print output to STDOUT\n",
        "\n",
        "a = set(map(int,input().split()))\n",
        "n_o = int(input())\n",
        "output = True\n",
        "for i in range(n_o):\n",
        "    o = set(map(int,input().split()))\n",
        "    if a.issuperset(o) != True:\n",
        "        output = False\n",
        "    if len(o) >= len(a):\n",
        "        output = False\n",
        "print(output)           \n",
        "\n"
      ],
      "metadata": {
        "id": "El3nlGy-Gp_O",
        "colab": {
          "base_uri": "https://localhost:8080/"
        },
        "outputId": "6f980fb1-850c-488d-e016-02da24f93e0c"
      },
      "execution_count": 4,
      "outputs": [
        {
          "output_type": "stream",
          "name": "stdout",
          "text": [
            "1 2 3 4 5 6 7 8 9 10 11 12 23 45 84 78\n",
            "2\n",
            "1 2 3 4 5\n",
            "100 11 12\n",
            "False\n"
          ]
        }
      ]
    },
    {
      "cell_type": "code",
      "source": [
        ""
      ],
      "metadata": {
        "id": "gLdP5FDZXf6t"
      },
      "execution_count": 4,
      "outputs": []
    }
  ],
  "metadata": {
    "colab": {
      "collapsed_sections": [],
      "name": "S2-T4.ipynb",
      "provenance": []
    },
    "kernelspec": {
      "display_name": "Python 3",
      "language": "python",
      "name": "python3"
    },
    "language_info": {
      "codemirror_mode": {
        "name": "ipython",
        "version": 3
      },
      "file_extension": ".py",
      "mimetype": "text/x-python",
      "name": "python",
      "nbconvert_exporter": "python",
      "pygments_lexer": "ipython3",
      "version": "3.6.7"
    }
  },
  "nbformat": 4,
  "nbformat_minor": 0
}