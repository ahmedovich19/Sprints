{
  "cells": [
    {
      "cell_type": "markdown",
      "source": [
        "itertools.permutations()"
      ],
      "metadata": {
        "id": "JLbBZ1he47QR"
      }
    },
    {
      "cell_type": "code",
      "source": [
        "# Enter your code here. Read input from STDIN. Print output to STDOUT\n",
        "from itertools import permutations\n",
        "string, len_k = list(input().split())\n",
        "per_list = list(permutations(string,int(len_k)))\n",
        "for i in sorted(per_list):\n",
        "    print(\"\".join(i))\n"
      ],
      "metadata": {
        "colab": {
          "base_uri": "https://localhost:8080/"
        },
        "id": "2Mh8MeO647mH",
        "outputId": "42a1290d-dcb6-4031-d072-a403cd971c72"
      },
      "execution_count": 1,
      "outputs": [
        {
          "output_type": "stream",
          "name": "stdout",
          "text": [
            "HACK 2\n",
            "AC\n",
            "AH\n",
            "AK\n",
            "CA\n",
            "CH\n",
            "CK\n",
            "HA\n",
            "HC\n",
            "HK\n",
            "KA\n",
            "KC\n",
            "KH\n"
          ]
        }
      ]
    },
    {
      "cell_type": "markdown",
      "source": [
        "itertools.permutations()"
      ],
      "metadata": {
        "id": "LYMIazIz48T-"
      }
    },
    {
      "cell_type": "code",
      "source": [
        "from itertools import combinations\n",
        "\n",
        "io = input().split()\n",
        "S = io[0]\n",
        "k = int(io[1])\n",
        "for i in range(1,k+1):\n",
        "    for j in combinations(sorted(S),i):\n",
        "        print(\"\".join(j))\n"
      ],
      "metadata": {
        "colab": {
          "base_uri": "https://localhost:8080/"
        },
        "id": "JUEWWuO448q9",
        "outputId": "0fdfa8c0-ebe5-4ea0-bb08-cfc9d0573394"
      },
      "execution_count": 2,
      "outputs": [
        {
          "output_type": "stream",
          "name": "stdout",
          "text": [
            "HACK 2\n",
            "A\n",
            "C\n",
            "H\n",
            "K\n",
            "AC\n",
            "AH\n",
            "AK\n",
            "CH\n",
            "CK\n",
            "HK\n"
          ]
        }
      ]
    },
    {
      "cell_type": "markdown",
      "source": [
        "itertools.combinations_with_replacement()"
      ],
      "metadata": {
        "id": "HsjtiV9C49NN"
      }
    },
    {
      "cell_type": "code",
      "source": [
        "from itertools import combinations_with_replacement\n",
        "string_c , len_c = list(input().split())\n",
        "dif_comp = list(combinations_with_replacement(sorted(string_c),int(len_c)))\n",
        "for i in dif_comp:\n",
        "    print(''.join(i))"
      ],
      "metadata": {
        "colab": {
          "base_uri": "https://localhost:8080/"
        },
        "id": "msmpllj949pZ",
        "outputId": "b7497a0d-2bf0-4f4b-d207-ce0a19ffa29b"
      },
      "execution_count": 3,
      "outputs": [
        {
          "output_type": "stream",
          "name": "stdout",
          "text": [
            "HACK 2\n",
            "AA\n",
            "AC\n",
            "AH\n",
            "AK\n",
            "CC\n",
            "CH\n",
            "CK\n",
            "HH\n",
            "HK\n",
            "KK\n"
          ]
        }
      ]
    },
    {
      "cell_type": "markdown",
      "source": [
        ""
      ],
      "metadata": {
        "id": "1LM4lZAu496c"
      }
    },
    {
      "cell_type": "code",
      "source": [
        "from itertools import product\n",
        "a = list(map(int,input().split()))\n",
        "b = list(map(int,input().split()))\n",
        "prod = list(product(a,b))\n",
        "for p in prod:\n",
        "    print(p,end=\" \")"
      ],
      "metadata": {
        "colab": {
          "base_uri": "https://localhost:8080/"
        },
        "id": "2kRqomri4-Wu",
        "outputId": "edc08784-2c06-4dfa-fb43-f92ce05bbe7a"
      },
      "execution_count": 4,
      "outputs": [
        {
          "output_type": "stream",
          "name": "stdout",
          "text": [
            "1 2\n",
            "3 4\n",
            "(1, 3) (1, 4) (2, 3) (2, 4) "
          ]
        }
      ]
    }
  ],
  "metadata": {
    "colab": {
      "collapsed_sections": [],
      "name": "S3-T1.ipynb",
      "provenance": []
    },
    "kernelspec": {
      "display_name": "Python 3",
      "language": "python",
      "name": "python3"
    },
    "language_info": {
      "codemirror_mode": {
        "name": "ipython",
        "version": 3
      },
      "file_extension": ".py",
      "mimetype": "text/x-python",
      "name": "python",
      "nbconvert_exporter": "python",
      "pygments_lexer": "ipython3",
      "version": "3.6.7"
    }
  },
  "nbformat": 4,
  "nbformat_minor": 0
}