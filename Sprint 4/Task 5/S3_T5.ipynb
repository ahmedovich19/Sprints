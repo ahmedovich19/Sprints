{
  "cells": [
    {
      "cell_type": "markdown",
      "source": [
        ""
      ],
      "metadata": {
        "id": "euIEUslyAGeC"
      }
    },
    {
      "cell_type": "markdown",
      "source": [
        "XML 1 - Find the Score"
      ],
      "metadata": {
        "id": "9dGcG6nBR-zh"
      }
    },
    {
      "cell_type": "code",
      "source": [
        "import sys\n",
        "import xml.etree.ElementTree as etree\n",
        "\n",
        "def get_attr_number(node):\n",
        "    return len(node.attrib) + sum([get_attr_number(child) for child in node])\n",
        "    \n",
        "if __name__ == '__main__':\n",
        "    sys.stdin.readline()\n",
        "    xml = sys.stdin.read()\n",
        "    tree = etree.ElementTree(etree.fromstring(xml))\n",
        "    root = tree.getroot()\n",
        "    print(get_attr_number(root))"
      ],
      "metadata": {
        "id": "zV7SzhTUAHPT"
      },
      "execution_count": null,
      "outputs": []
    },
    {
      "cell_type": "markdown",
      "source": [
        "xml2-find-the-maximum-depth"
      ],
      "metadata": {
        "id": "8xkW1x6NVLLv"
      }
    },
    {
      "cell_type": "code",
      "source": [
        "import xml.etree.ElementTree as etree\n",
        "\n",
        "maxdepth = 0\n",
        "def depth(elem, level):\n",
        "    global maxdepth\n",
        "    if (level == maxdepth):\n",
        "        maxdepth += 1\n",
        "\n",
        "    for child in elem:\n",
        "        depth(child, level + 1)\n",
        "\n",
        "if __name__ == '__main__':\n",
        "    n = int(input())\n",
        "    xml = \"\"\n",
        "    for i in range(n):\n",
        "        xml =  xml + input() + \"\\n\"\n",
        "    tree = etree.ElementTree(etree.fromstring(xml))\n",
        "    depth(tree.getroot(), -1)\n",
        "    print(maxdepth)"
      ],
      "metadata": {
        "colab": {
          "base_uri": "https://localhost:8080/"
        },
        "id": "XJboF_nkSEjK",
        "outputId": "1cee8e1e-08b5-41d0-c212-869b2ae0ee2d"
      },
      "execution_count": null,
      "outputs": [
        {
          "output_type": "stream",
          "name": "stdout",
          "text": [
            "6\n",
            "<feed xml:lang='en'>\n",
            "  <title>HackerRank</title>\n",
            "  <subtitle lang='en'>Programming challenges</subtitle>\n",
            "  <link rel='alternate' type='text/html' href='http://hackerrank.com/'/>\n",
            "  <updated>2013-12-25T12:00:00</updated>\n",
            "</feed>\n",
            "1\n"
          ]
        }
      ]
    },
    {
      "cell_type": "markdown",
      "source": [
        "Standardize Mobile Number Using Decorators"
      ],
      "metadata": {
        "id": "jI8fdCiEfBB0"
      }
    },
    {
      "cell_type": "code",
      "source": [
        "def wrapper(f):\n",
        "    def fun(l):\n",
        "       f(['+91 ' + c[-10:-5] + ' ' + c[-5:] for c in l])      \n",
        "\n",
        "        \n",
        "            \n",
        "        # complete the function\n",
        "    return fun\n",
        "\n",
        "@wrapper\n",
        "def sort_phone(l):\n",
        "    print(*sorted(l), sep='\\n')\n",
        "\n",
        "if __name__ == '__main__':\n",
        "    l = [input() for _ in range(int(input()))]\n",
        "    sort_phone(l) \n"
      ],
      "metadata": {
        "colab": {
          "base_uri": "https://localhost:8080/"
        },
        "id": "1FN4ueB3VPD1",
        "outputId": "7ffb629f-44da-4c5a-acdb-e71e9bfc220f"
      },
      "execution_count": null,
      "outputs": [
        {
          "output_type": "stream",
          "name": "stdout",
          "text": [
            "3\n",
            "07895462130\n",
            "919875641230\n",
            "9195969878\n",
            "+91 78954 62130\n",
            "+91 91959 69878\n",
            "+91 98756 41230\n"
          ]
        }
      ]
    },
    {
      "cell_type": "markdown",
      "source": [
        "decorators-2-name-directory"
      ],
      "metadata": {
        "id": "ESXAoSc7k2QR"
      }
    },
    {
      "cell_type": "code",
      "source": [
        "import operator\n",
        "\n",
        "def person_lister(f):\n",
        "    def inner(people):\n",
        "       return map(f, sorted(people, key=lambda x: int(x[2])))\n",
        "    return inner\n",
        "\n",
        "@person_lister\n",
        "def name_format(person):\n",
        "    return (\"Mr. \" if person[3] == \"M\" else \"Ms. \") + person[0] + \" \" + person[1]\n",
        "\n",
        "if __name__ == '__main__':\n",
        "    people = [input().split() for i in range(int(input()))]\n",
        "    print(*name_format(people), sep='\\n')"
      ],
      "metadata": {
        "id": "oixcE4KMfFGY",
        "colab": {
          "base_uri": "https://localhost:8080/"
        },
        "outputId": "66088eb8-4ec4-4220-8c24-9085b8ef938a"
      },
      "execution_count": null,
      "outputs": [
        {
          "output_type": "stream",
          "name": "stdout",
          "text": [
            "3\n",
            "Mike Thomson 20 M\n",
            "Robert Bustle 32 M\n",
            "Andria Bustle 30 F\n",
            "Mr. Mike Thomson\n",
            "Ms. Andria Bustle\n",
            "Mr. Robert Bustle\n"
          ]
        }
      ]
    },
    {
      "cell_type": "markdown",
      "source": [
        "Arrays"
      ],
      "metadata": {
        "id": "Cbzr4dx8Ql6-"
      }
    },
    {
      "cell_type": "code",
      "source": [
        "import numpy\n",
        "\n",
        "def arrays(arr):\n",
        "    # complete this function\n",
        "    # use numpy.array\n",
        "    \n",
        "    arr= numpy.array(arr,float)\n",
        "\n",
        "    return arr[::-1]\n",
        "\n",
        "arr = input().strip().split(' ')\n",
        "result = arrays(arr)\n",
        "print(result)"
      ],
      "metadata": {
        "id": "1Vu89THPk5_6",
        "colab": {
          "base_uri": "https://localhost:8080/"
        },
        "outputId": "507327cb-a72a-419b-d5c3-0b9ec04c285b"
      },
      "execution_count": null,
      "outputs": [
        {
          "output_type": "stream",
          "name": "stdout",
          "text": [
            "1 2 3 4 -8 -10\n",
            "[-10.  -8.   4.   3.   2.   1.]\n"
          ]
        }
      ]
    },
    {
      "cell_type": "markdown",
      "source": [
        "Shape and Reshape"
      ],
      "metadata": {
        "id": "4gcTjMCbSrgB"
      }
    },
    {
      "cell_type": "code",
      "source": [
        "import numpy\n",
        "def d_arrays(arr):\n",
        "    arr = numpy.array(arr,int)\n",
        "    arr.shape=(3,3)\n",
        "    return arr\n",
        "    \n",
        "    \n",
        "arr =input().strip().split(' ')\n",
        "result = d_arrays(arr)\n",
        "print(result)"
      ],
      "metadata": {
        "colab": {
          "base_uri": "https://localhost:8080/"
        },
        "id": "4tYNuGW6StB5",
        "outputId": "f3305b83-623a-4b32-bd2f-9a62ed482dd0"
      },
      "execution_count": null,
      "outputs": [
        {
          "output_type": "stream",
          "name": "stdout",
          "text": [
            "1 2 3 4 5 6 7 8 9\n",
            "[[1 2 3]\n",
            " [4 5 6]\n",
            " [7 8 9]]\n"
          ]
        }
      ]
    },
    {
      "cell_type": "markdown",
      "source": [
        "Transpose and Flatten"
      ],
      "metadata": {
        "id": "HorEj3P0Stp7"
      }
    },
    {
      "cell_type": "code",
      "source": [
        "import numpy as np\n",
        "\n",
        "def transpoed_array(arr):\n",
        "    arr = np.transpose(arr)\n",
        "    return arr\n",
        "def flattend_array(arr):\n",
        "    arr= arr.flatten()\n",
        "    return arr\n",
        "n,m =input().strip().split()\n",
        "arr_l=[]\n",
        "for _ in range(int(n)):\n",
        "    arr_l.append(input().strip().split())\n",
        "arr_d = np.array(arr_l,int)\n",
        "print(transpoed_array(arr_d))\n",
        "print(flattend_array(arr_d))\n",
        "\n"
      ],
      "metadata": {
        "colab": {
          "base_uri": "https://localhost:8080/"
        },
        "id": "A4j5a3J5SsEW",
        "outputId": "daf318ed-5946-4196-df06-5b050a010fb4"
      },
      "execution_count": null,
      "outputs": [
        {
          "output_type": "stream",
          "name": "stdout",
          "text": [
            "2 2\n",
            "1 2\n",
            "3 4\n",
            "[[1 3]\n",
            " [2 4]]\n",
            "[1 2 3 4]\n"
          ]
        }
      ]
    },
    {
      "cell_type": "markdown",
      "source": [
        "Concatenate"
      ],
      "metadata": {
        "id": "d-61TdxqSsfy"
      }
    },
    {
      "cell_type": "code",
      "source": [
        "import numpy as np\n",
        "\n",
        "n,m,p = list(map(int,input().strip().split()))\n",
        "arr_l=[]\n",
        "arr_l_two=[]\n",
        "for _ in range(n):\n",
        "    arr_l.append(input().strip().split())\n",
        "    \n",
        "for _ in range(m):\n",
        "    arr_l_two.append(input().strip().split())\n",
        "arr_d = np.array(arr_l,int)\n",
        "arr_d_two = np.array(arr_l_two,int)\n",
        "print(np.concatenate((arr_d,arr_d_two)))"
      ],
      "metadata": {
        "colab": {
          "base_uri": "https://localhost:8080/"
        },
        "id": "l4xtEh9mQoMy",
        "outputId": "933a54af-798b-48d8-cfbe-27ecf027c04d"
      },
      "execution_count": null,
      "outputs": [
        {
          "output_type": "stream",
          "name": "stdout",
          "text": [
            "4 3 2\n",
            "1 2\n",
            "1 2\n",
            "1 2\n",
            "1 2\n",
            "3 4\n",
            "3 4\n",
            "3 4\n",
            "[[1 2]\n",
            " [1 2]\n",
            " [1 2]\n",
            " [1 2]\n",
            " [3 4]\n",
            " [3 4]\n",
            " [3 4]]\n"
          ]
        }
      ]
    },
    {
      "cell_type": "markdown",
      "source": [
        "Concatenate"
      ],
      "metadata": {
        "id": "1vYvX4smovu8"
      }
    },
    {
      "cell_type": "code",
      "source": [
        "import numpy as np\n",
        "\n",
        "N = tuple(map(int, input().split()))\n",
        "print(np.zeros(N, int))\n",
        "print(np.ones(N, int))"
      ],
      "metadata": {
        "colab": {
          "base_uri": "https://localhost:8080/"
        },
        "id": "5-mebA2ShGHB",
        "outputId": "80ab7807-21c1-4959-8115-d7b3702fbad1"
      },
      "execution_count": null,
      "outputs": [
        {
          "output_type": "stream",
          "name": "stdout",
          "text": [
            "3 3 3\n",
            "[[[0 0 0]\n",
            "  [0 0 0]\n",
            "  [0 0 0]]\n",
            "\n",
            " [[0 0 0]\n",
            "  [0 0 0]\n",
            "  [0 0 0]]\n",
            "\n",
            " [[0 0 0]\n",
            "  [0 0 0]\n",
            "  [0 0 0]]]\n",
            "[[[1 1 1]\n",
            "  [1 1 1]\n",
            "  [1 1 1]]\n",
            "\n",
            " [[1 1 1]\n",
            "  [1 1 1]\n",
            "  [1 1 1]]\n",
            "\n",
            " [[1 1 1]\n",
            "  [1 1 1]\n",
            "  [1 1 1]]]\n"
          ]
        }
      ]
    },
    {
      "cell_type": "markdown",
      "source": [
        "Eye and Identity"
      ],
      "metadata": {
        "id": "aUgHnTdTs8wq"
      }
    },
    {
      "cell_type": "code",
      "source": [
        "import numpy as np\n",
        "np.set_printoptions(legacy=\"1.13\")\n",
        "n,m= list(map(int,input().strip().split()))\n",
        "print(np.eye(n,m, k=0))"
      ],
      "metadata": {
        "colab": {
          "base_uri": "https://localhost:8080/"
        },
        "id": "i0XnS5BaoyOu",
        "outputId": "51016023-2bb6-43a1-95cf-a4321d344548"
      },
      "execution_count": null,
      "outputs": [
        {
          "output_type": "stream",
          "name": "stdout",
          "text": [
            "3 3\n",
            "[[ 1.  0.  0.]\n",
            " [ 0.  1.  0.]\n",
            " [ 0.  0.  1.]]\n"
          ]
        }
      ]
    },
    {
      "cell_type": "markdown",
      "source": [
        "Floor, Ceil and Rint"
      ],
      "metadata": {
        "id": "d2GKX7vL4BnP"
      }
    },
    {
      "cell_type": "code",
      "source": [
        "import numpy as np\n",
        "np.set_printoptions(legacy=\"1.13\")\n",
        "n= input().strip().split()\n",
        "arr=np.array(n,float)\n",
        "print(np.floor(arr))\n",
        "print(np.ceil(arr))\n",
        "print(np.rint(arr))\n"
      ],
      "metadata": {
        "colab": {
          "base_uri": "https://localhost:8080/"
        },
        "id": "ihtU4JF5s_eQ",
        "outputId": "fc372585-8210-46ca-e814-61099137c863"
      },
      "execution_count": null,
      "outputs": [
        {
          "output_type": "stream",
          "name": "stdout",
          "text": [
            "1.1 2.2 3.3 4.4 5.5 6.6 7.7 8.8 9.9\n",
            "[ 1.  2.  3.  4.  5.  6.  7.  8.  9.]\n",
            "[  2.   3.   4.   5.   6.   7.   8.   9.  10.]\n",
            "[  1.   2.   3.   4.   6.   7.   8.   9.  10.]\n"
          ]
        }
      ]
    },
    {
      "cell_type": "markdown",
      "source": [
        "Sum and Prod\n"
      ],
      "metadata": {
        "id": "9eyAiPjPABI9"
      }
    },
    {
      "cell_type": "code",
      "source": [
        "import numpy as np\n",
        "n,m = list(map(int,input().strip().split()))\n",
        "x_list=[]\n",
        "for _ in range(n):\n",
        "    x = input().strip().split()\n",
        "    x_list.append(x)\n",
        "n_array = np.array((x_list),int)\n",
        "sum_array =np.sum(n_array,axis=0)\n",
        "print(np.prod(sum_array))"
      ],
      "metadata": {
        "colab": {
          "base_uri": "https://localhost:8080/"
        },
        "id": "1tBzzSUk4ESs",
        "outputId": "72215609-d907-4810-8437-e3d00011cfa4"
      },
      "execution_count": null,
      "outputs": [
        {
          "output_type": "stream",
          "name": "stdout",
          "text": [
            "2 2\n",
            "1 2\n",
            "3 4\n",
            "24\n"
          ]
        }
      ]
    },
    {
      "cell_type": "markdown",
      "source": [
        "Min and Max"
      ],
      "metadata": {
        "id": "5TS0yyHCEoGo"
      }
    },
    {
      "cell_type": "code",
      "source": [
        "import numpy as np\n",
        "n,m = list(map(int,input().strip().split()))\n",
        "arr_l = []\n",
        "for _ in range(n):\n",
        "    m = input().strip().split()\n",
        "    arr_l.append(m)\n",
        "arr_m = np.array((arr_l),int)\n",
        "arr_m_min = np.min(arr_m,axis=1)\n",
        "arr_prod = np.max(arr_m_min)\n",
        "print(arr_prod)"
      ],
      "metadata": {
        "colab": {
          "base_uri": "https://localhost:8080/"
        },
        "id": "iXUoP8XpAIqZ",
        "outputId": "a1f8b68d-6402-4450-e437-4330070190e4"
      },
      "execution_count": null,
      "outputs": [
        {
          "output_type": "stream",
          "name": "stdout",
          "text": [
            "4 2\n",
            "2 5\n",
            "3 7\n",
            "1 3\n",
            "4 0\n",
            "3\n"
          ]
        }
      ]
    },
    {
      "cell_type": "markdown",
      "source": [
        "Array Mathematics"
      ],
      "metadata": {
        "id": "138pTsF3bh9u"
      }
    },
    {
      "cell_type": "code",
      "source": [
        "import numpy as np\n",
        "n,m=list(map(int,input().split()))\n",
        "a_arr = np.array([input().split() for _ in range(n)],int)\n",
        "b_arr = np.array([input().split() for _ in range(n)],int)\n",
        "    \n",
        "print(np.add(a_arr,b_arr))\n",
        "print(np.subtract(a_arr,b_arr))\n",
        "print(np.multiply(a_arr,b_arr))\n",
        "print(np.floor_divide(a_arr,b_arr))\n",
        "print(np.mod(a_arr,b_arr))\n",
        "print(np.power(a_arr,b_arr))"
      ],
      "metadata": {
        "id": "GvoOh2veErMm",
        "colab": {
          "base_uri": "https://localhost:8080/"
        },
        "outputId": "22f9102b-493e-482f-f26e-0132e095a0f3"
      },
      "execution_count": null,
      "outputs": [
        {
          "output_type": "stream",
          "name": "stdout",
          "text": [
            "1 4\n",
            "1 2 3 4\n",
            "5 6 7 8\n",
            "[[ 6  8 10 12]]\n",
            "[[-4 -4 -4 -4]]\n",
            "[[ 5 12 21 32]]\n",
            "[[0 0 0 0]]\n",
            "[[1 2 3 4]]\n",
            "[[    1    64  2187 65536]]\n"
          ]
        }
      ]
    },
    {
      "cell_type": "markdown",
      "source": [
        "Dot and Cross"
      ],
      "metadata": {
        "id": "IkzakRwQeUaI"
      }
    },
    {
      "cell_type": "code",
      "source": [
        "import numpy as np\n",
        "n = int(input())\n",
        "a = np.array([list(map(int,input().split())) for _ in range(n)])\n",
        "b = np.array([list(map(int,input().split())) for _ in range(n)])\n",
        "print(np.dot(a,b))"
      ],
      "metadata": {
        "colab": {
          "base_uri": "https://localhost:8080/"
        },
        "id": "2e_AfmbcbT4x",
        "outputId": "b6615374-ce36-4ca0-b5ae-95965fe622c9"
      },
      "execution_count": null,
      "outputs": [
        {
          "output_type": "stream",
          "name": "stdout",
          "text": [
            "2\n",
            "1 2\n",
            "3 4\n",
            "1 2\n",
            "3 4\n",
            "[[ 7 10]\n",
            " [15 22]]\n"
          ]
        }
      ]
    },
    {
      "cell_type": "markdown",
      "source": [
        "Inner and Outer"
      ],
      "metadata": {
        "id": "RmQLjIz4epDX"
      }
    },
    {
      "cell_type": "code",
      "source": [
        "import numpy as np\n",
        "\n",
        "a = np.array(list(map(int,input().split())))\n",
        "b = np.array(list(map(int,input().split())))\n",
        "print(np.inner(a,b))\n",
        "print(np.outer(a,b))"
      ],
      "metadata": {
        "colab": {
          "base_uri": "https://localhost:8080/"
        },
        "id": "FBhNVNYqeW3E",
        "outputId": "7d14bcc3-8662-4782-ea40-3adefc0bb0c6"
      },
      "execution_count": null,
      "outputs": [
        {
          "output_type": "stream",
          "name": "stdout",
          "text": [
            "0 1\n",
            "2 3\n",
            "3\n",
            "[[0 0]\n",
            " [2 3]]\n"
          ]
        }
      ]
    },
    {
      "cell_type": "markdown",
      "source": [
        "Polynomials"
      ],
      "metadata": {
        "id": "28QN0F84jvfE"
      }
    },
    {
      "cell_type": "code",
      "source": [
        "import numpy as np\n",
        "\n",
        "arr_p = np.array(list(map(float,input().split())))\n",
        "x = int(input())\n",
        "print(np.polyval(arr_p,x))\n"
      ],
      "metadata": {
        "colab": {
          "base_uri": "https://localhost:8080/"
        },
        "id": "1eG32sT9f4CN",
        "outputId": "417a3041-6946-4ced-d4ad-f3322b262d21"
      },
      "execution_count": null,
      "outputs": [
        {
          "output_type": "stream",
          "name": "stdout",
          "text": [
            "1.1 2 3\n",
            "0\n",
            "3.0\n"
          ]
        }
      ]
    },
    {
      "cell_type": "markdown",
      "source": [
        "Linear Algebra"
      ],
      "metadata": {
        "id": "XW-Djnb4oNdp"
      }
    },
    {
      "cell_type": "code",
      "source": [
        "import numpy as np\n",
        "\n",
        "n = int(input())\n",
        "a = np.array([list(map(float,input().split())) for _ in range(n)])\n",
        "print(round(np.linalg.det(a),2))"
      ],
      "metadata": {
        "colab": {
          "base_uri": "https://localhost:8080/"
        },
        "id": "mD8l0j5cj3Pj",
        "outputId": "c1075e16-71e3-4580-d7a7-7e69bf135279"
      },
      "execution_count": null,
      "outputs": [
        {
          "output_type": "stream",
          "name": "stdout",
          "text": [
            "2\n",
            "1.1 1.1\n",
            "1.1 1.1\n",
            "0.0\n"
          ]
        }
      ]
    },
    {
      "cell_type": "markdown",
      "source": [
        "Mean, Var, and Std"
      ],
      "metadata": {
        "id": "SyeLVbc8vWVX"
      }
    },
    {
      "cell_type": "code",
      "source": [
        "import numpy as np\n",
        "n,m =list(map(int,input().split()))\n",
        "m = np.array([input().split() for _ in range(n)],float)\n",
        "\n",
        "print(np.mean(m,axis=1))\n",
        "print(np.var(m,axis=0))\n",
        "print(np.round(np.std(m), 11))"
      ],
      "metadata": {
        "colab": {
          "base_uri": "https://localhost:8080/"
        },
        "id": "jN2Xi3WEoPyI",
        "outputId": "6cfabc48-0e52-42b8-96d9-6c8bc583e9ff"
      },
      "execution_count": null,
      "outputs": [
        {
          "output_type": "stream",
          "name": "stdout",
          "text": [
            "2 2\n",
            "1 2\n",
            "3 4\n",
            "[ 1.5  3.5]\n",
            "[ 1.  1.]\n",
            "1.11803398875\n"
          ]
        }
      ]
    },
    {
      "cell_type": "markdown",
      "source": [
        "Zipped!"
      ],
      "metadata": {
        "id": "tXpR9fr3UII2"
      }
    },
    {
      "cell_type": "code",
      "source": [
        "# Enter your code here. Read input from STDIN. Print output to STDOUT\n",
        "n, x = list(map(int,input().split()))\n",
        "subject_scores = [list(map(float,input().split())) for _ in range(x)]\n",
        "students_scores = list(zip(*subject_scores))\n",
        "for i in students_scores:\n",
        "    print(sum(i)/x)\n",
        "    "
      ],
      "metadata": {
        "id": "neOErBsGvZck",
        "colab": {
          "base_uri": "https://localhost:8080/"
        },
        "outputId": "e0c1028a-16a9-491d-d9e5-1f2f9b67212f"
      },
      "execution_count": null,
      "outputs": [
        {
          "output_type": "stream",
          "name": "stdout",
          "text": [
            "5 3\n",
            "89 90 78 93 80\n",
            "90 91 85 88 86\n",
            "91 92 83 89 90.5\n",
            "90.0\n",
            "91.0\n",
            "82.0\n",
            "90.0\n",
            "85.5\n"
          ]
        }
      ]
    },
    {
      "cell_type": "markdown",
      "source": [
        "Input()"
      ],
      "metadata": {
        "id": "jAghPSgiYMlW"
      }
    },
    {
      "cell_type": "code",
      "source": [
        "if __name__ == \"__main__\":\n",
        "    x, k = map(int, input().strip().split())\n",
        "    string = input().strip()\n",
        "    \n",
        "    if eval(string) == k:\n",
        "        print(True)\n",
        "    else:\n",
        "        print(False)"
      ],
      "metadata": {
        "colab": {
          "base_uri": "https://localhost:8080/"
        },
        "id": "aUXTCCDZUKLJ",
        "outputId": "8375239d-cddd-41d7-fa5d-cbaab3664ee5"
      },
      "execution_count": null,
      "outputs": [
        {
          "output_type": "stream",
          "name": "stdout",
          "text": [
            "1 4\n",
            "x**3 + x**2 + x + 1\n",
            "True\n"
          ]
        }
      ]
    },
    {
      "cell_type": "markdown",
      "source": [
        "Python Evaluation"
      ],
      "metadata": {
        "id": "rmbNUJpOZbwy"
      }
    },
    {
      "cell_type": "code",
      "source": [
        "eval(input())"
      ],
      "metadata": {
        "colab": {
          "base_uri": "https://localhost:8080/"
        },
        "id": "ounLkjfhYNSr",
        "outputId": "0c038d75-b0e7-4cf9-933e-0e74e1cedd52"
      },
      "execution_count": null,
      "outputs": [
        {
          "output_type": "stream",
          "name": "stdout",
          "text": [
            "print(2 + 3)\n",
            "5\n"
          ]
        }
      ]
    },
    {
      "cell_type": "markdown",
      "source": [
        "Any or All"
      ],
      "metadata": {
        "id": "Ba_RkxL1h1dK"
      }
    },
    {
      "cell_type": "code",
      "source": [
        "# Enter your code here. Read input from STDIN. Print output to STDOUT\n",
        "_ = input()\n",
        "n = input().split()\n",
        "print(all([int(i) > 0 for i in n]) and any([j == j[::-1] for j in n]))"
      ],
      "metadata": {
        "colab": {
          "base_uri": "https://localhost:8080/"
        },
        "id": "HOUaM4N8byNu",
        "outputId": "6d634530-e6ac-4bb2-ad2d-71af85c52fe4"
      },
      "execution_count": null,
      "outputs": [
        {
          "output_type": "stream",
          "name": "stdout",
          "text": [
            "5\n",
            "12 9 61 5 14\n",
            "True\n"
          ]
        }
      ]
    },
    {
      "cell_type": "markdown",
      "source": [
        "ginorts"
      ],
      "metadata": {
        "id": "oJtbcHnNpS4X"
      }
    },
    {
      "cell_type": "code",
      "source": [
        "# Enter your code here. Read input from STDIN. Print output to STDOUT\n",
        "s = input()\n",
        "lower_s=\"\"\n",
        "upper_s=\"\"\n",
        "odd_d=\"\"\n",
        "even_d=\"\"\n",
        "for i in s:\n",
        "    if i.islower():\n",
        "        lower_s+=i\n",
        "    elif(i.isupper()):\n",
        "        upper_s+=i\n",
        "    elif(i.isnumeric()):\n",
        "        if int(i) % 2==1:\n",
        "            odd_d+=i\n",
        "        elif int(i) % 2==0:\n",
        "            even_d+=i\n",
        "new_s = sorted(lower_s)+sorted(upper_s)+sorted(odd_d)+sorted(even_d)\n",
        "print(\"\".join(new_s))\n"
      ],
      "metadata": {
        "colab": {
          "base_uri": "https://localhost:8080/"
        },
        "id": "FR5JM6Ggh3Be",
        "outputId": "586b5507-ee04-400d-cf59-9c6c96ad1f32"
      },
      "execution_count": null,
      "outputs": [
        {
          "output_type": "stream",
          "name": "stdout",
          "text": [
            "Sorting1234\n",
            "ginortS1324\n"
          ]
        }
      ]
    },
    {
      "cell_type": "markdown",
      "source": [
        "python-sort-sort athletes "
      ],
      "metadata": {
        "id": "_cGwZaUvsok-"
      }
    },
    {
      "cell_type": "code",
      "source": [
        "#!/bin/python3\n",
        "\n",
        "import math\n",
        "import os\n",
        "import random\n",
        "import re\n",
        "import sys\n",
        "\n",
        "\n",
        "\n",
        "if __name__ == '__main__':\n",
        "    nm = input().split()\n",
        "\n",
        "    n = int(nm[0])\n",
        "\n",
        "    m = int(nm[1])\n",
        "\n",
        "    arr = []\n",
        "\n",
        "    for _ in range(n):\n",
        "        arr.append(list(map(int, input().rstrip().split())))\n",
        "\n",
        "    k = int(input())\n",
        "    \n",
        "    arr.sort(key = lambda x : x[k])\n",
        "    for i in arr:\n",
        "        print(*i,sep=' ')\n"
      ],
      "metadata": {
        "colab": {
          "base_uri": "https://localhost:8080/"
        },
        "id": "NU5Mh9W9pV5s",
        "outputId": "bca9a434-1c28-42b3-db11-183152b82376"
      },
      "execution_count": null,
      "outputs": [
        {
          "output_type": "stream",
          "name": "stdout",
          "text": [
            "5 3\n",
            "10 2 5\n",
            "7 1 0\n",
            "9 9 9\n",
            "1 23 12\n",
            "6 5 9\n",
            "1\n",
            "7 1 0\n",
            "10 2 5\n",
            "6 5 9\n",
            "9 9 9\n",
            "1 23 12\n"
          ]
        }
      ]
    },
    {
      "cell_type": "markdown",
      "source": [
        "words-score"
      ],
      "metadata": {
        "id": "OKljotIwwrhm"
      }
    },
    {
      "cell_type": "code",
      "source": [
        "def is_vowel(letter):\n",
        "    return letter in ['a', 'e', 'i', 'o', 'u', 'y']\n",
        "\n",
        "def score_words(words):\n",
        "    score = 0\n",
        "    for word in words:\n",
        "        num_vowels = 0\n",
        "        for letter in word:\n",
        "            if is_vowel(letter):\n",
        "                num_vowels += 1\n",
        "        if num_vowels % 2 == 0:\n",
        "            score += 2\n",
        "        elif num_vowels % 2 == 1:\n",
        "            score += 1\n",
        "    return score\n",
        "\n",
        "\n",
        "n = int(input())\n",
        "words = input().split()\n",
        "print(score_words(words))"
      ],
      "metadata": {
        "colab": {
          "base_uri": "https://localhost:8080/"
        },
        "id": "c5JcONjPsqoD",
        "outputId": "b6ceb959-2eba-46d3-de5f-fa24dc526d3b"
      },
      "execution_count": null,
      "outputs": [
        {
          "output_type": "stream",
          "name": "stdout",
          "text": [
            "2\n",
            "hacker book\n",
            "4\n"
          ]
        }
      ]
    },
    {
      "cell_type": "markdown",
      "source": [
        "maximize it"
      ],
      "metadata": {
        "id": "9OX2absp7-O9"
      }
    },
    {
      "cell_type": "code",
      "source": [
        "from itertools import *\n",
        "\n",
        "K, M = map(int, input().split())\n",
        "N = []\n",
        "\n",
        "for _ in range(K):\n",
        "    N.append(map(int, input().split()[1:]))\n",
        "MAX = 0\n",
        "for i in product(*N):\n",
        "    MAX = max(sum(map(lambda x: x**2, i))%M, MAX)\n",
        "\n",
        "print(MAX)\n"
      ],
      "metadata": {
        "id": "G0yPpJT0wvQ7",
        "colab": {
          "base_uri": "https://localhost:8080/"
        },
        "outputId": "ceebd8f7-8a47-4f5f-b8e3-d7ce94ac1158"
      },
      "execution_count": null,
      "outputs": [
        {
          "output_type": "stream",
          "name": "stdout",
          "text": [
            "3 1000\n",
            "2 5 4\n",
            "3 7 8 9\n",
            "5 5 7 8 9 10\n",
            "206\n"
          ]
        }
      ]
    },
    {
      "cell_type": "code",
      "source": [
        ""
      ],
      "metadata": {
        "id": "5yR2CkUB8CGA"
      },
      "execution_count": null,
      "outputs": []
    }
  ],
  "metadata": {
    "colab": {
      "collapsed_sections": [],
      "name": "S3-T5.ipynb",
      "provenance": []
    },
    "kernelspec": {
      "display_name": "Python 3",
      "language": "python",
      "name": "python3"
    },
    "language_info": {
      "codemirror_mode": {
        "name": "ipython",
        "version": 3
      },
      "file_extension": ".py",
      "mimetype": "text/x-python",
      "name": "python",
      "nbconvert_exporter": "python",
      "pygments_lexer": "ipython3",
      "version": "3.6.7"
    }
  },
  "nbformat": 4,
  "nbformat_minor": 0
}