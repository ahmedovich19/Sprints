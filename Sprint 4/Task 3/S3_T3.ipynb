{
  "cells": [
    {
      "cell_type": "markdown",
      "source": [
        "Calendar Module"
      ],
      "metadata": {
        "id": "W9ovDx-P2sje"
      }
    },
    {
      "cell_type": "code",
      "source": [
        "import calendar\n",
        "m,d,y = map(int,input().split())\n",
        "print(calendar.day_name[calendar.weekday(y,m,d)].upper())\n"
      ],
      "metadata": {
        "id": "nH9WfO8d2s1a",
        "colab": {
          "base_uri": "https://localhost:8080/"
        },
        "outputId": "867f165c-092e-4b1d-faaa-2a76850fc341"
      },
      "execution_count": null,
      "outputs": [
        {
          "output_type": "stream",
          "name": "stdout",
          "text": [
            "08 05 2015\n",
            "WEDNESDAY\n"
          ]
        }
      ]
    },
    {
      "cell_type": "markdown",
      "source": [
        ""
      ],
      "metadata": {
        "id": "RaB__MD_T46J"
      }
    },
    {
      "cell_type": "code",
      "source": [
        "#!/bin/python3\n",
        "\n",
        "import math\n",
        "import os\n",
        "import random\n",
        "import re\n",
        "import sys\n",
        "\n",
        "# Complete the time_delta function below.\n",
        "from datetime import datetime\n",
        "def time_delta(t1, t2):\n",
        "    t1 = datetime.strptime(t1, '%a %d %b %Y %H:%M:%S %z')\n",
        "    t2 = datetime.strptime(t2, '%a %d %b %Y %H:%M:%S %z')\n",
        "    print(str(int(abs((t1-t2).total_seconds()))))\n",
        "# Time Delta in Python - Hacker Rank Solution END\n",
        "\n",
        "if __name__ == '__main__':\n",
        "    t = int(input())\n",
        "\n",
        "    for t_itr in range(t):\n",
        "        t1 = input()\n",
        "\n",
        "        t2 = input()\n",
        "\n",
        "        delta = time_delta(t1, t2)"
      ],
      "metadata": {
        "colab": {
          "base_uri": "https://localhost:8080/"
        },
        "id": "Xq4ukLFsH7Bl",
        "outputId": "66f48e46-d773-4f00-f9a6-302a8048f3b7"
      },
      "execution_count": null,
      "outputs": [
        {
          "output_type": "stream",
          "name": "stdout",
          "text": [
            "2\n",
            "Sun 10 May 2015 13:54:36 -0700\n",
            "Sun 10 May 2015 13:54:36 -0000\n",
            "25200\n",
            "Sat 02 May 2015 19:54:36 +0530\n",
            "Fri 01 May 2015 13:54:36 -0000\n",
            "88200\n"
          ]
        }
      ]
    },
    {
      "cell_type": "markdown",
      "source": [
        "Exceptions"
      ],
      "metadata": {
        "id": "oHlDvv6fYIs5"
      }
    },
    {
      "cell_type": "code",
      "source": [
        "t = int(input())\n",
        "for i in range(t):\n",
        "    try:\n",
        "        a,b=input().split()\n",
        "        print(int(a)//int(b))\n",
        "    except ZeroDivisionError as e:\n",
        "        print(\"Error Code:\",e);\n",
        "    except ValueError as v:\n",
        "        print(\"Error Code:\",v);"
      ],
      "metadata": {
        "colab": {
          "base_uri": "https://localhost:8080/"
        },
        "id": "FLimN8V0T5ru",
        "outputId": "eb9fe951-b532-4bb1-edd0-fcac414e842c"
      },
      "execution_count": null,
      "outputs": [
        {
          "output_type": "stream",
          "name": "stdout",
          "text": [
            "3\n",
            "1 0\n",
            "Error Code: integer division or modulo by zero\n",
            "2 $\n",
            "Error Code: invalid literal for int() with base 10: '$'\n",
            "3 1\n",
            "3\n"
          ]
        }
      ]
    },
    {
      "cell_type": "markdown",
      "source": [
        "Incorrect Regex"
      ],
      "metadata": {
        "id": "O1je2ERTP_x4"
      }
    },
    {
      "cell_type": "code",
      "source": [
        "import re\n",
        "\n",
        "t = int(input())\n",
        "for _ in range(t): \n",
        "    try:\n",
        "        re.compile(input())\n",
        "        print(True)\n",
        "    except re.error:\n",
        "        print(False)"
      ],
      "metadata": {
        "id": "TTzpbfLHYOJc",
        "colab": {
          "base_uri": "https://localhost:8080/"
        },
        "outputId": "e8e0bc39-cac2-4860-9cf4-83f293b753ad"
      },
      "execution_count": null,
      "outputs": [
        {
          "output_type": "stream",
          "name": "stdout",
          "text": [
            "2\n",
            ".*\\+\n",
            "True\n",
            ".*+\n",
            "False\n"
          ]
        }
      ]
    },
    {
      "cell_type": "markdown",
      "source": [
        "Classes: Dealing with Complex Numbers\n"
      ],
      "metadata": {
        "id": "K4shiktQXXwE"
      }
    },
    {
      "cell_type": "code",
      "source": [
        "import math\n",
        "\n",
        "class Complex(object):\n",
        "    def __init__(self, real, imaginary):\n",
        "        self.real = real\n",
        "        self.imaginary = imaginary\n",
        "\n",
        "    def __add__(self, no):\n",
        "        a = self.real\n",
        "        b = self.imaginary\n",
        "        c = no.real\n",
        "        d = no.imaginary\n",
        "        return Complex(a + c, b + d)\n",
        "\n",
        "    def __sub__(self, no):\n",
        "        a = self.real\n",
        "        b = self.imaginary\n",
        "        c = no.real\n",
        "        d = no.imaginary\n",
        "        return Complex(a - c, b - d)\n",
        "\n",
        "    def __mul__(self, no):\n",
        "        a = self.real\n",
        "        b = self.imaginary\n",
        "        c = no.real\n",
        "        d = no.imaginary\n",
        "        real_mult = (a * c) - (b * d)\n",
        "        imag_mult = (a * d) + (b * c)\n",
        "        return Complex(real_mult, imag_mult)\n",
        "\n",
        "    def __truediv__(self, no):\n",
        "        a = self.real\n",
        "        b = self.imaginary\n",
        "        c = no.real\n",
        "        d = no.imaginary\n",
        "        real_numerator = a * c + b * d\n",
        "        imag_numerator = b * c - a * d\n",
        "        denom = c * c + d * d\n",
        "        real_div = real_numerator / denom\n",
        "        imag_div = imag_numerator / denom\n",
        "        return Complex(real_div, imag_div)\n",
        "\n",
        "    def mod(self):\n",
        "        a = self.real\n",
        "        b = self.imaginary\n",
        "        return Complex(math.sqrt(a ** 2 + b ** 2), 0)\n",
        "    def __str__(self):\n",
        "        if self.imaginary == 0:\n",
        "            result = \"%.2f+0.00i\" % (self.real)\n",
        "        elif self.real == 0:\n",
        "            if self.imaginary >= 0:\n",
        "                result = \"0.00+%.2fi\" % (self.imaginary)\n",
        "            else:\n",
        "                result = \"0.00-%.2fi\" % (abs(self.imaginary))\n",
        "        elif self.imaginary > 0:\n",
        "            result = \"%.2f+%.2fi\" % (self.real, self.imaginary)\n",
        "        else:\n",
        "            result = \"%.2f-%.2fi\" % (self.real, abs(self.imaginary))\n",
        "        return result\n",
        "\n",
        "if __name__ == '__main__':\n",
        "    c = map(float, input().split())\n",
        "    d = map(float, input().split())\n",
        "    x = Complex(*c)\n",
        "    y = Complex(*d)\n",
        "    print(*map(str, [x+y, x-y, x*y, x/y, x.mod(), y.mod()]), sep='\\n')"
      ],
      "metadata": {
        "id": "YiFE1Us3QK45",
        "colab": {
          "base_uri": "https://localhost:8080/"
        },
        "outputId": "d726372c-ff17-4165-9d68-01464c6fd3f4"
      },
      "execution_count": null,
      "outputs": [
        {
          "output_type": "stream",
          "name": "stdout",
          "text": [
            "2 1\n",
            "5 6\n",
            "7.00+7.00i\n",
            "-3.00-5.00i\n",
            "4.00+17.00i\n",
            "0.26-0.11i\n",
            "2.24+0.00i\n",
            "7.81+0.00i\n"
          ]
        }
      ]
    },
    {
      "cell_type": "markdown",
      "source": [
        ""
      ],
      "metadata": {
        "id": "91LzrXsGdjTl"
      }
    },
    {
      "cell_type": "code",
      "source": [
        "import math\n",
        "\n",
        "class Points(object):\n",
        "    def __init__(self, x, y, z):\n",
        "        self.x = x\n",
        "        self.y = y\n",
        "        self.z = z\n",
        "\n",
        "    def __sub__(self, no):\n",
        "        x = self.x - no.x\n",
        "        y = self.y - no.y\n",
        "        z = self.z - no.z\n",
        "        return Points(x, y, z)\n",
        "\n",
        "    def dot(self, no):\n",
        "        x = self.x * no.x\n",
        "        y = self.y * no.y\n",
        "        z = self.z * no.z\n",
        "        return x + y + z\n",
        "\n",
        "    def cross(self, no):\n",
        "        x = self.y * no.z - self.z * no.y\n",
        "        y = self.z * no.x - self.x * no.z\n",
        "        z = self.x * no.y - self.y * no.x\n",
        "        return Points(x, y, z)\n",
        "\n",
        "    \n",
        "    def absolute(self):\n",
        "        return pow((self.x ** 2 + self.y ** 2 + self.z ** 2), 0.5)\n",
        "\n",
        "if __name__ == '__main__':\n",
        "    points = list()\n",
        "    for i in range(4):\n",
        "        a = list(map(float, input().split()))\n",
        "        points.append(a)\n",
        "\n",
        "    a, b, c, d = Points(*points[0]), Points(*points[1]), Points(*points[2]), Points(*points[3])\n",
        "    x = (b - a).cross(c - b)\n",
        "    y = (c - b).cross(d - c)\n",
        "    angle = math.acos(x.dot(y) / (x.absolute() * y.absolute()))\n",
        "\n",
        "    print(\"%.2f\" % math.degrees(angle))"
      ],
      "metadata": {
        "id": "DwLnTxZPXfFa",
        "colab": {
          "base_uri": "https://localhost:8080/"
        },
        "outputId": "f3f8d25b-9c0f-4365-8599-7609ac40df88"
      },
      "execution_count": 3,
      "outputs": [
        {
          "output_type": "stream",
          "name": "stdout",
          "text": [
            "0 4 5\n",
            "1 7 6\n",
            "0 5 9\n",
            "1 7 2\n",
            "8.19\n"
          ]
        }
      ]
    }
  ],
  "metadata": {
    "colab": {
      "collapsed_sections": [],
      "name": "S3-T3.ipynb",
      "provenance": []
    },
    "kernelspec": {
      "display_name": "Python 3",
      "language": "python",
      "name": "python3"
    },
    "language_info": {
      "codemirror_mode": {
        "name": "ipython",
        "version": 3
      },
      "file_extension": ".py",
      "mimetype": "text/x-python",
      "name": "python",
      "nbconvert_exporter": "python",
      "pygments_lexer": "ipython3",
      "version": "3.6.7"
    }
  },
  "nbformat": 4,
  "nbformat_minor": 0
}