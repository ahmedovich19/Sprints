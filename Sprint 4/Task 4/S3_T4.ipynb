{
  "cells": [
    {
      "cell_type": "markdown",
      "source": [
        "Detect Floating Point Number"
      ],
      "metadata": {
        "id": "BnlxukQSBdxy"
      }
    },
    {
      "cell_type": "code",
      "source": [
        "# Enter your code here. Read input from STDIN. Print output to STDOUT\n",
        "import re\n",
        "t = int(input())\n",
        "for _ in range(t):\n",
        "    pattern = r'^[\\+\\-]?\\d*\\.[0-9]+$'\n",
        "    \n",
        "    m =re.search(pattern,input())\n",
        "    if m:\n",
        "        print(True)\n",
        "    else:\n",
        "        print(False)\n"
      ],
      "metadata": {
        "colab": {
          "base_uri": "https://localhost:8080/"
        },
        "id": "toVntHEVBg08",
        "outputId": "7b5ea885-0e1b-4d9b-c241-801846ce041e"
      },
      "execution_count": null,
      "outputs": [
        {
          "output_type": "stream",
          "name": "stdout",
          "text": [
            "4\n",
            "4.0O0\n",
            "False\n",
            "-1.00\n",
            "True\n",
            "+4.54\n",
            "True\n",
            "SomeRandomStuff\n",
            "False\n"
          ]
        }
      ]
    },
    {
      "cell_type": "markdown",
      "source": [
        "Map and Lambda Function"
      ],
      "metadata": {
        "id": "UN_tRglbjPKn"
      }
    },
    {
      "cell_type": "code",
      "source": [
        "cube = lambda x: x**3 # complete the lambda function \n",
        "\n",
        "def fibonacci(n):\n",
        "    # return a list of fibonacci numbers\n",
        "    storage = [0, 1]\n",
        "    for i in range(2, n):\n",
        "        storage.append(storage[i-1] + storage[i-2])\n",
        "    return(storage[0:n])\n",
        "        \n",
        "\n",
        "if __name__ == '__main__':\n",
        "    n = int(input())\n",
        "    print(list(map(cube, fibonacci(n))))"
      ],
      "metadata": {
        "colab": {
          "base_uri": "https://localhost:8080/"
        },
        "id": "EhCWQ1M0jPwG",
        "outputId": "17f86ec9-048c-459b-b1e6-16e83035dffa"
      },
      "execution_count": null,
      "outputs": [
        {
          "output_type": "stream",
          "name": "stdout",
          "text": [
            "5\n",
            "[0, 1, 1, 8, 27]\n"
          ]
        }
      ]
    },
    {
      "cell_type": "markdown",
      "source": [
        "validate-list-of-email-address-with-filter"
      ],
      "metadata": {
        "id": "5TWCefG3oJzO"
      }
    },
    {
      "cell_type": "code",
      "source": [
        "import re\n",
        "def fun(s):\n",
        "    # return True if s is a valid email, else return False\n",
        "    \n",
        "    pattern = '^[a-zA-Z][\\w-]*@[a-zA-Z0-9]+\\.[a-zA-Z]{1,3}$'\n",
        "    return re.match(pattern, s)\n",
        "    \n",
        "def filter_mail(emails):\n",
        "    return list(filter(fun, emails))\n",
        "\n",
        "if __name__ == '__main__':\n",
        "    n = int(input())\n",
        "    emails = []\n",
        "    for _ in range(n):\n",
        "        emails.append(input())\n",
        "\n",
        "filtered_emails = filter_mail(emails)\n",
        "filtered_emails.sort()\n",
        "print(filtered_emails)"
      ],
      "metadata": {
        "colab": {
          "base_uri": "https://localhost:8080/"
        },
        "id": "xTPdNXqNjVcR",
        "outputId": "3bd20976-c447-4833-f8cc-acfc1f115339"
      },
      "execution_count": null,
      "outputs": [
        {
          "output_type": "stream",
          "name": "stdout",
          "text": [
            "3\n",
            "lara@hackerrank.com\n",
            "brian-23@hackerrank.com\n",
            "britts_54@hackerrank.com\n",
            "['brian-23@hackerrank.com', 'britts_54@hackerrank.com', 'lara@hackerrank.com']\n"
          ]
        }
      ]
    },
    {
      "cell_type": "markdown",
      "source": [
        "Reduce Function"
      ],
      "metadata": {
        "id": "G5QLy8TlsJOs"
      }
    },
    {
      "cell_type": "code",
      "source": [
        "from fractions import Fraction\n",
        "from functools import reduce\n",
        "\n",
        "def product(fracs):\n",
        "    t = reduce(lambda x,y :x*y,fracs)\n",
        "    return t.numerator, t.denominator\n",
        "\n",
        "if __name__ == '__main__':\n",
        "    fracs = []\n",
        "    for _ in range(int(input())):\n",
        "        fracs.append(Fraction(*map(int, input().split())))\n",
        "    result = product(fracs)\n",
        "    print(*result)"
      ],
      "metadata": {
        "colab": {
          "base_uri": "https://localhost:8080/"
        },
        "id": "vW-jZH64oVuP",
        "outputId": "037ccef3-8d96-48b5-c6e8-86ff490ee942"
      },
      "execution_count": null,
      "outputs": [
        {
          "output_type": "stream",
          "name": "stdout",
          "text": [
            "3\n",
            "1 2\n",
            "3 4\n",
            "10 6\n",
            "5 8\n"
          ]
        }
      ]
    },
    {
      "cell_type": "markdown",
      "source": [
        "Re.split()"
      ],
      "metadata": {
        "id": "y0H0Ld8l-TIn"
      }
    },
    {
      "cell_type": "code",
      "source": [
        "regex_pattern = r\"[.,]\"\t# Do not delete 'r'.\n",
        "\n",
        "import re\n",
        "print(\"\\n\".join(re.split(regex_pattern, input())))"
      ],
      "metadata": {
        "id": "nubbqq5hsLOt",
        "colab": {
          "base_uri": "https://localhost:8080/"
        },
        "outputId": "2e10a831-9f5f-4870-b3da-fa779d14931e"
      },
      "execution_count": null,
      "outputs": [
        {
          "output_type": "stream",
          "name": "stdout",
          "text": [
            "100,000,000.000\n",
            "100\n",
            "000\n",
            "000\n",
            "000\n"
          ]
        }
      ]
    },
    {
      "cell_type": "markdown",
      "source": [
        "Group(), Groups() & Groupdict()"
      ],
      "metadata": {
        "id": "iIu7wF2iE7SB"
      }
    },
    {
      "cell_type": "code",
      "source": [
        "# Enter your code here. Read input from STDIN. Print output to STDOUT\n",
        "import re\n",
        "m=re.search(r'([a-zA-Z0-9])\\1+',input())\n",
        "if m:\n",
        "    print(m.group(1))\n",
        "else:\n",
        "    print(-1)"
      ],
      "metadata": {
        "colab": {
          "base_uri": "https://localhost:8080/"
        },
        "id": "yUA7DQlJ-VFP",
        "outputId": "95b0330b-4190-4300-907c-8462e23264b5"
      },
      "execution_count": null,
      "outputs": [
        {
          "output_type": "stream",
          "name": "stdout",
          "text": [
            "12345678910111213141516171820212223\n",
            "1\n"
          ]
        }
      ]
    },
    {
      "cell_type": "markdown",
      "source": [
        "Re.findall() & Re.finditer()\n"
      ],
      "metadata": {
        "id": "I_cAuSRgPa5v"
      }
    },
    {
      "cell_type": "code",
      "source": [
        "import re\n",
        "m= re.findall(r'(?<=[qwrtypsdfghjklzxcvbnm])([aeiou]{2,})(?=[qwrtypsdfghjklzxcvbnm])',input().strip(),re.IGNORECASE)\n",
        "\n",
        "if m:\n",
        "    for i in m:\n",
        "        print(i)\n",
        "else:\n",
        "    print(-1)"
      ],
      "metadata": {
        "colab": {
          "base_uri": "https://localhost:8080/"
        },
        "id": "6uqk230sE9Z3",
        "outputId": "a4492960-a9d3-4580-c963-0a23215cbbaa"
      },
      "execution_count": null,
      "outputs": [
        {
          "output_type": "stream",
          "name": "stdout",
          "text": [
            "rabcdeefgyYhFjkIoomnpOeorteeeeet\n",
            "ee\n",
            "Ioo\n",
            "Oeo\n",
            "eeeee\n"
          ]
        }
      ]
    },
    {
      "cell_type": "markdown",
      "source": [
        "Re.start() & Re.end()"
      ],
      "metadata": {
        "id": "rkVDF2lFdxsm"
      }
    },
    {
      "cell_type": "code",
      "source": [
        "# Enter your code here. Read input from STDIN. Print output to STDOUT\n",
        "import re\n",
        "text, pattern = input(), input()\n",
        "m= list(re.finditer(\"(?=(%s))\"%pattern,text))\n",
        "if not m:\n",
        "    print((-1,-1))\n",
        "for i in m:\n",
        "    print((i.start(1),i.end(1)-1))"
      ],
      "metadata": {
        "id": "WjKQFjATPeAC",
        "colab": {
          "base_uri": "https://localhost:8080/"
        },
        "outputId": "a42b401f-4082-4c0b-c91c-73c842c2e392"
      },
      "execution_count": null,
      "outputs": [
        {
          "output_type": "stream",
          "name": "stdout",
          "text": [
            "aaadaa\n",
            "aa\n",
            "(0, 1)\n",
            "(1, 2)\n",
            "(4, 5)\n"
          ]
        }
      ]
    },
    {
      "cell_type": "markdown",
      "source": [
        "re-sub-regex-substitution"
      ],
      "metadata": {
        "id": "0t5Xvx_Lsj__"
      }
    },
    {
      "cell_type": "code",
      "source": [
        "# Enter your code here. Read input from STDIN. Print output to STDOUT\n",
        "import re\n",
        "\n",
        "def change(match):\n",
        "    symb = match.group(0)\n",
        "    \n",
        "    if symb == \"&&\":\n",
        "        return \"and\"\n",
        "    elif symb == \"||\":\n",
        "        return \"or\"\n",
        "    \n",
        "n = int(input().strip())\n",
        "for _ in range(n):\n",
        "    print(re.sub(r'(?<= )(&&|\\|\\|)(?= )', change, input()))"
      ],
      "metadata": {
        "id": "qVUxZnawd54I",
        "colab": {
          "base_uri": "https://localhost:8080/"
        },
        "outputId": "f432e61b-72ae-4792-88e3-228cad3da50f"
      },
      "execution_count": null,
      "outputs": [
        {
          "output_type": "stream",
          "name": "stdout",
          "text": [
            "11\n",
            "a = 1;\n",
            "a = 1;\n",
            "b = input();\n",
            "b = input();\n",
            "if a + b > 0 && a - b < 0:\n",
            "if a + b > 0 and a - b < 0:\n",
            "    start()\n",
            "    start()\n",
            "elif a*b > 10 || a/b < 1:\n",
            "elif a*b > 10 or a/b < 1:\n",
            "    stop()\n",
            "    stop()\n",
            "print set(list(a)) | set(list(b))\n",
            "print set(list(a)) | set(list(b))\n",
            "#Note do not change &&& or ||| or & or |\n",
            "#Note do not change &&& or ||| or & or |\n",
            "#Only change those '&&' which have space on both sides.\n",
            "#Only change those '&&' which have space on both sides.\n",
            "#Only change those '|| which have space on both sides.\n",
            "#Only change those '|| which have space on both sides.\n",
            "#Only change those '|| which have space on both sides.\n",
            "#Only change those '|| which have space on both sides.\n"
          ]
        }
      ]
    },
    {
      "cell_type": "markdown",
      "source": [
        "Validating Roman Numerals"
      ],
      "metadata": {
        "id": "cVcRRSBQhdc4"
      }
    },
    {
      "cell_type": "code",
      "source": [
        "regex_pattern = r\"^M{0,3}(CM|CD|D?C{0,3})(XC|XL|L?X{0,3})(IX|IV|V?I{0,3})$\"    # Do not delete 'r'.\n",
        "\n",
        "import re\n",
        "print(str(bool(re.match(regex_pattern, input()))))"
      ],
      "metadata": {
        "id": "Lz6Ldl0bsm6j",
        "colab": {
          "base_uri": "https://localhost:8080/"
        },
        "outputId": "45999758-cff7-4b4c-c9d3-3d8d3359081c"
      },
      "execution_count": null,
      "outputs": [
        {
          "output_type": "stream",
          "name": "stdout",
          "text": [
            "DXXVIIII\n",
            "False\n"
          ]
        }
      ]
    },
    {
      "cell_type": "markdown",
      "source": [
        "Validating phone numbers"
      ],
      "metadata": {
        "id": "efC87xEalYhw"
      }
    },
    {
      "cell_type": "code",
      "source": [
        "# Enter your code here. Read input from STDIN. Print output to STDOUT\n",
        "import re\n",
        "pattern = r\"^[789][0-9]{9}$\"\n",
        "\n",
        "\n",
        "for _ in range(int(input())):\n",
        "    s= input()\n",
        "    m = re.match(pattern,s)\n",
        "    if m:\n",
        "        print(\"YES\")\n",
        "    else:\n",
        "        print(\"NO\")\n"
      ],
      "metadata": {
        "id": "zqfR8mIOhiBy",
        "colab": {
          "base_uri": "https://localhost:8080/"
        },
        "outputId": "9715f42f-a6e5-40be-9b2d-b2d74951dff1"
      },
      "execution_count": null,
      "outputs": [
        {
          "output_type": "stream",
          "name": "stdout",
          "text": [
            "2\n",
            "9587456281\n",
            "YES\n",
            "1252478965\n",
            "NO\n"
          ]
        }
      ]
    },
    {
      "cell_type": "markdown",
      "source": [
        "Hex Color Code"
      ],
      "metadata": {
        "id": "nW0Bu191vzf2"
      }
    },
    {
      "cell_type": "code",
      "source": [
        "# Enter your code here. Read input from STDIN. Print output to STDOUT\n",
        "import re\n",
        "pattern = r':?.(#[0-9a-fA-F]{6}|#[0-9a-fA-F]{3})'\n",
        "n= int(input())\n",
        "for _ in range(n):\n",
        "   m = re.findall(pattern,input())\n",
        "   if m :\n",
        "       print(*m, sep='\\n')"
      ],
      "metadata": {
        "id": "pZScZnEJo3bJ",
        "colab": {
          "base_uri": "https://localhost:8080/"
        },
        "outputId": "48ece4dd-096c-43df-ae67-d2791f97cf2a"
      },
      "execution_count": null,
      "outputs": [
        {
          "name": "stdout",
          "output_type": "stream",
          "text": [
            "11\n",
            "#BED\n",
            "{\n",
            "    color: #FfFdF8; background-color:#aef;\n",
            "#FfFdF8\n",
            "#aef\n",
            "    font-size: 123px;\n",
            " }\n",
            "#Cab\n",
            "{\n",
            "    background-color: #ABC;\n",
            "#ABC\n",
            "    border: 2px dashed #fff;\n",
            "#fff\n",
            "}\n",
            " \n"
          ]
        }
      ]
    },
    {
      "cell_type": "markdown",
      "source": [
        "HTML Parser - Part 1"
      ],
      "metadata": {
        "id": "fpGB8eV65x64"
      }
    },
    {
      "cell_type": "code",
      "source": [
        "from html.parser import HTMLParser\n",
        "\n",
        "class MyHTMLParser(HTMLParser):\n",
        "    def handle_starttag(self, tag, attrs):\n",
        "        print ('Start :', tag)\n",
        "        for ele in attrs:\n",
        "            print ('->', ele[0], '>', ele[1])\n",
        "\n",
        "    def handle_endtag(self, tag):\n",
        "        print ('End   :', tag)\n",
        "\n",
        "    def handle_startendtag(self, tag, attrs):\n",
        "        print ('Empty :', tag)\n",
        "        for ele in attrs:\n",
        "            print ('->', ele[0], '>', ele[1])\n",
        "\n",
        "parser = MyHTMLParser()\n",
        "for _ in range(int(input())):\n",
        "    parser.feed(input())"
      ],
      "metadata": {
        "id": "NT5YX0t1v2Xs",
        "colab": {
          "base_uri": "https://localhost:8080/"
        },
        "outputId": "f8ed9d29-10bf-4c23-8d8a-32272ce2dfef"
      },
      "execution_count": null,
      "outputs": [
        {
          "output_type": "stream",
          "name": "stdout",
          "text": [
            "2\n",
            "<html><head><title>HTML Parser - I</title></head>\n",
            "Start : html\n",
            "Start : head\n",
            "Start : title\n",
            "End   : title\n",
            "End   : head\n",
            "<body data-modal-target class='1'><h1>HackerRank</h1><br /></body></html>\n",
            "Start : body\n",
            "-> data-modal-target > None\n",
            "-> class > 1\n",
            "Start : h1\n",
            "End   : h1\n",
            "Empty : br\n",
            "End   : body\n",
            "End   : html\n"
          ]
        }
      ]
    },
    {
      "cell_type": "markdown",
      "source": [
        "HTML Parser - Part 2"
      ],
      "metadata": {
        "id": "-3E8a6Zy_vFx"
      }
    },
    {
      "cell_type": "code",
      "source": [
        "from html.parser import HTMLParser\n",
        "\n",
        "class MyHTMLParser(HTMLParser):\n",
        "  def handle_comment(self, data):\n",
        "        if '\\n' in data:\n",
        "            print('>>> Multi-line Comment')\n",
        "        else:\n",
        "            print('>>> Single-line Comment')\n",
        "        print(data)\n",
        "  def handle_data(self, data):\n",
        "        if data != '\\n':\n",
        "            print(\">>> Data\", data,sep='\\n')\n",
        "\n",
        "html = \"\"       \n",
        "for i in range(int(input())):\n",
        "    html += input().rstrip()\n",
        "    html += '\\n'\n",
        "    \n",
        "parser = MyHTMLParser()\n",
        "parser.feed(html)\n",
        "parser.close()"
      ],
      "metadata": {
        "colab": {
          "base_uri": "https://localhost:8080/"
        },
        "id": "Ihphvtxi50T9",
        "outputId": "686300ba-5cb0-492b-ac0a-00d144a0183e"
      },
      "execution_count": null,
      "outputs": [
        {
          "output_type": "stream",
          "name": "stdout",
          "text": [
            "4\n",
            "<!--[if IE 9]>IE9-specific content\n",
            "<![endif]-->\n",
            "<div> Welcome to HackerRank</div>\n",
            "<!--[if IE 9]>IE9-specific content<![endif]-->\n",
            ">>> Multi-line Comment\n",
            "[if IE 9]>IE9-specific content\n",
            "<![endif]\n",
            ">>> Data\n",
            " Welcome to HackerRank\n",
            ">>> Single-line Comment\n",
            "[if IE 9]>IE9-specific content<![endif]\n"
          ]
        }
      ]
    },
    {
      "cell_type": "markdown",
      "source": [
        "Detect HTML Tags, Attributes and Attribute Values"
      ],
      "metadata": {
        "id": "bdWu833lCwye"
      }
    },
    {
      "cell_type": "code",
      "source": [
        "from html.parser import HTMLParser\n",
        "\n",
        "class MyHTMLParser(HTMLParser):\n",
        "    def handle_starttag(self, tag, attrs):\n",
        "        print (tag)\n",
        "        for ele in attrs:\n",
        "            print ('->', ele[0], '>', ele[1])\n",
        "\n",
        "    def handle_startendtag(self, tag, attrs):\n",
        "        print (tag)\n",
        "        for ele in attrs:\n",
        "            print ('->', ele[0], '>', ele[1])\n",
        "\n",
        "parser = MyHTMLParser()\n",
        "for _ in range(int(input())):\n",
        "    parser.feed(input())"
      ],
      "metadata": {
        "colab": {
          "base_uri": "https://localhost:8080/"
        },
        "id": "8MIJGoGe_zkC",
        "outputId": "fa8f97f2-8622-4344-ab2b-05a458f0ef07"
      },
      "execution_count": null,
      "outputs": [
        {
          "name": "stdout",
          "output_type": "stream",
          "text": [
            "9\n",
            "<head>\n",
            "head\n",
            "<title>HTML</title>\n",
            "title\n",
            "</head>\n",
            "<object type=\"application/x-flash\"\n",
            "  data=\"your-file.swf\"\n",
            "  width=\"0\" height=\"0\">\n",
            "object\n",
            "-> type > application/x-flash\n",
            "-> data > your-file.swf\n",
            "-> width > 0\n",
            "-> height > 0\n",
            "  <!-- <param name=\"movie\" value=\"your-file.swf\" /> -->\n",
            "  <param name=\"quality\" value=\"high\"/> </object>\n",
            "param\n",
            "-> name > quality\n",
            "-> value > high\n",
            " \n"
          ]
        }
      ]
    },
    {
      "cell_type": "markdown",
      "source": [
        "validating-uid"
      ],
      "metadata": {
        "id": "v7J9d1FXqNve"
      }
    },
    {
      "cell_type": "code",
      "source": [
        "import re\n",
        "for _ in range(int(input())):\n",
        "    uid = input()\n",
        "    uid = \"\".join(sorted(uid))\n",
        "    if (re.search(r\"[A-Z]{2}\",uid) and #2 uppercase alphabets\n",
        "        re.search(r\"\\d{3}\",uid) and #3+ digits\n",
        "        not re.search(r\"[^A-Za-z0-9]\",uid) and #no nonalphanumeric\n",
        "        not re.search(r\"(\\w)\\1\",uid) and #no repetition\n",
        "        len(uid) == 10): #10 characters long\n",
        "        print(\"Valid\")\n",
        "    else:\n",
        "        print(\"Invalid\")"
      ],
      "metadata": {
        "id": "4WU3wvAqCynO",
        "colab": {
          "base_uri": "https://localhost:8080/"
        },
        "outputId": "83395d8b-f243-477b-95bd-f0285d88e50d"
      },
      "execution_count": null,
      "outputs": [
        {
          "output_type": "stream",
          "name": "stdout",
          "text": [
            "2\n",
            "B1CD102354\n",
            "Invalid\n",
            "B1CDEF2354\n",
            "Valid\n"
          ]
        }
      ]
    },
    {
      "cell_type": "markdown",
      "source": [
        "Validating Credit Card Numbers"
      ],
      "metadata": {
        "id": "mgtNtIHc5slP"
      }
    },
    {
      "cell_type": "code",
      "source": [
        "# Enter your code here. Read input from STDIN. Print output to STDOUT\n",
        "import re\n",
        "for _ in range(int(input())):\n",
        "\n",
        "    uid = \"\".join(input())\n",
        "    if ((re.match(r'^[456]',uid)) and re.match(r'[\\d]{16}', uid) or (re.match(r'([0-9]{4}-){3}[0-9]{4}$',uid)) and not re.search(r'(\\d)\\1{3,}', uid.replace(\"-\", \"\"))):\n",
        "        print(\"Valid\")\n",
        "    else:\n",
        "        print(\"Invalid\")\n",
        "        \n"
      ],
      "metadata": {
        "id": "6kNG68OhqQSU",
        "colab": {
          "base_uri": "https://localhost:8080/"
        },
        "outputId": "56bb291b-a151-42bb-934c-1f49588ee27b"
      },
      "execution_count": null,
      "outputs": [
        {
          "output_type": "stream",
          "name": "stdout",
          "text": [
            "6\n",
            "4123456789123456\n",
            "Valid\n",
            "5123-4567-8912-3456\n",
            "Valid\n",
            "61234-567-8912-3456\n",
            "Invalid\n",
            "4123356789123456\n",
            "Valid\n",
            "5133-3367-8912-3456\n",
            "Invalid\n",
            "5123 - 3567 - 8912 - 3456\n",
            "Invalid\n"
          ]
        }
      ]
    },
    {
      "cell_type": "markdown",
      "source": [
        "Validating Postal Codes"
      ],
      "metadata": {
        "id": "OPVoLcCg67nu"
      }
    },
    {
      "cell_type": "code",
      "source": [
        "regex_integer_in_range = r\"^[1-9][\\d]{5}$\"    # Do not delete 'r'.\n",
        "regex_alternating_repetitive_digit_pair = r\"(\\d)(?=\\d\\1)\"    # Do not delete 'r'.\n",
        "\n",
        "\n",
        "import re\n",
        "P = input()\n",
        "\n",
        "print (bool(re.match(regex_integer_in_range, P)) \n",
        "and len(re.findall(regex_alternating_repetitive_digit_pair, P)) < 2)"
      ],
      "metadata": {
        "id": "1YwlUCJp5yYR",
        "outputId": "7dc7bf76-a06a-411e-9aeb-aa263c70d4c6",
        "colab": {
          "base_uri": "https://localhost:8080/"
        }
      },
      "execution_count": null,
      "outputs": [
        {
          "output_type": "stream",
          "name": "stdout",
          "text": [
            "110000\n",
            "False\n"
          ]
        }
      ]
    },
    {
      "cell_type": "markdown",
      "source": [
        "matrix-script"
      ],
      "metadata": {
        "id": "1o5oKmab68HB"
      }
    },
    {
      "cell_type": "code",
      "source": [
        "#!/bin/python3\n",
        "\n",
        "import math\n",
        "import os\n",
        "import random\n",
        "import re\n",
        "import sys\n",
        "\n",
        "first_multiple_input = input().rstrip().split()\n",
        "\n",
        "n = int(first_multiple_input[0])\n",
        "m = int(first_multiple_input[1])\n",
        "\n",
        "matrix = []\n",
        "\n",
        "for _ in range(n):\n",
        "    matrix_item = input()\n",
        "    matrix.append(matrix_item)\n",
        "\n",
        "# start   \n",
        "matrix = list(zip(*matrix))\n",
        "\n",
        "sample = str()\n",
        "\n",
        "for words in matrix:\n",
        "    for char in words:\n",
        "        sample += char\n",
        "        \n",
        "print(re.sub(r'(?<=\\w)([^\\w\\d]+)(?=\\w)', ' ', sample)) \n"
      ],
      "metadata": {
        "id": "rVOi39bX68id",
        "colab": {
          "base_uri": "https://localhost:8080/"
        },
        "outputId": "ea1192a1-8c76-425f-a970-6d85381620eb"
      },
      "execution_count": null,
      "outputs": [
        {
          "output_type": "stream",
          "name": "stdout",
          "text": [
            "7 3\n",
            "Tsi\n",
            "h%x\n",
            "i #\n",
            "sM \n",
            "$a \n",
            "#t%\n",
            "ir!\n",
            "This is Matrix#  %!\n"
          ]
        }
      ]
    }
  ],
  "metadata": {
    "colab": {
      "collapsed_sections": [],
      "name": "S3-T4.ipynb",
      "provenance": []
    },
    "kernelspec": {
      "display_name": "Python 3",
      "language": "python",
      "name": "python3"
    },
    "language_info": {
      "codemirror_mode": {
        "name": "ipython",
        "version": 3
      },
      "file_extension": ".py",
      "mimetype": "text/x-python",
      "name": "python",
      "nbconvert_exporter": "python",
      "pygments_lexer": "ipython3",
      "version": "3.6.7"
    }
  },
  "nbformat": 4,
  "nbformat_minor": 0
}