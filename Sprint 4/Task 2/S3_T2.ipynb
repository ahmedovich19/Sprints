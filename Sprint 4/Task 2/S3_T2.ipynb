{
  "cells": [
    {
      "cell_type": "markdown",
      "source": [
        "collections-counte"
      ],
      "metadata": {
        "id": "JLbBZ1he47QR"
      }
    },
    {
      "cell_type": "code",
      "source": [
        "# Enter your code here. Read input from STDIN. Print output to STDOUT\n",
        "from collections import Counter\n",
        "x = int(input())\n",
        "shoes_sizes = list(map(int,input().split()))\n",
        "counts_of_shoes_sizes=dict(Counter(shoes_sizes))\n",
        "#{2: 1, 3: 1, 4: 1, 5: 2, 6: 2, 8: 1, 7: 1, 18: 1}\n",
        "n_customers = int(input())\n",
        "earned_money =0\n",
        "for i in range(n_customers):\n",
        "    values_of_shoe_size = input().split()\n",
        "    shoe_size = int(values_of_shoe_size[0])\n",
        "    shoe_price = int(values_of_shoe_size[1])\n",
        "    if shoe_size in counts_of_shoes_sizes:\n",
        "        if counts_of_shoes_sizes[shoe_size] >= 1:\n",
        "            earned_money += shoe_price\n",
        "            counts_of_shoes_sizes[shoe_size] -= 1\n",
        "\n",
        "print(earned_money)"
      ],
      "metadata": {
        "colab": {
          "base_uri": "https://localhost:8080/"
        },
        "id": "AAKwUi1yOHUm",
        "outputId": "5b6d63c4-b9f9-487e-8c9a-345173402305"
      },
      "execution_count": null,
      "outputs": [
        {
          "output_type": "stream",
          "name": "stdout",
          "text": [
            "10\n",
            "2 3 4 5 6 8 7 6 5 18\n",
            "6\n",
            "6 55\n",
            "6 45\n",
            "6 55\n",
            "4 40\n",
            "18 60\n",
            "10 50\n",
            "200\n"
          ]
        }
      ]
    },
    {
      "cell_type": "markdown",
      "source": [
        "DefaultDict Tutorial"
      ],
      "metadata": {
        "id": "2ENtBgTfOHze"
      }
    },
    {
      "cell_type": "code",
      "source": [
        "from collections import defaultdict\n",
        "\n",
        "d = defaultdict(list)\n",
        "n, m = map(int, input().split())\n",
        "\n",
        "for i in range(n):\n",
        "    d[input()].append(str(i + 1))\n",
        "for j in range(m):\n",
        "    print(' '.join(d[input()]) or -1)"
      ],
      "metadata": {
        "id": "E1u1_-n-OIQC",
        "colab": {
          "base_uri": "https://localhost:8080/"
        },
        "outputId": "c02bcef9-9265-4921-8eab-200e4e3be349"
      },
      "execution_count": null,
      "outputs": [
        {
          "output_type": "stream",
          "name": "stdout",
          "text": [
            "5 2\n",
            "a\n",
            "a\n",
            "b\n",
            "a\n",
            "b\n",
            "a\n",
            "1 2 4\n",
            "b\n",
            "3 5\n"
          ]
        }
      ]
    },
    {
      "cell_type": "markdown",
      "source": [
        "Collections.OrderedDict()"
      ],
      "metadata": {
        "id": "q2F8HMo2OIjp"
      }
    },
    {
      "cell_type": "code",
      "source": [
        "# Enter your code here. Read input from STDIN. Print output to STDOUT\n",
        "from collections import OrderedDict,defaultdict\n",
        "n = int(input())\n",
        "ordered_dic = OrderedDict()\n",
        "n_dic = defaultdict(list)\n",
        "for i in range(n):\n",
        "   i_info = input().split()\n",
        "   i_name= i_info[:-1]\n",
        "   i_name=\" \".join(i_name)\n",
        "   i_price = i_info[-1:]\n",
        "   i_price =int(\" \".join(i_price))\n",
        "   n_dic[i_name].append(i_price)\n",
        "for k,v in n_dic.items():\n",
        "    ordered_dic[k] = sum(v)\n",
        "    print(k,ordered_dic[k])"
      ],
      "metadata": {
        "id": "TrjpkXfxOI8a",
        "colab": {
          "base_uri": "https://localhost:8080/"
        },
        "outputId": "81017605-c4bf-474f-9423-344ec2da642b"
      },
      "execution_count": null,
      "outputs": [
        {
          "output_type": "stream",
          "name": "stdout",
          "text": [
            "9\n",
            "BANANA FRIES 12\n",
            "POTATO CHIPS 30\n",
            "APPLE JUICE 10\n",
            "CANDY 5\n",
            "APPLE JUICE 10\n",
            "CANDY 5\n",
            "CANDY 5\n",
            "CANDY 5\n",
            "POTATO CHIPS 30\n",
            "BANANA FRIES 12\n",
            "POTATO CHIPS 60\n",
            "APPLE JUICE 20\n",
            "CANDY 20\n"
          ]
        }
      ]
    },
    {
      "cell_type": "markdown",
      "source": [
        "Collections.namedtuple()"
      ],
      "metadata": {
        "id": "vkfH9WAVOJOg"
      }
    },
    {
      "cell_type": "code",
      "source": [
        "from collections import namedtuple\n",
        "\n",
        "n = int(input())\n",
        "scol = ','.join(input().split())\n",
        "Student = namedtuple('Student',scol)\n",
        "sum = 0\n",
        "for i in range(n):\n",
        "    row = input().split()\n",
        "    student = Student(*row)\n",
        "    sum += int(student.MARKS)\n",
        "\n",
        "print(sum/n)"
      ],
      "metadata": {
        "id": "hGuGIQ0tOJsf",
        "colab": {
          "base_uri": "https://localhost:8080/"
        },
        "outputId": "95ccf124-b9b3-4866-831f-67eb84176b63"
      },
      "execution_count": null,
      "outputs": [
        {
          "output_type": "stream",
          "name": "stdout",
          "text": [
            "5\n",
            "ID         MARKS      NAME       CLASS\n",
            "1          97         Raymond    7\n",
            "2          50         Steven     4\n",
            "3          91         Adrian     9\n",
            "4          72         Stewart    5\n",
            "5          80         Peter      6\n",
            "78.0\n"
          ]
        }
      ]
    },
    {
      "cell_type": "markdown",
      "source": [
        "Collections.deque()"
      ],
      "metadata": {
        "id": "8xshJ-0ahb-W"
      }
    },
    {
      "cell_type": "code",
      "source": [
        "# Enter your code here. Read input from STDIN. Print output to STDOUT\n",
        "from collections import deque\n",
        "d= deque()\n",
        "n = int(input())\n",
        "c_list= list()\n",
        "for i in range(n):\n",
        "    commands = input().split()\n",
        "    c_list.append(commands)\n",
        "for x in range(n):\n",
        "    if c_list[x][0] == \"append\":\n",
        "        d.append(c_list[x][1])\n",
        "    elif c_list[x][0] == \"appendleft\":\n",
        "        d.appendleft(c_list[x][1])\n",
        "    elif c_list[x][0] == \"pop\":\n",
        "        d.pop()\n",
        "    elif c_list[x][0] == \"popleft\":\n",
        "        d.popleft()\n",
        "    elif c_list[x][0] == \"clear\":\n",
        "        d.clear()\n",
        "    elif c_list[x][0] == \"extend\":\n",
        "        d.extend(c_list[x][1])\n",
        "    elif c_list[x][0] == \"extendleft\":\n",
        "        d.extendleft(c_list[x][1])\n",
        "    elif c_list[x][0] == \"count\":\n",
        "        d.count(c_list[x][1])\n",
        "    elif c_list[x][0] == \"remove\":\n",
        "        d.remove(c_list[x][1])\n",
        "    elif c_list[x][0] == \"reverse\":\n",
        "        d.reverse()\n",
        "    elif c_list[x][0] == \"rotate\":\n",
        "        d.rotate(c_list[x][1])\n",
        "print(*d,sep=\" \")"
      ],
      "metadata": {
        "id": "Sj2BsFtvJKOS",
        "colab": {
          "base_uri": "https://localhost:8080/"
        },
        "outputId": "51e6e33a-129e-4aea-aecf-e37b0d3c6834"
      },
      "execution_count": null,
      "outputs": [
        {
          "output_type": "stream",
          "name": "stdout",
          "text": [
            "6\n",
            "append 1\n",
            "append 2\n",
            "append 3\n",
            "appendleft 4\n",
            "pop\n",
            "popleft\n",
            "1 2\n"
          ]
        }
      ]
    },
    {
      "cell_type": "markdown",
      "source": [
        "Word Order"
      ],
      "metadata": {
        "id": "yPupqBb0_qAs"
      }
    },
    {
      "cell_type": "code",
      "source": [
        "# Enter your code here. Read input from STDIN. Print output to STDOUT\n",
        "from collections import defaultdict\n",
        "\n",
        "dic = defaultdict(list)\n",
        "n = int(input())\n",
        "w_list =list()\n",
        "for i in range(n):\n",
        "    w_list.append(input())\n",
        "w_set=set(w_list) \n",
        "\n",
        "dis_occu_numb=0\n",
        "for i in range(len(w_list)):\n",
        "        if w_list[i] == w_list[0]:\n",
        "            dic[w_list[i]].append(1)\n",
        "        else:\n",
        "            dic[w_list[i]].append(1)\n",
        "print(len(dic))\n",
        "for k,v in dic.items():\n",
        "    print(len(v),end=\" \")\n",
        "   \n"
      ],
      "metadata": {
        "id": "0yxL1Ynl_S9Z",
        "colab": {
          "base_uri": "https://localhost:8080/"
        },
        "outputId": "e89a71c6-01fc-444b-b69f-db163b67ac03"
      },
      "execution_count": null,
      "outputs": [
        {
          "output_type": "stream",
          "name": "stdout",
          "text": [
            "4\n",
            "bcdef\n",
            "abcdefg\n",
            "bcde\n",
            "bcdef\n",
            "3\n",
            "2 1 1 "
          ]
        }
      ]
    },
    {
      "cell_type": "markdown",
      "source": [
        "Company Logo"
      ],
      "metadata": {
        "id": "3rdPZfIXanFe"
      }
    },
    {
      "cell_type": "code",
      "source": [
        "#!/bin/python3\n",
        "\n",
        "import math\n",
        "import os\n",
        "import random\n",
        "import re\n",
        "import sys\n",
        "from collections import Counter\n",
        "from operator import itemgetter\n",
        "\n",
        "if __name__ == '__main__':\n",
        "    s = sorted(input().strip())\n",
        "    s_counter =Counter(s).most_common()\n",
        "    for i in range(0, 3):\n",
        "        print(s_counter[i][0], s_counter[i][1])"
      ],
      "metadata": {
        "id": "hq7WGmwNUVqy",
        "colab": {
          "base_uri": "https://localhost:8080/"
        },
        "outputId": "e68e7f0d-4872-4c6f-d116-73e06ea08b1a"
      },
      "execution_count": null,
      "outputs": [
        {
          "output_type": "stream",
          "name": "stdout",
          "text": [
            "aabbbccde\n",
            "b 3\n",
            "a 2\n",
            "c 2\n"
          ]
        }
      ]
    },
    {
      "cell_type": "markdown",
      "source": [
        "Piling Up!"
      ],
      "metadata": {
        "id": "Ql_d6y7d0Lg2"
      }
    },
    {
      "cell_type": "code",
      "source": [
        "from collections import deque\n",
        "\n",
        "\n",
        "for i in range(int(input())):\n",
        "    _, n = input(), deque(map(int, input().split()))\n",
        "    ans = True\n",
        "\n",
        "    for j in range(len(n) - 1):\n",
        "        if n[0] >= n[1]:\n",
        "            n.popleft()\n",
        "        elif n[-1] >= n[-2]:\n",
        "            n.pop()\n",
        "        else:\n",
        "            ans = False\n",
        "            break\n",
        "\n",
        "    print('Yes' if ans else 'No')"
      ],
      "metadata": {
        "id": "jmNiR83TasFZ",
        "colab": {
          "base_uri": "https://localhost:8080/"
        },
        "outputId": "3d11f067-288a-4b07-e0c0-b42133ad25b5"
      },
      "execution_count": 1,
      "outputs": [
        {
          "output_type": "stream",
          "name": "stdout",
          "text": [
            "2\n",
            "6\n",
            "4 3 2 1 3 4\n",
            "Yes\n",
            "3\n",
            "1 3 2\n",
            "No\n"
          ]
        }
      ]
    }
  ],
  "metadata": {
    "colab": {
      "collapsed_sections": [],
      "name": "S3-T2.ipynb",
      "provenance": []
    },
    "kernelspec": {
      "display_name": "Python 3",
      "language": "python",
      "name": "python3"
    },
    "language_info": {
      "codemirror_mode": {
        "name": "ipython",
        "version": 3
      },
      "file_extension": ".py",
      "mimetype": "text/x-python",
      "name": "python",
      "nbconvert_exporter": "python",
      "pygments_lexer": "ipython3",
      "version": "3.6.7"
    }
  },
  "nbformat": 4,
  "nbformat_minor": 0
}