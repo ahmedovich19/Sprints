{
  "nbformat": 4,
  "nbformat_minor": 0,
  "metadata": {
    "colab": {
      "name": "lab2.ipynb",
      "provenance": [],
      "collapsed_sections": []
    },
    "kernelspec": {
      "name": "python3",
      "display_name": "Python 3"
    },
    "language_info": {
      "name": "python"
    }
  },
  "cells": [
    {
      "cell_type": "code",
      "execution_count": 8,
      "metadata": {
        "colab": {
          "base_uri": "https://localhost:8080/"
        },
        "id": "TcL2GTyn6fXT",
        "outputId": "ac58ee0e-8bf8-4293-e8f4-7a04dadd89bb"
      },
      "outputs": [
        {
          "output_type": "stream",
          "name": "stdout",
          "text": [
            "Plz Enter the 1st Number :5\n",
            "Plz Enter the 2st Number : 3\n",
            "Plz Enter Operation : X\n",
            "Mul =  15.0\n"
          ]
        }
      ],
      "source": [
        "# Read 1st Number\n",
        "num1 = input('Plz Enter the 1st Number :')\n",
        "# Read 2st Number\n",
        "num2 = input('Plz Enter the 2st Number : ')\n",
        "#Read Operation\n",
        "op = input('Plz Enter Operation : ')\n",
        "\n",
        "# Convert Operands to Numbers\n",
        "num1 = float(num1)\n",
        "num2 = float(num2)\n",
        "\n",
        "if op == \"+\":\n",
        "  res = num1+num2\n",
        "  print('Sum = ', res)\n",
        "elif op == \"-\":\n",
        "  res = num1-num2\n",
        "  print('Sub = ',res)\n",
        "elif op == \"*\" or op == \"x\" or op == \"X\":\n",
        "  res = num1*num2\n",
        "  print('Mul = ',res)\n",
        "elif op == \"/\" or op == \"\\\\\":\n",
        "  res = num1 / num2\n",
        "  print(\"Div = \", res)"
      ]
    },
    {
      "cell_type": "code",
      "source": [
        ""
      ],
      "metadata": {
        "id": "prB6oG9fJ-lH"
      },
      "execution_count": null,
      "outputs": []
    }
  ]
}