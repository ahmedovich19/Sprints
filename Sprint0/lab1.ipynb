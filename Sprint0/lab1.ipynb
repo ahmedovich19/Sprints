{
  "nbformat": 4,
  "nbformat_minor": 0,
  "metadata": {
    "colab": {
      "name": "lab1.ipynb",
      "provenance": [],
      "collapsed_sections": []
    },
    "kernelspec": {
      "name": "python3",
      "display_name": "Python 3"
    },
    "language_info": {
      "name": "python"
    }
  },
  "cells": [
    {
      "cell_type": "code",
      "execution_count": 1,
      "metadata": {
        "colab": {
          "base_uri": "https://localhost:8080/"
        },
        "id": "TcL2GTyn6fXT",
        "outputId": "cda44ad9-0889-4d6b-c7aa-f4907cc19e91"
      },
      "outputs": [
        {
          "output_type": "stream",
          "name": "stdout",
          "text": [
            "Plz Enter the 1st Number :2\n",
            "plz Enter the 2st Number :3\n",
            "Sum =  5.0\n",
            "Sub =  -1.0\n",
            "Mul =  6.0\n"
          ]
        }
      ],
      "source": [
        "# Read 1st Number\n",
        "num1 = input('Plz Enter the 1st Number :')\n",
        "# Read 2st Number\n",
        "num2 = input('plz Enter the 2st Number :')\n",
        "# Convert Numbers from string to Float\n",
        "num1 = float(num1)\n",
        "num2 = float(num2)\n",
        "#Print Sum\n",
        "print('Sum = ',num1+num2)\n",
        "# Print Sub\n",
        "print('Sub = ',num1-num2)\n",
        "# Print Mul\n",
        "print(\"Mul = \",num1*num2)"
      ]
    },
    {
      "cell_type": "code",
      "source": [
        ""
      ],
      "metadata": {
        "id": "y7xf61qm-SP2"
      },
      "execution_count": null,
      "outputs": []
    }
  ]
}