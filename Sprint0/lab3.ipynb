{
  "nbformat": 4,
  "nbformat_minor": 0,
  "metadata": {
    "colab": {
      "name": "lab3.ipynb",
      "provenance": [],
      "collapsed_sections": []
    },
    "kernelspec": {
      "name": "python3",
      "display_name": "Python 3"
    },
    "language_info": {
      "name": "python"
    }
  },
  "cells": [
    {
      "cell_type": "code",
      "execution_count": 10,
      "metadata": {
        "colab": {
          "base_uri": "https://localhost:8080/"
        },
        "id": "TcL2GTyn6fXT",
        "outputId": "4956ec77-c79a-4a92-d1ea-7185e1866569"
      },
      "outputs": [
        {
          "output_type": "stream",
          "name": "stdout",
          "text": [
            "Plz Enter 1st Number : 5\n",
            "Plz Enter 2st Number : 6\n",
            "Plz Enter 3st Number : 2\n",
            "Max = : 6\n"
          ]
        }
      ],
      "source": [
        "def max_two_numbers(num1,num2):\n",
        "  if num1 > num2:\n",
        "    return (num1)\n",
        "  else : \n",
        "    return (num2)\n",
        "\n",
        "def max_three_numbers(num1,num2,num3):\n",
        "  m = max_two_numbers(num1,num2)\n",
        "  fin = max_two_numbers(m,num3)\n",
        "  return fin\n",
        "\n",
        "num1 = input('Plz Enter 1st Number : ')\n",
        "num2 = input('Plz Enter 2st Number : ')\n",
        "num3 = input('Plz Enter 3st Number : ')\n",
        "res = max_three_numbers(num1,num2,num3)\n",
        "print(\"Max = :\",res)"
      ]
    },
    {
      "cell_type": "code",
      "source": [
        "def UniqueList(NonUnique) : \n",
        "  res = []\n",
        "  for n in NonUnique:\n",
        "    if n not in res:\n",
        "      res.append(n)\n",
        "  return (res)\n",
        "\n",
        "numbers=[1,2,3,3,3,4,4,6,7,8,9,5,2,6,0]\n",
        "\n",
        "uni = UniqueList(numbers)\n",
        "print(sorted(uni))"
      ],
      "metadata": {
        "colab": {
          "base_uri": "https://localhost:8080/"
        },
        "id": "prB6oG9fJ-lH",
        "outputId": "ab41253c-eb7d-4e5b-8d28-119c9207fcd4"
      },
      "execution_count": 13,
      "outputs": [
        {
          "output_type": "stream",
          "name": "stdout",
          "text": [
            "[0, 1, 2, 3, 4, 5, 6, 7, 8, 9]\n"
          ]
        }
      ]
    },
    {
      "cell_type": "code",
      "source": [
        ""
      ],
      "metadata": {
        "id": "I2wjT_liTJx5"
      },
      "execution_count": null,
      "outputs": []
    }
  ]
}