{
  "cells": [
    {
      "cell_type": "markdown",
      "source": [
        "Zipped!"
      ],
      "metadata": {
        "id": "rBL11WJpMU2L"
      }
    },
    {
      "cell_type": "code",
      "source": [
        "n, x = list(map(int,input().split()))\n",
        "subject_scores = [list(map(float,input().split())) for _ in range(x)]\n",
        "students_scores = list(zip(*subject_scores))\n",
        "for i in students_scores:\n",
        "    print(sum(i)/x)"
      ],
      "metadata": {
        "colab": {
          "base_uri": "https://localhost:8080/"
        },
        "id": "Ms4TBLqNMVYz",
        "outputId": "45ed8240-5403-444b-b11f-a85fde279833"
      },
      "execution_count": 6,
      "outputs": [
        {
          "output_type": "stream",
          "name": "stdout",
          "text": [
            "5 3\n",
            "89 90 78 93 80\n",
            "90 91 85 88 86\n",
            "91 92 83 89 90.5\n",
            "90.0\n",
            "91.0\n",
            "82.0\n",
            "90.0\n",
            "85.5\n"
          ]
        }
      ]
    },
    {
      "cell_type": "markdown",
      "source": [
        "Input()"
      ],
      "metadata": {
        "id": "DQJ2_wA6MVod"
      }
    },
    {
      "cell_type": "code",
      "source": [
        "if __name__ == \"__main__\":\n",
        "    x, k = map(int, input().strip().split())\n",
        "    string = input().strip()\n",
        "    \n",
        "    if eval(string) == k:\n",
        "        print(True)\n",
        "    else:\n",
        "        print(False)\n"
      ],
      "metadata": {
        "colab": {
          "base_uri": "https://localhost:8080/"
        },
        "id": "VIeQA6RYMWAa",
        "outputId": "8686b3be-3bea-4ebc-9996-baccd2757397"
      },
      "execution_count": 7,
      "outputs": [
        {
          "output_type": "stream",
          "name": "stdout",
          "text": [
            "1 4\n",
            "x**3 + x**2 + x + 1\n",
            "True\n"
          ]
        }
      ]
    },
    {
      "cell_type": "markdown",
      "source": [
        "Python Evaluation"
      ],
      "metadata": {
        "id": "i0eJCmjXMWaU"
      }
    },
    {
      "cell_type": "code",
      "source": [
        "eval(input())"
      ],
      "metadata": {
        "colab": {
          "base_uri": "https://localhost:8080/"
        },
        "id": "4-xu4FTlMW1P",
        "outputId": "17acfa89-4dac-4dfa-c480-481c68177174"
      },
      "execution_count": 8,
      "outputs": [
        {
          "output_type": "stream",
          "name": "stdout",
          "text": [
            "print(2 + 3)\n",
            "5\n"
          ]
        }
      ]
    },
    {
      "cell_type": "markdown",
      "source": [
        "Athlete Sort"
      ],
      "metadata": {
        "id": "X2CzjdJXMXLZ"
      }
    },
    {
      "cell_type": "code",
      "source": [
        "#!/bin/python3\n",
        "\n",
        "import math\n",
        "import os\n",
        "import random\n",
        "import re\n",
        "import sys\n",
        "\n",
        "\n",
        "\n",
        "if __name__ == '__main__':\n",
        "    nm = input().split()\n",
        "\n",
        "    n = int(nm[0])\n",
        "\n",
        "    m = int(nm[1])\n",
        "\n",
        "    arr = []\n",
        "\n",
        "    for _ in range(n):\n",
        "        arr.append(list(map(int, input().rstrip().split())))\n",
        "\n",
        "    k = int(input())\n",
        "    \n",
        "    arr.sort(key = lambda x : x[k])\n",
        "    for i in arr:\n",
        "        print(*i,sep=' ')"
      ],
      "metadata": {
        "colab": {
          "base_uri": "https://localhost:8080/"
        },
        "id": "j9O4qUwZMXn2",
        "outputId": "ac23d33f-d2e7-44e6-80d7-a6fe728f345d"
      },
      "execution_count": 9,
      "outputs": [
        {
          "output_type": "stream",
          "name": "stdout",
          "text": [
            "5 3\n",
            "10 2 5\n",
            "7 1 0\n",
            "9 9 9\n",
            "1 23 12\n",
            "6 5 9\n",
            "1\n",
            "7 1 0\n",
            "10 2 5\n",
            "6 5 9\n",
            "9 9 9\n",
            "1 23 12\n"
          ]
        }
      ]
    },
    {
      "cell_type": "markdown",
      "source": [
        "Any or All"
      ],
      "metadata": {
        "id": "4hJYsAOCMYjB"
      }
    },
    {
      "cell_type": "code",
      "source": [
        "# Enter your code here. Read input from STDIN. Print output to STDOUT\n",
        "_ = input()\n",
        "n = input().split()\n",
        "print(all([int(i) > 0 for i in n]) and any([j == j[::-1] for j in n]))\n"
      ],
      "metadata": {
        "colab": {
          "base_uri": "https://localhost:8080/"
        },
        "id": "_NAJhixOMZPY",
        "outputId": "bee2beb0-7e60-43dd-ff8b-efc7df775cdf"
      },
      "execution_count": 10,
      "outputs": [
        {
          "output_type": "stream",
          "name": "stdout",
          "text": [
            "5\n",
            "12 9 61 5 14\n",
            "True\n"
          ]
        }
      ]
    },
    {
      "cell_type": "markdown",
      "source": [
        "ginortS"
      ],
      "metadata": {
        "id": "dZiUm47xMZyr"
      }
    },
    {
      "cell_type": "code",
      "source": [
        "# Enter your code here. Read input from STDIN. Print output to STDOUT\n",
        "s = input()\n",
        "lower_s=\"\"\n",
        "upper_s=\"\"\n",
        "odd_d=\"\"\n",
        "even_d=\"\"\n",
        "for i in s:\n",
        "    if i.islower():\n",
        "        lower_s+=i\n",
        "    elif(i.isupper()):\n",
        "        upper_s+=i\n",
        "    elif(i.isnumeric()):\n",
        "        if int(i) % 2==1:\n",
        "            odd_d+=i\n",
        "        elif int(i) % 2==0:\n",
        "            even_d+=i\n",
        "new_s = sorted(lower_s)+sorted(upper_s)+sorted(odd_d)+sorted(even_d)\n",
        "print(\"\".join(new_s))\n"
      ],
      "metadata": {
        "colab": {
          "base_uri": "https://localhost:8080/"
        },
        "id": "9YNIUQpkMaHg",
        "outputId": "125eee3e-ecb0-406b-9618-1cb3676174b5"
      },
      "execution_count": 11,
      "outputs": [
        {
          "output_type": "stream",
          "name": "stdout",
          "text": [
            "Sorting1234\n",
            "ginortS1324\n"
          ]
        }
      ]
    }
  ],
  "metadata": {
    "colab": {
      "collapsed_sections": [],
      "name": "S5-T3.ipynb",
      "provenance": []
    },
    "kernelspec": {
      "display_name": "Python 3",
      "language": "python",
      "name": "python3"
    },
    "language_info": {
      "codemirror_mode": {
        "name": "ipython",
        "version": 3
      },
      "file_extension": ".py",
      "mimetype": "text/x-python",
      "name": "python",
      "nbconvert_exporter": "python",
      "pygments_lexer": "ipython3",
      "version": "3.6.7"
    }
  },
  "nbformat": 4,
  "nbformat_minor": 0
}