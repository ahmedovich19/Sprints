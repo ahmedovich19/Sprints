{
  "cells": [
    {
      "cell_type": "markdown",
      "source": [
        "Detect Floating Point Number"
      ],
      "metadata": {
        "id": "ehuodi6KQW1N"
      }
    },
    {
      "cell_type": "code",
      "source": [
        "# Enter your code here. Read input from STDIN. Print output to STDOUT\n",
        "import re\n",
        "t = int(input())\n",
        "for _ in range(t):\n",
        "    pattern = r'^[\\+\\-]?\\d*\\.[0-9]+$'\n",
        "    \n",
        "    m =re.search(pattern,input())\n",
        "    if m:\n",
        "        print(True)\n",
        "    else:\n",
        "        print(False)"
      ],
      "metadata": {
        "colab": {
          "base_uri": "https://localhost:8080/"
        },
        "id": "PgGaexrPQXbi",
        "outputId": "7324b914-70f3-470a-c243-3678c8b92a49"
      },
      "execution_count": 12,
      "outputs": [
        {
          "output_type": "stream",
          "name": "stdout",
          "text": [
            "4\n",
            "4.0O0\n",
            "False\n",
            "-1.00\n",
            "True\n",
            "+4.54\n",
            "True\n",
            "SomeRandomStuff\n",
            "False\n"
          ]
        }
      ]
    },
    {
      "cell_type": "markdown",
      "source": [
        "Map and Lambda Function"
      ],
      "metadata": {
        "id": "Lm15BJ7UQXz1"
      }
    },
    {
      "cell_type": "code",
      "source": [
        "cube = lambda x: x**3 # complete the lambda function \n",
        "\n",
        "def fibonacci(n):\n",
        "    # return a list of fibonacci numbers\n",
        "    storage = [0, 1]\n",
        "    for i in range(2, n):\n",
        "        storage.append(storage[i-1] + storage[i-2])\n",
        "    return(storage[0:n])\n",
        "        \n",
        "\n",
        "if __name__ == '__main__':\n",
        "    n = int(input())\n",
        "    print(list(map(cube, fibonacci(n))))"
      ],
      "metadata": {
        "colab": {
          "base_uri": "https://localhost:8080/"
        },
        "id": "NugDU5lWQYLx",
        "outputId": "a3a5a268-3f6b-4b33-bb58-f694436be85b"
      },
      "execution_count": 14,
      "outputs": [
        {
          "output_type": "stream",
          "name": "stdout",
          "text": [
            "5\n",
            "[0, 1, 1, 8, 27]\n"
          ]
        }
      ]
    },
    {
      "cell_type": "markdown",
      "source": [
        "Re.split()"
      ],
      "metadata": {
        "id": "m6nVNUGFQYm8"
      }
    },
    {
      "cell_type": "code",
      "source": [
        "regex_pattern = r\"[.,]\"\t# Do not delete 'r'.\n",
        "\n",
        "import re\n",
        "print(\"\\n\".join(re.split(regex_pattern, input())))"
      ],
      "metadata": {
        "colab": {
          "base_uri": "https://localhost:8080/"
        },
        "id": "-3YROjMOQZDF",
        "outputId": "8139f75e-fdc1-4a77-a8e7-1efb933d65b9"
      },
      "execution_count": 15,
      "outputs": [
        {
          "output_type": "stream",
          "name": "stdout",
          "text": [
            "100,000,000.000\n",
            "100\n",
            "000\n",
            "000\n",
            "000\n"
          ]
        }
      ]
    },
    {
      "cell_type": "markdown",
      "source": [
        "Group(), Groups() & Groupdict()"
      ],
      "metadata": {
        "id": "oEEbQjjmQZSi"
      }
    },
    {
      "cell_type": "code",
      "source": [
        "# Enter your code here. Read input from STDIN. Print output to STDOUT\n",
        "import re\n",
        "m=re.search(r'([a-zA-Z0-9])\\1+',input())\n",
        "if m:\n",
        "    print(m.group(1))\n",
        "else:\n",
        "    print(-1)\n",
        "\n"
      ],
      "metadata": {
        "colab": {
          "base_uri": "https://localhost:8080/"
        },
        "id": "UQZZnla7QZn6",
        "outputId": "7a5c7d1f-7d44-40b9-e211-724b471196dc"
      },
      "execution_count": 16,
      "outputs": [
        {
          "output_type": "stream",
          "name": "stdout",
          "text": [
            "..12345678910111213141516171820212223\n",
            "1\n"
          ]
        }
      ]
    },
    {
      "cell_type": "markdown",
      "source": [
        "Re.findall() & Re.finditer()"
      ],
      "metadata": {
        "id": "paID-yO2QZ9C"
      }
    },
    {
      "cell_type": "code",
      "source": [
        "# Enter your code here. Read input from STDIN. Print output to STDOUT\n",
        "import re\n",
        "m= re.findall(r'(?<=[qwrtypsdfghjklzxcvbnm])([aeiou]{2,})(?=[qwrtypsdfghjklzxcvbnm])',input().strip(),re.IGNORECASE)\n",
        "\n",
        "if m:\n",
        "    for i in m:\n",
        "        print(i)\n",
        "else:\n",
        "    print(-1)\n",
        " \n"
      ],
      "metadata": {
        "colab": {
          "base_uri": "https://localhost:8080/"
        },
        "id": "ckjju2FvQala",
        "outputId": "248aa821-c863-4318-cd27-fea3e9907a57"
      },
      "execution_count": 17,
      "outputs": [
        {
          "output_type": "stream",
          "name": "stdout",
          "text": [
            "rabcdeefgyYhFjkIoomnpOeorteeeeet\n",
            "ee\n",
            "Ioo\n",
            "Oeo\n",
            "eeeee\n"
          ]
        }
      ]
    },
    {
      "cell_type": "markdown",
      "source": [
        "Re.start() & Re.end()"
      ],
      "metadata": {
        "id": "lRI93UKXQa5y"
      }
    },
    {
      "cell_type": "code",
      "source": [
        "# Enter your code here. Read input from STDIN. Print output to STDOUT\n",
        "import re\n",
        "text, pattern = input(), input()\n",
        "m= list(re.finditer(\"(?=(%s))\"%pattern,text))\n",
        "if not m:\n",
        "    print((-1,-1))\n",
        "for i in m:\n",
        "    print((i.start(1),i.end(1)-1))"
      ],
      "metadata": {
        "colab": {
          "base_uri": "https://localhost:8080/"
        },
        "id": "KSlmaQFZQbQo",
        "outputId": "131e36c5-32e6-4128-dc46-b7585e29f30e"
      },
      "execution_count": 18,
      "outputs": [
        {
          "output_type": "stream",
          "name": "stdout",
          "text": [
            "aaadaa\n",
            "aa\n",
            "(0, 1)\n",
            "(1, 2)\n",
            "(4, 5)\n"
          ]
        }
      ]
    },
    {
      "cell_type": "markdown",
      "source": [
        "Validating Roman Numerals"
      ],
      "metadata": {
        "id": "bqHNzq6kTT0a"
      }
    },
    {
      "cell_type": "code",
      "source": [
        "regex_pattern = r\"^M{0,3}(CM|CD|D?C{0,3})(XC|XL|L?X{0,3})(IX|IV|V?I{0,3})$\"    # Do not delete 'r'.\n",
        "\n",
        "import re\n",
        "print(str(bool(re.match(regex_pattern, input()))))"
      ],
      "metadata": {
        "colab": {
          "base_uri": "https://localhost:8080/"
        },
        "id": "ufq_hky-TUMP",
        "outputId": "f1e15239-3610-4ef5-957a-e69961fbdf52"
      },
      "execution_count": 19,
      "outputs": [
        {
          "output_type": "stream",
          "name": "stdout",
          "text": [
            "CDXXI\n",
            "True\n"
          ]
        }
      ]
    },
    {
      "cell_type": "markdown",
      "source": [
        "Validating phone numbers"
      ],
      "metadata": {
        "id": "B2DlCxJRTU9F"
      }
    },
    {
      "cell_type": "code",
      "source": [
        "# Enter your code here. Read input from STDIN. Print output to STDOUT\n",
        "import re\n",
        "pattern = r\"^[789][0-9]{9}$\"\n",
        "\n",
        "\n",
        "for _ in range(int(input())):\n",
        "    s= input()\n",
        "    m = re.match(pattern,s)\n",
        "    if m:\n",
        "        print(\"YES\")\n",
        "    else:\n",
        "        print(\"NO\")\n"
      ],
      "metadata": {
        "colab": {
          "base_uri": "https://localhost:8080/"
        },
        "id": "1dx9N3f4TVa2",
        "outputId": "89b2ed8c-8a08-4ccf-ed67-90c11fa204aa"
      },
      "execution_count": 20,
      "outputs": [
        {
          "output_type": "stream",
          "name": "stdout",
          "text": [
            "2\n",
            "9587456281\n",
            "YES\n",
            "1252478965\n",
            "NO\n"
          ]
        }
      ]
    },
    {
      "cell_type": "markdown",
      "source": [
        "Validating and Parsing Email Addresses"
      ],
      "metadata": {
        "id": "e8GQpkpGTWIe"
      }
    },
    {
      "cell_type": "code",
      "source": [
        "import re\n",
        "\n",
        "t = int(input().strip())\n",
        "for _ in range(t):\n",
        "    name, email = input().strip().split()\n",
        "    \n",
        "    if re.match(r'<[A-Za-z](\\w|-|\\.|_)+@[A-Za-z]+\\.[A-Za-z]{1,3}>', email):\n",
        "        print(\"{} {}\".format(name, email))\n"
      ],
      "metadata": {
        "colab": {
          "base_uri": "https://localhost:8080/"
        },
        "id": "-U1cqh2VTWey",
        "outputId": "92d31e24-792c-4d36-fc95-e887be280e56"
      },
      "execution_count": 21,
      "outputs": [
        {
          "name": "stdout",
          "output_type": "stream",
          "text": [
            "2\n",
            "DEXTER <dexter@hotmail.com>\n",
            "DEXTER <dexter@hotmail.com>\n",
            "VIRUS <virus!@variable.:p>\n"
          ]
        }
      ]
    },
    {
      "cell_type": "markdown",
      "source": [
        "Hex Color Code"
      ],
      "metadata": {
        "id": "daXGST_sUkmb"
      }
    },
    {
      "cell_type": "code",
      "source": [
        "import re\n",
        "\n",
        "for _ in range(int(input())):\n",
        "    matches = re.findall(r':?.(#[0-9a-fA-F]{6}|#[0-9a-fA-F]{3})', input())\n",
        "    if matches:\n",
        "        print(*matches, sep='\\n')\n"
      ],
      "metadata": {
        "colab": {
          "base_uri": "https://localhost:8080/"
        },
        "id": "2CBTRhtXUlG0",
        "outputId": "5c238be0-e188-4dea-823b-0971bc53ab5a"
      },
      "execution_count": 22,
      "outputs": [
        {
          "name": "stdout",
          "output_type": "stream",
          "text": [
            "11\n",
            "#BED\n",
            "{\n",
            "    color: #FfFdF8; background-color:#aef;\n",
            "#FfFdF8\n",
            "#aef\n",
            "    font-size: 123px;\n",
            "\n",
            "}\n",
            "#Cab\n",
            "{\n",
            "    background-color: #ABC;\n",
            "#ABC\n",
            "    border: 2px dashed #fff;\n",
            "#fff\n",
            "}\n"
          ]
        }
      ]
    },
    {
      "cell_type": "markdown",
      "source": [
        "HTML Parser - Part 1"
      ],
      "metadata": {
        "id": "DATMS2E1UlgZ"
      }
    },
    {
      "cell_type": "code",
      "source": [
        "from html.parser import HTMLParser\n",
        "\n",
        "class MyHTMLParser(HTMLParser):\n",
        "    def handle_starttag(self, tag, attrs):\n",
        "        print ('Start :', tag)\n",
        "        for ele in attrs:\n",
        "            print ('->', ele[0], '>', ele[1])\n",
        "\n",
        "    def handle_endtag(self, tag):\n",
        "        print ('End   :', tag)\n",
        "\n",
        "    def handle_startendtag(self, tag, attrs):\n",
        "        print ('Empty :', tag)\n",
        "        for ele in attrs:\n",
        "            print ('->', ele[0], '>', ele[1])\n",
        "\n",
        "parser = MyHTMLParser()\n",
        "for _ in range(int(input())):\n",
        "    parser.feed(input())\n"
      ],
      "metadata": {
        "colab": {
          "base_uri": "https://localhost:8080/"
        },
        "id": "1BKM3onDUl2z",
        "outputId": "369aecdd-7184-43dd-fbe2-3ad3530ad959"
      },
      "execution_count": 23,
      "outputs": [
        {
          "output_type": "stream",
          "name": "stdout",
          "text": [
            "2\n",
            "<html><head><title>HTML Parser - I</title></head>\n",
            "Start : html\n",
            "Start : head\n",
            "Start : title\n",
            "End   : title\n",
            "End   : head\n",
            "<body data-modal-target class='1'><h1>HackerRank</h1><br /></body></html>\n",
            "Start : body\n",
            "-> data-modal-target > None\n",
            "-> class > 1\n",
            "Start : h1\n",
            "End   : h1\n",
            "Empty : br\n",
            "End   : body\n",
            "End   : html\n"
          ]
        }
      ]
    },
    {
      "cell_type": "markdown",
      "source": [
        "HTML Parser - Part 2"
      ],
      "metadata": {
        "id": "-4a9fuMAWoMQ"
      }
    },
    {
      "cell_type": "code",
      "source": [
        "from html.parser import HTMLParser\n",
        "\n",
        "class MyHTMLParser(HTMLParser):\n",
        "  def handle_comment(self, data):\n",
        "        if '\\n' in data:\n",
        "            print('>>> Multi-line Comment')\n",
        "        else:\n",
        "            print('>>> Single-line Comment')\n",
        "        print(data)\n",
        "  def handle_data(self, data):\n",
        "        if data != '\\n':\n",
        "            print(\">>> Data\", data,sep='\\n')\n",
        "  \n",
        "  \n",
        "html = \"\"       \n",
        "for i in range(int(input())):\n",
        "    html += input().rstrip()\n",
        "    html += '\\n'\n",
        "    \n",
        "parser = MyHTMLParser()\n",
        "parser.feed(html)\n",
        "parser.close()\n"
      ],
      "metadata": {
        "colab": {
          "base_uri": "https://localhost:8080/"
        },
        "id": "G6NtYKqnWD1g",
        "outputId": "0a99e263-f16a-44b1-952b-5ced3c7429b5"
      },
      "execution_count": 24,
      "outputs": [
        {
          "output_type": "stream",
          "name": "stdout",
          "text": [
            "4\n",
            "<!--[if IE 9]>IE9-specific content\n",
            "<![endif]-->\n",
            "<div> Welcome to HackerRank</div>\n",
            "<!--[if IE 9]>IE9-specific content<![endif]-->\n",
            ">>> Multi-line Comment\n",
            "[if IE 9]>IE9-specific content\n",
            "<![endif]\n",
            ">>> Data\n",
            " Welcome to HackerRank\n",
            ">>> Single-line Comment\n",
            "[if IE 9]>IE9-specific content<![endif]\n"
          ]
        }
      ]
    },
    {
      "cell_type": "markdown",
      "source": [
        "Detect HTML Tags, Attributes and Attribute Values\n"
      ],
      "metadata": {
        "id": "T0xVuO8HWsB0"
      }
    },
    {
      "cell_type": "code",
      "source": [
        "from html.parser import HTMLParser\n",
        "\n",
        "class MyHTMLParser(HTMLParser):\n",
        "    def handle_starttag(self, tag, attrs):\n",
        "        print (tag)\n",
        "        for ele in attrs:\n",
        "            print ('->', ele[0], '>', ele[1])\n",
        "\n",
        "    def handle_startendtag(self, tag, attrs):\n",
        "        print (tag)\n",
        "        for ele in attrs:\n",
        "            print ('->', ele[0], '>', ele[1])\n",
        "\n",
        "parser = MyHTMLParser()\n",
        "for _ in range(int(input())):\n",
        "    parser.feed(input())\n"
      ],
      "metadata": {
        "colab": {
          "base_uri": "https://localhost:8080/"
        },
        "id": "TjH7hyXkWY21",
        "outputId": "f20284b6-b4ba-4275-a258-5aa633ab0046"
      },
      "execution_count": 25,
      "outputs": [
        {
          "name": "stdout",
          "output_type": "stream",
          "text": [
            "9\n",
            "<head>\n",
            "head\n",
            "<title>HTML</title>\n",
            "title\n",
            "</head>\n",
            "<object type=\"application/x-flash\"\n",
            "  data=\"your-file.swf\"\n",
            "  width=\"0\" height=\"0\">\n",
            "object\n",
            "-> type > application/x-flash\n",
            "-> data > your-file.swf\n",
            "-> width > 0\n",
            "-> height > 0\n",
            "  <!-- <param name=\"movie\" value=\"your-file.swf\" /> -->\n",
            "  <param name=\"quality\" value=\"high\"/>\n",
            "param\n",
            "-> name > quality\n",
            "-> value > high\n",
            "</object>\n"
          ]
        }
      ]
    },
    {
      "cell_type": "markdown",
      "source": [
        "Validating UID"
      ],
      "metadata": {
        "id": "E0ICKHb5XEFU"
      }
    },
    {
      "cell_type": "code",
      "source": [
        "import re\n",
        "for _ in range(int(input())):\n",
        "    uid = input()\n",
        "    uid = \"\".join(sorted(uid))\n",
        "    if (re.search(r\"[A-Z]{2}\",uid) and #2 uppercase alphabets\n",
        "        re.search(r\"\\d{3}\",uid) and #3+ digits\n",
        "        not re.search(r\"[^A-Za-z0-9]\",uid) and #no nonalphanumeric\n",
        "        not re.search(r\"(\\w)\\1\",uid) and #no repetition\n",
        "        len(uid) == 10): #10 characters long\n",
        "        print(\"Valid\")\n",
        "    else:\n",
        "        print(\"Invalid\")\n"
      ],
      "metadata": {
        "colab": {
          "base_uri": "https://localhost:8080/"
        },
        "id": "XD8Wp24oWydp",
        "outputId": "5e2d4b06-77e3-459b-f3ed-d98678522624"
      },
      "execution_count": 26,
      "outputs": [
        {
          "output_type": "stream",
          "name": "stdout",
          "text": [
            "2\n",
            "B1CD102354\n",
            "Invalid\n",
            "B1CDEF2354\n",
            "Valid\n"
          ]
        }
      ]
    }
  ],
  "metadata": {
    "colab": {
      "collapsed_sections": [],
      "name": "S5-T4.ipynb",
      "provenance": []
    },
    "kernelspec": {
      "display_name": "Python 3",
      "language": "python",
      "name": "python3"
    },
    "language_info": {
      "codemirror_mode": {
        "name": "ipython",
        "version": 3
      },
      "file_extension": ".py",
      "mimetype": "text/x-python",
      "name": "python",
      "nbconvert_exporter": "python",
      "pygments_lexer": "ipython3",
      "version": "3.6.7"
    }
  },
  "nbformat": 4,
  "nbformat_minor": 0
}