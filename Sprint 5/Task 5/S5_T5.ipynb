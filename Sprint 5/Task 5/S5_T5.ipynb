{
  "cells": [
    {
      "cell_type": "markdown",
      "source": [
        "XML 1 - Find the Score"
      ],
      "metadata": {
        "id": "bpTg7UkCY9gX"
      }
    },
    {
      "cell_type": "code",
      "source": [
        "import sys\n",
        "import xml.etree.ElementTree as etree\n",
        "\n",
        "def get_attr_number(node):\n",
        "    return len(node.attrib) + sum([get_attr_number(child) for child in node])\n",
        "    \n",
        "if __name__ == '__main__':\n",
        "    sys.stdin.readline()\n",
        "    xml = sys.stdin.read()\n",
        "    tree = etree.ElementTree(etree.fromstring(xml))\n",
        "    root = tree.getroot()\n",
        "    print(get_attr_number(root))"
      ],
      "metadata": {
        "id": "H-1NwBEBY-Mc"
      },
      "execution_count": null,
      "outputs": []
    },
    {
      "cell_type": "markdown",
      "source": [
        "XML2 - Find the Maximum Depth"
      ],
      "metadata": {
        "id": "jwHIeY-KY-on"
      }
    },
    {
      "cell_type": "code",
      "source": [
        "import xml.etree.ElementTree as etree\n",
        "\n",
        "maxdepth = 0\n",
        "def depth(elem, level):\n",
        "    global maxdepth\n",
        "    if (level == maxdepth):\n",
        "        maxdepth += 1\n",
        "\n",
        "    for child in elem:\n",
        "        depth(child, level + 1)\n",
        "\n",
        "if __name__ == '__main__':\n",
        "    n = int(input())\n",
        "    xml = \"\"\n",
        "    for i in range(n):\n",
        "        xml =  xml + input() + \"\\n\"\n",
        "    tree = etree.ElementTree(etree.fromstring(xml))\n",
        "    depth(tree.getroot(), -1)\n",
        "    print(maxdepth)"
      ],
      "metadata": {
        "id": "ONsgpHqtY_Fo",
        "colab": {
          "base_uri": "https://localhost:8080/"
        },
        "outputId": "d83b8b56-2cdf-4161-d06b-064077528cf8"
      },
      "execution_count": 33,
      "outputs": [
        {
          "output_type": "stream",
          "name": "stdout",
          "text": [
            "6\n",
            "<feed xml:lang='en'>\n",
            "  <title>HackerRank</title>\n",
            "  <subtitle lang='en'>Programming challenges</subtitle>\n",
            "  <link rel='alternate' type='text/html' href='http://hackerrank.com/'/>\n",
            "  <updated>2013-12-25T12:00:00</updated>\n",
            "</feed>\n",
            "1\n"
          ]
        }
      ]
    },
    {
      "cell_type": "markdown",
      "source": [
        "Standardize Mobile Number Using Decorators"
      ],
      "metadata": {
        "id": "hbo5KSLQY_ch"
      }
    },
    {
      "cell_type": "code",
      "source": [
        "def wrapper(f):\n",
        "    def fun(l):\n",
        "       f(['+91 ' + c[-10:-5] + ' ' + c[-5:] for c in l])           \n",
        "    return fun\n",
        "\n",
        "@wrapper\n",
        "def sort_phone(l):\n",
        "    print(*sorted(l), sep='\\n')\n",
        "\n",
        "if __name__ == '__main__':\n",
        "    l = [input() for _ in range(int(input()))]\n",
        "    sort_phone(l) "
      ],
      "metadata": {
        "id": "UtfZT8eIY_2Y",
        "colab": {
          "base_uri": "https://localhost:8080/"
        },
        "outputId": "20796181-5856-47f7-eb9f-49832c97d579"
      },
      "execution_count": 34,
      "outputs": [
        {
          "output_type": "stream",
          "name": "stdout",
          "text": [
            "3\n",
            "07895462130\n",
            "919875641230\n",
            "9195969878\n",
            "+91 78954 62130\n",
            "+91 91959 69878\n",
            "+91 98756 41230\n"
          ]
        }
      ]
    },
    {
      "cell_type": "markdown",
      "source": [
        "Decorators 2 - Name Directory"
      ],
      "metadata": {
        "id": "vYynm2fdZAK4"
      }
    },
    {
      "cell_type": "code",
      "source": [
        "import operator\n",
        "\n",
        "def person_lister(f):\n",
        "    def inner(people):\n",
        "       return map(f, sorted(people, key=lambda x: int(x[2])))\n",
        "    return inner\n",
        "\n",
        "@person_lister\n",
        "def name_format(person):\n",
        "    return (\"Mr. \" if person[3] == \"M\" else \"Ms. \") + person[0] + \" \" + person[1]\n",
        "\n",
        "if __name__ == '__main__':\n",
        "    people = [input().split() for i in range(int(input()))]\n",
        "    print(*name_format(people), sep='\\n')"
      ],
      "metadata": {
        "id": "lBKnd6P3ZAwd",
        "colab": {
          "base_uri": "https://localhost:8080/"
        },
        "outputId": "48628681-d14c-4eba-aca5-9774fd36c7b9"
      },
      "execution_count": 35,
      "outputs": [
        {
          "output_type": "stream",
          "name": "stdout",
          "text": [
            "3\n",
            "Mike Thomson 20 M\n",
            "Robert Bustle 32 M\n",
            "Andria Bustle 30 F\n",
            "Mr. Mike Thomson\n",
            "Ms. Andria Bustle\n",
            "Mr. Robert Bustle\n"
          ]
        }
      ]
    },
    {
      "cell_type": "markdown",
      "source": [
        "Words Score"
      ],
      "metadata": {
        "id": "qmlQmoQ0dAYH"
      }
    },
    {
      "cell_type": "code",
      "source": [
        "def is_vowel(letter):\n",
        "    return letter in ['a', 'e', 'i', 'o', 'u', 'y']\n",
        "\n",
        "def score_words(words):\n",
        "    score = 0\n",
        "    for word in words:\n",
        "        num_vowels = 0\n",
        "        for letter in word:\n",
        "            if is_vowel(letter):\n",
        "                num_vowels += 1\n",
        "        if num_vowels % 2 == 0:\n",
        "            score += 2\n",
        "        elif num_vowels % 2 == 1:\n",
        "            score += 1\n",
        "    return score\n",
        "\n",
        "\n",
        "n = int(input())\n",
        "words = input().split()\n",
        "print(score_words(words))"
      ],
      "metadata": {
        "colab": {
          "base_uri": "https://localhost:8080/"
        },
        "id": "Nwc87dpacyyD",
        "outputId": "81837d94-909e-499b-9d1b-8544e6288fda"
      },
      "execution_count": 36,
      "outputs": [
        {
          "output_type": "stream",
          "name": "stdout",
          "text": [
            "2\n",
            "hacker book\n",
            "4\n"
          ]
        }
      ]
    },
    {
      "cell_type": "markdown",
      "source": [
        ""
      ],
      "metadata": {
        "id": "0kVQdH5td_-m"
      }
    },
    {
      "cell_type": "code",
      "source": [
        "class EvenStream(object):\n",
        "    def __init__(self):\n",
        "        self.current = 0\n",
        "\n",
        "    def get_next(self):\n",
        "        to_return = self.current\n",
        "        self.current += 2\n",
        "        return to_return\n",
        "\n",
        "class OddStream(object):\n",
        "    def __init__(self):\n",
        "        self.current = 1\n",
        "\n",
        "    def get_next(self):\n",
        "        to_return = self.current\n",
        "        self.current += 2\n",
        "        return to_return\n",
        "\n",
        "def print_from_stream(n, stream=None):\n",
        "    if stream is None:\n",
        "        stream = EvenStream()\n",
        "    for _ in range(n):\n",
        "        print(stream.get_next())\n",
        "\n",
        "\n",
        "queries = int(input())\n",
        "for _ in range(queries):\n",
        "    stream_name, n = input().split()\n",
        "    n = int(n)\n",
        "    if stream_name == \"even\":\n",
        "        print_from_stream(n)\n",
        "    else:\n",
        "        print_from_stream(n, OddStream())\n"
      ],
      "metadata": {
        "colab": {
          "base_uri": "https://localhost:8080/"
        },
        "id": "6-77UozsdHA3",
        "outputId": "01b27bf8-8873-42ed-8331-bbfd51bcf79c"
      },
      "execution_count": 37,
      "outputs": [
        {
          "output_type": "stream",
          "name": "stdout",
          "text": [
            "3\n",
            "odd 2\n",
            "1\n",
            "3\n",
            "even 3\n",
            "0\n",
            "2\n",
            "4\n",
            "odd 5\n",
            "1\n",
            "3\n",
            "5\n",
            "7\n",
            "9\n"
          ]
        }
      ]
    }
  ],
  "metadata": {
    "colab": {
      "collapsed_sections": [],
      "name": "S5-T5.ipynb",
      "provenance": []
    },
    "kernelspec": {
      "display_name": "Python 3",
      "language": "python",
      "name": "python3"
    },
    "language_info": {
      "codemirror_mode": {
        "name": "ipython",
        "version": 3
      },
      "file_extension": ".py",
      "mimetype": "text/x-python",
      "name": "python",
      "nbconvert_exporter": "python",
      "pygments_lexer": "ipython3",
      "version": "3.6.7"
    }
  },
  "nbformat": 4,
  "nbformat_minor": 0
}