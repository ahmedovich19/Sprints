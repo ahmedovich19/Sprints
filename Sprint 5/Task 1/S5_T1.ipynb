{
  "cells": [
    {
      "cell_type": "markdown",
      "source": [
        "Compress the String!"
      ],
      "metadata": {
        "id": "UxjN3LA6DhLI"
      }
    },
    {
      "cell_type": "code",
      "source": [
        "from itertools import groupby\n",
        "x=list()\n",
        "for k, g in groupby(input()):\n",
        "    print((len(list(g)),int(k)),end=\" \")"
      ],
      "metadata": {
        "colab": {
          "base_uri": "https://localhost:8080/"
        },
        "id": "cwiWy9C0Dhuz",
        "outputId": "2aaa144e-6cce-40b1-adad-e2dd092e4272"
      },
      "execution_count": null,
      "outputs": [
        {
          "output_type": "stream",
          "name": "stdout",
          "text": [
            "1222311\n",
            "(1, 1) (3, 2) (1, 3) (2, 1) "
          ]
        }
      ]
    },
    {
      "cell_type": "markdown",
      "source": [
        "Iterables and Iterators"
      ],
      "metadata": {
        "id": "WrDhUllfDiHM"
      }
    },
    {
      "cell_type": "code",
      "source": [
        "from itertools import combinations\n",
        "n = int(input())\n",
        "n_letters = input().split()\n",
        "k = int(input())\n",
        "x = list(combinations(n_letters,k))\n",
        "pro_n = 0\n",
        "for i in x:\n",
        "    if \"a\" in i:\n",
        "        pro_n+=1\n",
        "probability_of_shown_letter = pro_n / len(x)\n",
        "print(probability_of_shown_letter)"
      ],
      "metadata": {
        "colab": {
          "base_uri": "https://localhost:8080/"
        },
        "id": "4OOL3LtWDiiC",
        "outputId": "d4412cb8-8dfe-44eb-9e0d-9f70d48f0d07"
      },
      "execution_count": null,
      "outputs": [
        {
          "output_type": "stream",
          "name": "stdout",
          "text": [
            "4\n",
            "a a c d\n",
            "2\n",
            "0.8333333333333334\n"
          ]
        }
      ]
    },
    {
      "cell_type": "markdown",
      "source": [
        "Maximize It!"
      ],
      "metadata": {
        "id": "oOQeUQyIDi7p"
      }
    },
    {
      "cell_type": "code",
      "source": [
        "from itertools import *\n",
        "\n",
        "K, M = map(int, input().split())\n",
        "N = []\n",
        "\n",
        "for _ in range(K):\n",
        "    N.append(map(int, input().split()[1:]))\n",
        "MAX = 0\n",
        "for i in product(*N):\n",
        "    MAX = max(sum(map(lambda x: x**2, i))%M, MAX)\n",
        "\n",
        "print(MAX)\n"
      ],
      "metadata": {
        "colab": {
          "base_uri": "https://localhost:8080/"
        },
        "id": "1njVBNbADjY1",
        "outputId": "dcf16460-b3d6-43b0-d4f6-26e48e7c6904"
      },
      "execution_count": null,
      "outputs": [
        {
          "output_type": "stream",
          "name": "stdout",
          "text": [
            "3 1000\n",
            "2 5 4\n",
            "3 7 8 9\n",
            "5 5 7 8 9 10\n",
            "206\n"
          ]
        }
      ]
    }
  ],
  "metadata": {
    "colab": {
      "collapsed_sections": [],
      "name": "S5-T1.ipynb",
      "provenance": []
    },
    "kernelspec": {
      "display_name": "Python 3",
      "language": "python",
      "name": "python3"
    },
    "language_info": {
      "codemirror_mode": {
        "name": "ipython",
        "version": 3
      },
      "file_extension": ".py",
      "mimetype": "text/x-python",
      "name": "python",
      "nbconvert_exporter": "python",
      "pygments_lexer": "ipython3",
      "version": "3.6.7"
    }
  },
  "nbformat": 4,
  "nbformat_minor": 0
}