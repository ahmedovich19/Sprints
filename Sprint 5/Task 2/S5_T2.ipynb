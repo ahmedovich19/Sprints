{
  "cells": [
    {
      "cell_type": "markdown",
      "source": [
        "Word Order"
      ],
      "metadata": {
        "id": "6JddTXx0HwkR"
      }
    },
    {
      "cell_type": "code",
      "source": [
        "# Enter your code here. Read input from STDIN. Print output to STDOUT\n",
        "from collections import defaultdict\n",
        "\n",
        "dic = defaultdict(list)\n",
        "n = int(input())\n",
        "w_list =list()\n",
        "for i in range(n):\n",
        "    w_list.append(input())\n",
        "w_set=set(w_list) \n",
        "\n",
        "dis_occu_numb=0\n",
        "for i in range(len(w_list)):\n",
        "    \n",
        "        if w_list[i] == w_list[0]:\n",
        "            dic[w_list[i]].append(1)\n",
        "        else:\n",
        "            dic[w_list[i]].append(1)\n",
        "print(len(dic))\n",
        "for k,v in dic.items():\n",
        "    print(len(v),end=\" \")\n",
        "   \n"
      ],
      "metadata": {
        "colab": {
          "base_uri": "https://localhost:8080/"
        },
        "id": "uyxgMK6DHxKo",
        "outputId": "3f92596e-24d6-4724-c28b-abeb5f92af08"
      },
      "execution_count": 4,
      "outputs": [
        {
          "output_type": "stream",
          "name": "stdout",
          "text": [
            "4\n",
            "bcdef\n",
            "abcdefg\n",
            "bcde\n",
            "bcdef\n",
            "3\n",
            "2 1 1 "
          ]
        }
      ]
    },
    {
      "cell_type": "markdown",
      "source": [
        "Company Logo"
      ],
      "metadata": {
        "id": "57-tEtYwHxeq"
      }
    },
    {
      "cell_type": "code",
      "source": [
        "#!/bin/python3\n",
        "\n",
        "import math\n",
        "import os\n",
        "import random\n",
        "import re\n",
        "import sys\n",
        "from collections import Counter\n",
        "from operator import itemgetter\n",
        "\n",
        "if __name__ == '__main__':\n",
        "    s = sorted(input().strip())\n",
        "    s_counter =Counter(s).most_common()\n",
        "    for i in range(0, 3):\n",
        "        print(s_counter[i][0], s_counter[i][1])\n",
        "    \n"
      ],
      "metadata": {
        "colab": {
          "base_uri": "https://localhost:8080/"
        },
        "id": "I4tGBdjqHx40",
        "outputId": "6138d6b3-7f91-4ed3-e962-3e2ac67673ec"
      },
      "execution_count": 5,
      "outputs": [
        {
          "output_type": "stream",
          "name": "stdout",
          "text": [
            "aabbbccde\n",
            "b 3\n",
            "a 2\n",
            "c 2\n"
          ]
        }
      ]
    }
  ],
  "metadata": {
    "colab": {
      "collapsed_sections": [],
      "name": "S5-T2.ipynb",
      "provenance": []
    },
    "kernelspec": {
      "display_name": "Python 3",
      "language": "python",
      "name": "python3"
    },
    "language_info": {
      "codemirror_mode": {
        "name": "ipython",
        "version": 3
      },
      "file_extension": ".py",
      "mimetype": "text/x-python",
      "name": "python",
      "nbconvert_exporter": "python",
      "pygments_lexer": "ipython3",
      "version": "3.6.7"
    }
  },
  "nbformat": 4,
  "nbformat_minor": 0
}